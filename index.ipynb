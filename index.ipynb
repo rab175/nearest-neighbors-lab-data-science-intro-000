{
 "cells": [
  {
   "cell_type": "markdown",
   "metadata": {},
   "source": [
    "# Nearest Neighbors Lab"
   ]
  },
  {
   "cell_type": "markdown",
   "metadata": {},
   "source": [
    "### Introduction\n",
    "\n",
    "In this lab, you apply nearest neighbors technique to help a taxi company predict the length of their rides.  Imagine that we are hired to consult for LiftOff, a limo and taxi service that is just opening up in NYC.  Liftoff wants it's taxi drivers to target longer rides, as the longer the ride the more money it makes.  LiftOff has the following theory:\n",
    "\n",
    "* the pickup location of a taxi ride can help predict the length of the ride.  \n",
    "\n",
    "\n",
    "\n",
    "LiftOff asks us to do some analysis to write a function that will allow it to **predict the length of a taxi ride for any given location **.\n",
    "\n",
    "Our technique will be the following:\n",
    "  * **Collect** Obtain the data containing all of the taxi information, and only select the attributes of taxi trips that we need \n",
    "  * ** Explore ** Examine the attributes of our data, and plot some of our data on a map\n",
    "  * ** Train ** Write our nearest neighbors formula, and change the number of nearby trips to predict the length of a new trip\n",
    "  * ** Predict ** Use our function to predict trip lengths of new locations"
   ]
  },
  {
   "cell_type": "markdown",
   "metadata": {},
   "source": [
    "### Collect and Explore the data"
   ]
  },
  {
   "cell_type": "markdown",
   "metadata": {},
   "source": [
    "#### Collect the Data"
   ]
  },
  {
   "cell_type": "markdown",
   "metadata": {},
   "source": [
    "Luckily for us, [NYC Open Data](https://opendata.cityofnewyork.us/) collects information about NYC taxi trips and provides this data on [its website](https://data.cityofnewyork.us/Transportation/2014-Yellow-Taxi-Trip-Data/gn7m-em8n)."
   ]
  },
  {
   "cell_type": "markdown",
   "metadata": {},
   "source": [
    "![](./nyc-taxi.png)"
   ]
  },
  {
   "cell_type": "markdown",
   "metadata": {},
   "source": [
    "For your reading pleasure, the data has already been downloaded into the [trips.json](https://github.com/learn-co-curriculum/nearest-neighbors-lab/blob/master/trips.json) file in this lab which you can find here.  We'll use Python's `json` library to take the data from the `trips.json` file and store it as a variable in our notebook."
   ]
  },
  {
   "cell_type": "code",
   "execution_count": 1,
   "metadata": {},
   "outputs": [],
   "source": [
    "import json\n",
    "# First, read the file\n",
    "trips_file = open('trips.json')\n",
    "# Then, convert contents to list of dictionaries \n",
    "trips = json.load(trips_file)"
   ]
  },
  {
   "cell_type": "markdown",
   "metadata": {},
   "source": [
    "> Press shift + enter"
   ]
  },
  {
   "cell_type": "markdown",
   "metadata": {},
   "source": [
    "#### Explore the data"
   ]
  },
  {
   "cell_type": "markdown",
   "metadata": {},
   "source": [
    "The next step is to explore the data.  First, let's see how many trips we have."
   ]
  },
  {
   "cell_type": "code",
   "execution_count": 2,
   "metadata": {},
   "outputs": [
    {
     "data": {
      "text/plain": [
       "1000"
      ]
     },
     "execution_count": 2,
     "metadata": {},
     "output_type": "execute_result"
    }
   ],
   "source": [
    "len(trips)"
   ]
  },
  {
   "cell_type": "markdown",
   "metadata": {},
   "source": [
    "Not bad at all.  Now let's see what each individual trip looks like.  Each trip is a dictionary, so we can see the attributes of each trip with the `keys` function."
   ]
  },
  {
   "cell_type": "code",
   "execution_count": 3,
   "metadata": {
    "scrolled": true
   },
   "outputs": [
    {
     "data": {
      "text/plain": [
       "dict_keys(['dropoff_datetime', 'dropoff_latitude', 'dropoff_longitude', 'fare_amount', 'imp_surcharge', 'mta_tax', 'passenger_count', 'payment_type', 'pickup_datetime', 'pickup_latitude', 'pickup_longitude', 'rate_code', 'tip_amount', 'tolls_amount', 'total_amount', 'trip_distance', 'vendor_id'])"
      ]
     },
     "execution_count": 3,
     "metadata": {},
     "output_type": "execute_result"
    }
   ],
   "source": [
    "trips[0].keys()"
   ]
  },
  {
   "cell_type": "markdown",
   "metadata": {},
   "source": [
    "#### Limit our data"
   ]
  },
  {
   "cell_type": "markdown",
   "metadata": {},
   "source": [
    "Ok, now that we have explored some of our data, let's begin to think through what data is relevant for our task."
   ]
  },
  {
   "cell_type": "markdown",
   "metadata": {
    "collapsed": true
   },
   "source": [
    "Remember that our task is to **use the trip location to predict the length of a trip**.  So let's select the `pickup_latitude`, `pickup_longitude`, and `trip_distance` from each trip.  That will give us the trip location and related `trip_distance` for each trip.  Then based on these **actual** trip distances we can use nearest neighbors to predict an **expected** trip distance for a trip, provided an **actual** location."
   ]
  },
  {
   "cell_type": "markdown",
   "metadata": {},
   "source": [
    "** Add in about trip distance ** "
   ]
  },
  {
   "cell_type": "markdown",
   "metadata": {},
   "source": [
    "Write a function called `parse_trips(trips)` that returns a list of the trips with only the following attributes: \n",
    "* `trip_distance`\n",
    "* `pickup_latitude`\n",
    "* `pickup_longitude`"
   ]
  },
  {
   "cell_type": "code",
   "execution_count": 4,
   "metadata": {},
   "outputs": [],
   "source": [
    "def parse_trips(trips):\n",
    "    parsed_trips = list(map(lambda trip: dict(trip_distance=trip['trip_distance'], pickup_latitude=trip['pickup_latitude'], pickup_longitude=trip['pickup_longitude']), trips))\n",
    "    \n",
    "    return parsed_trips\n",
    "\n"
   ]
  },
  {
   "cell_type": "code",
   "execution_count": 5,
   "metadata": {},
   "outputs": [
    {
     "data": {
      "text/plain": [
       "{'trip_distance': '18.379999999999999',\n",
       " 'pickup_latitude': '40.64499',\n",
       " 'pickup_longitude': '-73.781149999999997'}"
      ]
     },
     "execution_count": 5,
     "metadata": {},
     "output_type": "execute_result"
    }
   ],
   "source": [
    "parsed_trips = parse_trips(trips)\n",
    "parsed_trips and parsed_trips[0]\n",
    "\n",
    "# {'pickup_latitude': '40.64499',\n",
    "#  'pickup_longitude': '-73.78115',\n",
    "#  'trip_distance': '18.38'}"
   ]
  },
  {
   "cell_type": "markdown",
   "metadata": {},
   "source": [
    "Now, there's just one change to make.  If you look at one of the trips, all of the values are strings.  Let's change them to be floats."
   ]
  },
  {
   "cell_type": "code",
   "execution_count": 6,
   "metadata": {},
   "outputs": [],
   "source": [
    "def float_values(trips):\n",
    "    float_trips = trips\n",
    "    for trip in float_trips:\n",
    "        for key, value in trip.items():\n",
    "            trip[key] = float(value)\n",
    "    return float_trips\n",
    "            "
   ]
  },
  {
   "cell_type": "code",
   "execution_count": 7,
   "metadata": {},
   "outputs": [],
   "source": [
    "cleaned_trips = float_values(parsed_trips)\n"
   ]
  },
  {
   "cell_type": "code",
   "execution_count": 8,
   "metadata": {},
   "outputs": [
    {
     "data": {
      "text/plain": [
       "{'trip_distance': 18.38,\n",
       " 'pickup_latitude': 40.64499,\n",
       " 'pickup_longitude': -73.78115}"
      ]
     },
     "execution_count": 8,
     "metadata": {},
     "output_type": "execute_result"
    }
   ],
   "source": [
    "cleaned_trips[0]\n",
    "\n",
    "# {'pickup_latitude': 40.64499,\n",
    "#  'pickup_longitude': -73.78115,\n",
    "#  'trip_distance': 18.38}"
   ]
  },
  {
   "cell_type": "markdown",
   "metadata": {},
   "source": [
    "### Exploring the Data"
   ]
  },
  {
   "cell_type": "markdown",
   "metadata": {},
   "source": [
    "Now that we have paired down our data, let's get a sense of our trip data.  We can use the `folium` Python library to plot a map of Manhattan, and our data.  First we must import `folium`, and then use the `Map` function to pass through a `location`, and `zoom_start`.  If a map isn't showing up below, copy and paste the command `pip install -r requirements.txt` into your terminal to install `folium` then try again."
   ]
  },
  {
   "cell_type": "code",
   "execution_count": 9,
   "metadata": {},
   "outputs": [],
   "source": [
    "import folium\n",
    "manhattan_map = folium.Map(location=[40.7589, -73.9851], zoom_start=11)"
   ]
  },
  {
   "cell_type": "code",
   "execution_count": 10,
   "metadata": {
    "scrolled": true
   },
   "outputs": [
    {
     "data": {
      "text/html": [
       "<div style=\"width:100%;\"><div style=\"position:relative;width:100%;height:0;padding-bottom:60%;\"><iframe src=\"data:text/html;charset=utf-8;base64,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\" style=\"position:absolute;width:100%;height:100%;left:0;top:0;border:none !important;\" allowfullscreen webkitallowfullscreen mozallowfullscreen></iframe></div></div>"
      ],
      "text/plain": [
       "<folium.folium.Map at 0x7fe10766a6a0>"
      ]
     },
     "execution_count": 10,
     "metadata": {},
     "output_type": "execute_result"
    }
   ],
   "source": [
    "manhattan_map"
   ]
  },
  {
   "cell_type": "markdown",
   "metadata": {},
   "source": [
    "Ok, now let's see how we could add a dot to mark a specific location.  We'll start with Times Square."
   ]
  },
  {
   "cell_type": "code",
   "execution_count": 11,
   "metadata": {},
   "outputs": [
    {
     "data": {
      "text/plain": [
       "<folium.vector_layers.CircleMarker at 0x7fe0d5b26c50>"
      ]
     },
     "execution_count": 11,
     "metadata": {},
     "output_type": "execute_result"
    }
   ],
   "source": [
    "marker = folium.CircleMarker(location = [40.7589, -73.9851], radius=10)\n",
    "marker.add_to(manhattan_map)"
   ]
  },
  {
   "cell_type": "markdown",
   "metadata": {},
   "source": [
    "Above, we first create a marker.  Then we add that circle marker to the `manhattan_map` we created earlier. "
   ]
  },
  {
   "cell_type": "code",
   "execution_count": 12,
   "metadata": {
    "scrolled": false
   },
   "outputs": [
    {
     "data": {
      "text/html": [
       "<div style=\"width:100%;\"><div style=\"position:relative;width:100%;height:0;padding-bottom:60%;\"><iframe src=\"data:text/html;charset=utf-8;base64,PCFET0NUWVBFIGh0bWw+CjxoZWFkPiAgICAKICAgIDxtZXRhIGh0dHAtZXF1aXY9ImNvbnRlbnQtdHlwZSIgY29udGVudD0idGV4dC9odG1sOyBjaGFyc2V0PVVURi04IiAvPgogICAgPHNjcmlwdD5MX1BSRUZFUl9DQU5WQVM9ZmFsc2U7IExfTk9fVE9VQ0g9ZmFsc2U7IExfRElTQUJMRV8zRD1mYWxzZTs8L3NjcmlwdD4KICAgIDxzY3JpcHQgc3JjPSJodHRwczovL2Nkbi5qc2RlbGl2ci5uZXQvbnBtL2xlYWZsZXRAMS40LjAvZGlzdC9sZWFmbGV0LmpzIj48L3NjcmlwdD4KICAgIDxzY3JpcHQgc3JjPSJodHRwczovL2NvZGUuanF1ZXJ5LmNvbS9qcXVlcnktMS4xMi40Lm1pbi5qcyI+PC9zY3JpcHQ+CiAgICA8c2NyaXB0IHNyYz0iaHR0cHM6Ly9tYXhjZG4uYm9vdHN0cmFwY2RuLmNvbS9ib290c3RyYXAvMy4yLjAvanMvYm9vdHN0cmFwLm1pbi5qcyI+PC9zY3JpcHQ+CiAgICA8c2NyaXB0IHNyYz0iaHR0cHM6Ly9jZG5qcy5jbG91ZGZsYXJlLmNvbS9hamF4L2xpYnMvTGVhZmxldC5hd2Vzb21lLW1hcmtlcnMvMi4wLjIvbGVhZmxldC5hd2Vzb21lLW1hcmtlcnMuanMiPjwvc2NyaXB0PgogICAgPGxpbmsgcmVsPSJzdHlsZXNoZWV0IiBocmVmPSJodHRwczovL2Nkbi5qc2RlbGl2ci5uZXQvbnBtL2xlYWZsZXRAMS40LjAvZGlzdC9sZWFmbGV0LmNzcyIvPgogICAgPGxpbmsgcmVsPSJzdHlsZXNoZWV0IiBocmVmPSJodHRwczovL21heGNkbi5ib290c3RyYXBjZG4uY29tL2Jvb3RzdHJhcC8zLjIuMC9jc3MvYm9vdHN0cmFwLm1pbi5jc3MiLz4KICAgIDxsaW5rIHJlbD0ic3R5bGVzaGVldCIgaHJlZj0iaHR0cHM6Ly9tYXhjZG4uYm9vdHN0cmFwY2RuLmNvbS9ib290c3RyYXAvMy4yLjAvY3NzL2Jvb3RzdHJhcC10aGVtZS5taW4uY3NzIi8+CiAgICA8bGluayByZWw9InN0eWxlc2hlZXQiIGhyZWY9Imh0dHBzOi8vbWF4Y2RuLmJvb3RzdHJhcGNkbi5jb20vZm9udC1hd2Vzb21lLzQuNi4zL2Nzcy9mb250LWF3ZXNvbWUubWluLmNzcyIvPgogICAgPGxpbmsgcmVsPSJzdHlsZXNoZWV0IiBocmVmPSJodHRwczovL2NkbmpzLmNsb3VkZmxhcmUuY29tL2FqYXgvbGlicy9MZWFmbGV0LmF3ZXNvbWUtbWFya2Vycy8yLjAuMi9sZWFmbGV0LmF3ZXNvbWUtbWFya2Vycy5jc3MiLz4KICAgIDxsaW5rIHJlbD0ic3R5bGVzaGVldCIgaHJlZj0iaHR0cHM6Ly9yYXdjZG4uZ2l0aGFjay5jb20vcHl0aG9uLXZpc3VhbGl6YXRpb24vZm9saXVtL21hc3Rlci9mb2xpdW0vdGVtcGxhdGVzL2xlYWZsZXQuYXdlc29tZS5yb3RhdGUuY3NzIi8+CiAgICA8c3R5bGU+aHRtbCwgYm9keSB7d2lkdGg6IDEwMCU7aGVpZ2h0OiAxMDAlO21hcmdpbjogMDtwYWRkaW5nOiAwO308L3N0eWxlPgogICAgPHN0eWxlPiNtYXAge3Bvc2l0aW9uOmFic29sdXRlO3RvcDowO2JvdHRvbTowO3JpZ2h0OjA7bGVmdDowO308L3N0eWxlPgogICAgCiAgICA8bWV0YSBuYW1lPSJ2aWV3cG9ydCIgY29udGVudD0id2lkdGg9ZGV2aWNlLXdpZHRoLAogICAgICAgIGluaXRpYWwtc2NhbGU9MS4wLCBtYXhpbXVtLXNjYWxlPTEuMCwgdXNlci1zY2FsYWJsZT1ubyIgLz4KICAgIDxzdHlsZT4jbWFwXzE2MjQyYjhkZjExNzRlMDg4NTE0NTZmOWNhYzQzYmNkIHsKICAgICAgICBwb3NpdGlvbjogcmVsYXRpdmU7CiAgICAgICAgd2lkdGg6IDEwMC4wJTsKICAgICAgICBoZWlnaHQ6IDEwMC4wJTsKICAgICAgICBsZWZ0OiAwLjAlOwogICAgICAgIHRvcDogMC4wJTsKICAgICAgICB9CiAgICA8L3N0eWxlPgo8L2hlYWQ+Cjxib2R5PiAgICAKICAgIAogICAgPGRpdiBjbGFzcz0iZm9saXVtLW1hcCIgaWQ9Im1hcF8xNjI0MmI4ZGYxMTc0ZTA4ODUxNDU2ZjljYWM0M2JjZCIgPjwvZGl2Pgo8L2JvZHk+CjxzY3JpcHQ+ICAgIAogICAgCiAgICAKICAgICAgICB2YXIgYm91bmRzID0gbnVsbDsKICAgIAoKICAgIHZhciBtYXBfMTYyNDJiOGRmMTE3NGUwODg1MTQ1NmY5Y2FjNDNiY2QgPSBMLm1hcCgKICAgICAgICAnbWFwXzE2MjQyYjhkZjExNzRlMDg4NTE0NTZmOWNhYzQzYmNkJywgewogICAgICAgIGNlbnRlcjogWzQwLjc1ODksIC03My45ODUxXSwKICAgICAgICB6b29tOiAxMSwKICAgICAgICBtYXhCb3VuZHM6IGJvdW5kcywKICAgICAgICBsYXllcnM6IFtdLAogICAgICAgIHdvcmxkQ29weUp1bXA6IGZhbHNlLAogICAgICAgIGNyczogTC5DUlMuRVBTRzM4NTcsCiAgICAgICAgem9vbUNvbnRyb2w6IHRydWUsCiAgICAgICAgfSk7CgoKICAgIAogICAgdmFyIHRpbGVfbGF5ZXJfNWE4ZjE4NWIzY2RmNDQ4MzkxNGJkNGRjNDYyNTNmYjEgPSBMLnRpbGVMYXllcigKICAgICAgICAnaHR0cHM6Ly97c30udGlsZS5vcGVuc3RyZWV0bWFwLm9yZy97en0ve3h9L3t5fS5wbmcnLAogICAgICAgIHsKICAgICAgICAiYXR0cmlidXRpb24iOiBudWxsLAogICAgICAgICJkZXRlY3RSZXRpbmEiOiBmYWxzZSwKICAgICAgICAibWF4TmF0aXZlWm9vbSI6IDE4LAogICAgICAgICJtYXhab29tIjogMTgsCiAgICAgICAgIm1pblpvb20iOiAwLAogICAgICAgICJub1dyYXAiOiBmYWxzZSwKICAgICAgICAib3BhY2l0eSI6IDEsCiAgICAgICAgInN1YmRvbWFpbnMiOiAiYWJjIiwKICAgICAgICAidG1zIjogZmFsc2UKfSkuYWRkVG8obWFwXzE2MjQyYjhkZjExNzRlMDg4NTE0NTZmOWNhYzQzYmNkKTsKICAgIAogICAgICAgICAgICB2YXIgY2lyY2xlX21hcmtlcl9hNmEzNGMwMjY3NTE0MTZlYjU1YmZmZjk4Y2Q2MGNkMCA9IEwuY2lyY2xlTWFya2VyKAogICAgICAgICAgICAgICAgWzQwLjc1ODksIC03My45ODUxXSwKICAgICAgICAgICAgICAgIHsKICAiYnViYmxpbmdNb3VzZUV2ZW50cyI6IHRydWUsCiAgImNvbG9yIjogIiMzMzg4ZmYiLAogICJkYXNoQXJyYXkiOiBudWxsLAogICJkYXNoT2Zmc2V0IjogbnVsbCwKICAiZmlsbCI6IGZhbHNlLAogICJmaWxsQ29sb3IiOiAiIzMzODhmZiIsCiAgImZpbGxPcGFjaXR5IjogMC4yLAogICJmaWxsUnVsZSI6ICJldmVub2RkIiwKICAibGluZUNhcCI6ICJyb3VuZCIsCiAgImxpbmVKb2luIjogInJvdW5kIiwKICAib3BhY2l0eSI6IDEuMCwKICAicmFkaXVzIjogMTAsCiAgInN0cm9rZSI6IHRydWUsCiAgIndlaWdodCI6IDMKfQogICAgICAgICAgICAgICAgKQogICAgICAgICAgICAgICAgLmFkZFRvKG1hcF8xNjI0MmI4ZGYxMTc0ZTA4ODUxNDU2ZjljYWM0M2JjZCk7CiAgICAgICAgICAgIAo8L3NjcmlwdD4=\" style=\"position:absolute;width:100%;height:100%;left:0;top:0;border:none !important;\" allowfullscreen webkitallowfullscreen mozallowfullscreen></iframe></div></div>"
      ],
      "text/plain": [
       "<folium.folium.Map at 0x7fe10766a6a0>"
      ]
     },
     "execution_count": 12,
     "metadata": {},
     "output_type": "execute_result"
    }
   ],
   "source": [
    "manhattan_map"
   ]
  },
  {
   "cell_type": "markdown",
   "metadata": {},
   "source": [
    "Do you see that blue dot near Time's Square?  That is our marker.  \n",
    "\n",
    "So now that we can plot one marker on a map, we should have a sense of how we can plot many markers on a map to display our taxi ride data.  We simply plot a map, and then we add a marker for each location of a taxi trip.\n",
    "\n",
    "Now let's write some functions to allow us to plot maps and add markers a little more easily.  "
   ]
  },
  {
   "cell_type": "markdown",
   "metadata": {},
   "source": [
    "#### Writing some map plotting functions"
   ]
  },
  {
   "cell_type": "markdown",
   "metadata": {},
   "source": [
    "As a first step towards this, note that the functions to create both a marker and map each take in a location as two element list, representing the latitude and longitude values.  Take another look:\n",
    "\n",
    "```python\n",
    "marker = folium.CircleMarker(location = [40.7589, -73.9851])\n",
    "manhattan_map = folium.Map(location=[40.7589, -73.9851])\n",
    "```\n",
    "\n",
    "So let's write a function called to create this two element list from a trip.  Write a function called `location` that  takes in a trip as an argument and returns a list where the first element is the latitude and the second is the longitude.  Remember that a location looks like the following:"
   ]
  },
  {
   "cell_type": "code",
   "execution_count": 13,
   "metadata": {},
   "outputs": [
    {
     "data": {
      "text/plain": [
       "{'pickup_latitude': 40.64499,\n",
       " 'pickup_longitude': -73.78115,\n",
       " 'trip_distance': 18.38}"
      ]
     },
     "execution_count": 13,
     "metadata": {},
     "output_type": "execute_result"
    }
   ],
   "source": [
    "first_trip = {'pickup_latitude': 40.64499, 'pickup_longitude': -73.78115,  'trip_distance': 18.38}\n",
    "first_trip"
   ]
  },
  {
   "cell_type": "code",
   "execution_count": 15,
   "metadata": {},
   "outputs": [],
   "source": [
    "def location(trip):\n",
    "    lat_long = trip['pickup_latitude'], trip['pickup_longitude']\n",
    "    return list(lat_long)"
   ]
  },
  {
   "cell_type": "code",
   "execution_count": 16,
   "metadata": {},
   "outputs": [
    {
     "data": {
      "text/plain": [
       "[40.64499, -73.78115]"
      ]
     },
     "execution_count": 16,
     "metadata": {},
     "output_type": "execute_result"
    }
   ],
   "source": [
    "first_location = location(first_trip) # [40.64499, -73.78115]\n",
    "first_location # [40.64499, -73.78115]"
   ]
  },
  {
   "cell_type": "markdown",
   "metadata": {},
   "source": [
    "Ok, now that we can turn a trip into a location, let's turn a location into a marker.  Write a function called `to_marker` that takes in a location (in the form of a list) as an argument, and returns a folium `circleMarker` for that location.  The radius of the marker should always equal 6."
   ]
  },
  {
   "cell_type": "code",
   "execution_count": 17,
   "metadata": {},
   "outputs": [],
   "source": [
    "def to_marker(location):\n",
    "    marker = folium.CircleMarker(location, radius = 6)\n",
    "    return marker"
   ]
  },
  {
   "cell_type": "code",
   "execution_count": 18,
   "metadata": {},
   "outputs": [
    {
     "data": {
      "text/plain": [
       "6"
      ]
     },
     "execution_count": 18,
     "metadata": {},
     "output_type": "execute_result"
    }
   ],
   "source": [
    "import json\n",
    "times_square_marker = to_marker([40.7589, -73.9851])\n",
    "\n",
    "times_square_marker and times_square_marker.location # [40.7589, -73.9851]\n",
    "times_square_marker and json.loads(times_square_marker.options)['radius'] # 6"
   ]
  },
  {
   "cell_type": "markdown",
   "metadata": {},
   "source": [
    "Ok, now that we know how to produce a single marker, let's write a function to produce lots.  We can write a function called `markers_from_trips` that takes in a list of trips, and returns a marker object for each trip.  "
   ]
  },
  {
   "cell_type": "code",
   "execution_count": 19,
   "metadata": {},
   "outputs": [],
   "source": [
    "def markers_from_trips(trips):\n",
    "    return list(map(lambda trip: to_marker(location(trip)),trips))"
   ]
  },
  {
   "cell_type": "code",
   "execution_count": 20,
   "metadata": {},
   "outputs": [
    {
     "data": {
      "text/plain": [
       "[<folium.vector_layers.CircleMarker at 0x7efe6dd06a58>,\n",
       " <folium.vector_layers.CircleMarker at 0x7efe6dd06940>,\n",
       " <folium.vector_layers.CircleMarker at 0x7efe6dd06fd0>,\n",
       " <folium.vector_layers.CircleMarker at 0x7efe6dd06da0>,\n",
       " <folium.vector_layers.CircleMarker at 0x7efe6dd06f28>,\n",
       " <folium.vector_layers.CircleMarker at 0x7efe6dd06860>,\n",
       " <folium.vector_layers.CircleMarker at 0x7efe6dd06b00>,\n",
       " <folium.vector_layers.CircleMarker at 0x7efe6dd06908>,\n",
       " <folium.vector_layers.CircleMarker at 0x7efe6dd066a0>,\n",
       " <folium.vector_layers.CircleMarker at 0x7efe6dd06ac8>,\n",
       " <folium.vector_layers.CircleMarker at 0x7efe6dd06c88>,\n",
       " <folium.vector_layers.CircleMarker at 0x7efe6dd06828>,\n",
       " <folium.vector_layers.CircleMarker at 0x7efe6dd39160>,\n",
       " <folium.vector_layers.CircleMarker at 0x7efe6dd06400>,\n",
       " <folium.vector_layers.CircleMarker at 0x7efe6dd067f0>,\n",
       " <folium.vector_layers.CircleMarker at 0x7efe6dd06cc0>,\n",
       " <folium.vector_layers.CircleMarker at 0x7efe6dd06ba8>,\n",
       " <folium.vector_layers.CircleMarker at 0x7efe6dd06a20>,\n",
       " <folium.vector_layers.CircleMarker at 0x7efe6dd06e10>,\n",
       " <folium.vector_layers.CircleMarker at 0x7efe6dd0fc50>,\n",
       " <folium.vector_layers.CircleMarker at 0x7efe6dd06e48>,\n",
       " <folium.vector_layers.CircleMarker at 0x7efe6dd066d8>,\n",
       " <folium.vector_layers.CircleMarker at 0x7efe6dd39278>,\n",
       " <folium.vector_layers.CircleMarker at 0x7efe6dd39048>,\n",
       " <folium.vector_layers.CircleMarker at 0x7efe6dd393c8>,\n",
       " <folium.vector_layers.CircleMarker at 0x7efe6dd39208>,\n",
       " <folium.vector_layers.CircleMarker at 0x7efe6dd396d8>,\n",
       " <folium.vector_layers.CircleMarker at 0x7efe6dd395f8>,\n",
       " <folium.vector_layers.CircleMarker at 0x7efe6dd39518>,\n",
       " <folium.vector_layers.CircleMarker at 0x7efe6dd39320>,\n",
       " <folium.vector_layers.CircleMarker at 0x7efe6dd39710>,\n",
       " <folium.vector_layers.CircleMarker at 0x7efe6dd394a8>,\n",
       " <folium.vector_layers.CircleMarker at 0x7efe6dd39ba8>,\n",
       " <folium.vector_layers.CircleMarker at 0x7efe6dd39c50>,\n",
       " <folium.vector_layers.CircleMarker at 0x7efe6dd065f8>,\n",
       " <folium.vector_layers.CircleMarker at 0x7efe6dd06470>,\n",
       " <folium.vector_layers.CircleMarker at 0x7efe6dd06c18>,\n",
       " <folium.vector_layers.CircleMarker at 0x7efe6dd06cf8>,\n",
       " <folium.vector_layers.CircleMarker at 0x7efe6dd06668>,\n",
       " <folium.vector_layers.CircleMarker at 0x7efe6dd065c0>,\n",
       " <folium.vector_layers.CircleMarker at 0x7efe6dd39b38>,\n",
       " <folium.vector_layers.CircleMarker at 0x7efe6dd392e8>,\n",
       " <folium.vector_layers.CircleMarker at 0x7efe6dd39588>,\n",
       " <folium.vector_layers.CircleMarker at 0x7efe6dd39438>,\n",
       " <folium.vector_layers.CircleMarker at 0x7efe6dd39550>,\n",
       " <folium.vector_layers.CircleMarker at 0x7efe6dd391d0>,\n",
       " <folium.vector_layers.CircleMarker at 0x7efe6dd390b8>,\n",
       " <folium.vector_layers.CircleMarker at 0x7efe6dd39cf8>,\n",
       " <folium.vector_layers.CircleMarker at 0x7efe6dd39b00>,\n",
       " <folium.vector_layers.CircleMarker at 0x7efe6dd39be0>,\n",
       " <folium.vector_layers.CircleMarker at 0x7efe6dd39e48>,\n",
       " <folium.vector_layers.CircleMarker at 0x7efe6dd39dd8>,\n",
       " <folium.vector_layers.CircleMarker at 0x7efe6dd39ef0>,\n",
       " <folium.vector_layers.CircleMarker at 0x7efe6dd39828>,\n",
       " <folium.vector_layers.CircleMarker at 0x7efe6dd39978>,\n",
       " <folium.vector_layers.CircleMarker at 0x7efe6dd399b0>,\n",
       " <folium.vector_layers.CircleMarker at 0x7efe6dd06f98>,\n",
       " <folium.vector_layers.CircleMarker at 0x7efe6dd06b70>,\n",
       " <folium.vector_layers.CircleMarker at 0x7efe6dd068d0>,\n",
       " <folium.vector_layers.CircleMarker at 0x7efe6dd06550>,\n",
       " <folium.vector_layers.CircleMarker at 0x7efe6dd39e80>,\n",
       " <folium.vector_layers.CircleMarker at 0x7efe6dd39da0>,\n",
       " <folium.vector_layers.CircleMarker at 0x7efe6dd39ac8>,\n",
       " <folium.vector_layers.CircleMarker at 0x7efe6dd39470>,\n",
       " <folium.vector_layers.CircleMarker at 0x7efe6dd39240>,\n",
       " <folium.vector_layers.CircleMarker at 0x7efe6dd39358>,\n",
       " <folium.vector_layers.CircleMarker at 0x7efe6dd394e0>,\n",
       " <folium.vector_layers.CircleMarker at 0x7efe6dd39748>,\n",
       " <folium.vector_layers.CircleMarker at 0x7efe6dd39668>,\n",
       " <folium.vector_layers.CircleMarker at 0x7efe6dd39f98>,\n",
       " <folium.vector_layers.CircleMarker at 0x7efe6dd39908>,\n",
       " <folium.vector_layers.CircleMarker at 0x7efe6dd395c0>,\n",
       " <folium.vector_layers.CircleMarker at 0x7efe6dd39fd0>,\n",
       " <folium.vector_layers.CircleMarker at 0x7efe6dcd00f0>,\n",
       " <folium.vector_layers.CircleMarker at 0x7efe6dcd0208>,\n",
       " <folium.vector_layers.CircleMarker at 0x7efe6dcd02b0>,\n",
       " <folium.vector_layers.CircleMarker at 0x7efe6dcd0358>,\n",
       " <folium.vector_layers.CircleMarker at 0x7efe6dcd0400>,\n",
       " <folium.vector_layers.CircleMarker at 0x7efe6dd399e8>,\n",
       " <folium.vector_layers.CircleMarker at 0x7efe6dd39eb8>,\n",
       " <folium.vector_layers.CircleMarker at 0x7efe6dd39128>,\n",
       " <folium.vector_layers.CircleMarker at 0x7efe6dd397b8>,\n",
       " <folium.vector_layers.CircleMarker at 0x7efe6dd39e10>,\n",
       " <folium.vector_layers.CircleMarker at 0x7efe6dd39d30>,\n",
       " <folium.vector_layers.CircleMarker at 0x7efe6dd39f60>,\n",
       " <folium.vector_layers.CircleMarker at 0x7efe6dd39898>,\n",
       " <folium.vector_layers.CircleMarker at 0x7efe6dd398d0>,\n",
       " <folium.vector_layers.CircleMarker at 0x7efe6dd06ef0>,\n",
       " <folium.vector_layers.CircleMarker at 0x7efe6dd06e80>,\n",
       " <folium.vector_layers.CircleMarker at 0x7efe6dcd00b8>,\n",
       " <folium.vector_layers.CircleMarker at 0x7efe6dcd0080>,\n",
       " <folium.vector_layers.CircleMarker at 0x7efe6dcd04a8>,\n",
       " <folium.vector_layers.CircleMarker at 0x7efe6dcd0390>,\n",
       " <folium.vector_layers.CircleMarker at 0x7efe6dcd05c0>,\n",
       " <folium.vector_layers.CircleMarker at 0x7efe6dcd05f8>,\n",
       " <folium.vector_layers.CircleMarker at 0x7efe6dcd06a0>,\n",
       " <folium.vector_layers.CircleMarker at 0x7efe6dcd0748>,\n",
       " <folium.vector_layers.CircleMarker at 0x7efe6dcd07f0>,\n",
       " <folium.vector_layers.CircleMarker at 0x7efe6dcd0898>,\n",
       " <folium.vector_layers.CircleMarker at 0x7efe6dd069e8>,\n",
       " <folium.vector_layers.CircleMarker at 0x7efe6dd06dd8>,\n",
       " <folium.vector_layers.CircleMarker at 0x7efe6dd39390>,\n",
       " <folium.vector_layers.CircleMarker at 0x7efe6dd39780>,\n",
       " <folium.vector_layers.CircleMarker at 0x7efe6dd39cc0>,\n",
       " <folium.vector_layers.CircleMarker at 0x7efe6dd39198>,\n",
       " <folium.vector_layers.CircleMarker at 0x7efe6dd39400>,\n",
       " <folium.vector_layers.CircleMarker at 0x7efe6dcd0940>,\n",
       " <folium.vector_layers.CircleMarker at 0x7efe6dcd07b8>,\n",
       " <folium.vector_layers.CircleMarker at 0x7efe6dcd0668>,\n",
       " <folium.vector_layers.CircleMarker at 0x7efe6dcd0048>,\n",
       " <folium.vector_layers.CircleMarker at 0x7efe6dcd04e0>,\n",
       " <folium.vector_layers.CircleMarker at 0x7efe6dcd0198>,\n",
       " <folium.vector_layers.CircleMarker at 0x7efe6dcd0240>,\n",
       " <folium.vector_layers.CircleMarker at 0x7efe6dcd0828>,\n",
       " <folium.vector_layers.CircleMarker at 0x7efe6dcd0a58>,\n",
       " <folium.vector_layers.CircleMarker at 0x7efe6dcd0a90>,\n",
       " <folium.vector_layers.CircleMarker at 0x7efe6dcd0b38>,\n",
       " <folium.vector_layers.CircleMarker at 0x7efe6dcd0be0>,\n",
       " <folium.vector_layers.CircleMarker at 0x7efe6dcd0c88>,\n",
       " <folium.vector_layers.CircleMarker at 0x7efe6dcd0d30>,\n",
       " <folium.vector_layers.CircleMarker at 0x7efe6dcd0dd8>,\n",
       " <folium.vector_layers.CircleMarker at 0x7efe6dd397f0>,\n",
       " <folium.vector_layers.CircleMarker at 0x7efe6dd39860>,\n",
       " <folium.vector_layers.CircleMarker at 0x7efe6dd06eb8>,\n",
       " <folium.vector_layers.CircleMarker at 0x7efe6dd39940>,\n",
       " <folium.vector_layers.CircleMarker at 0x7efe6dd390f0>,\n",
       " <folium.vector_layers.CircleMarker at 0x7efe6dcd0ac8>,\n",
       " <folium.vector_layers.CircleMarker at 0x7efe6dcd09e8>,\n",
       " <folium.vector_layers.CircleMarker at 0x7efe6dcd03c8>,\n",
       " <folium.vector_layers.CircleMarker at 0x7efe6dcd0320>,\n",
       " <folium.vector_layers.CircleMarker at 0x7efe6dcd0160>,\n",
       " <folium.vector_layers.CircleMarker at 0x7efe6dcd0438>,\n",
       " <folium.vector_layers.CircleMarker at 0x7efe6dcd0128>,\n",
       " <folium.vector_layers.CircleMarker at 0x7efe6dcd0860>,\n",
       " <folium.vector_layers.CircleMarker at 0x7efe6dcd0e80>,\n",
       " <folium.vector_layers.CircleMarker at 0x7efe6dcd0d68>,\n",
       " <folium.vector_layers.CircleMarker at 0x7efe6dcd0f98>,\n",
       " <folium.vector_layers.CircleMarker at 0x7efe6dcd0fd0>,\n",
       " <folium.vector_layers.CircleMarker at 0x7efe6dcd0f28>,\n",
       " <folium.vector_layers.CircleMarker at 0x7efe6dce5128>,\n",
       " <folium.vector_layers.CircleMarker at 0x7efe6dce5208>,\n",
       " <folium.vector_layers.CircleMarker at 0x7efe6dce52b0>,\n",
       " <folium.vector_layers.CircleMarker at 0x7efe6dce5358>,\n",
       " <folium.vector_layers.CircleMarker at 0x7efe6dcd0da0>,\n",
       " <folium.vector_layers.CircleMarker at 0x7efe6dcd0f60>,\n",
       " <folium.vector_layers.CircleMarker at 0x7efe6dcd0518>,\n",
       " <folium.vector_layers.CircleMarker at 0x7efe6dcd0630>,\n",
       " <folium.vector_layers.CircleMarker at 0x7efe6dcd0b00>,\n",
       " <folium.vector_layers.CircleMarker at 0x7efe6dd06780>,\n",
       " <folium.vector_layers.CircleMarker at 0x7efe6dcd01d0>,\n",
       " <folium.vector_layers.CircleMarker at 0x7efe6dcd0588>,\n",
       " <folium.vector_layers.CircleMarker at 0x7efe6dcd0b70>,\n",
       " <folium.vector_layers.CircleMarker at 0x7efe6dd39630>,\n",
       " <folium.vector_layers.CircleMarker at 0x7efe6dd39f28>,\n",
       " <folium.vector_layers.CircleMarker at 0x7efe6dce5160>,\n",
       " <folium.vector_layers.CircleMarker at 0x7efe6dce5198>,\n",
       " <folium.vector_layers.CircleMarker at 0x7efe6dce5400>,\n",
       " <folium.vector_layers.CircleMarker at 0x7efe6dce52e8>,\n",
       " <folium.vector_layers.CircleMarker at 0x7efe6dce5518>,\n",
       " <folium.vector_layers.CircleMarker at 0x7efe6dce5550>,\n",
       " <folium.vector_layers.CircleMarker at 0x7efe6dce55f8>,\n",
       " <folium.vector_layers.CircleMarker at 0x7efe6dce56a0>,\n",
       " <folium.vector_layers.CircleMarker at 0x7efe6dce5748>,\n",
       " <folium.vector_layers.CircleMarker at 0x7efe6dce57f0>,\n",
       " <folium.vector_layers.CircleMarker at 0x7efe6dce5898>,\n",
       " <folium.vector_layers.CircleMarker at 0x7efe6dd39c88>,\n",
       " <folium.vector_layers.CircleMarker at 0x7efe6dd39d68>,\n",
       " <folium.vector_layers.CircleMarker at 0x7efe6dcd08d0>,\n",
       " <folium.vector_layers.CircleMarker at 0x7efe6dcd0c50>,\n",
       " <folium.vector_layers.CircleMarker at 0x7efe6dcd06d8>,\n",
       " <folium.vector_layers.CircleMarker at 0x7efe6dcd0eb8>,\n",
       " <folium.vector_layers.CircleMarker at 0x7efe6dcd0978>,\n",
       " <folium.vector_layers.CircleMarker at 0x7efe6dce56d8>,\n",
       " <folium.vector_layers.CircleMarker at 0x7efe6dce5710>,\n",
       " <folium.vector_layers.CircleMarker at 0x7efe6dce55c0>,\n",
       " <folium.vector_layers.CircleMarker at 0x7efe6dce50b8>,\n",
       " <folium.vector_layers.CircleMarker at 0x7efe6dce5438>,\n",
       " <folium.vector_layers.CircleMarker at 0x7efe6dce5278>,\n",
       " <folium.vector_layers.CircleMarker at 0x7efe6dce5940>,\n",
       " <folium.vector_layers.CircleMarker at 0x7efe6dce5828>,\n",
       " <folium.vector_layers.CircleMarker at 0x7efe6dce5a58>,\n",
       " <folium.vector_layers.CircleMarker at 0x7efe6dce5a90>,\n",
       " <folium.vector_layers.CircleMarker at 0x7efe6dce5b38>,\n",
       " <folium.vector_layers.CircleMarker at 0x7efe6dce5be0>,\n",
       " <folium.vector_layers.CircleMarker at 0x7efe6dce5c88>,\n",
       " <folium.vector_layers.CircleMarker at 0x7efe6dce5d30>,\n",
       " <folium.vector_layers.CircleMarker at 0x7efe6dcd0ba8>,\n",
       " <folium.vector_layers.CircleMarker at 0x7efe6dd39080>,\n",
       " <folium.vector_layers.CircleMarker at 0x7efe6dcd0ef0>,\n",
       " <folium.vector_layers.CircleMarker at 0x7efe6dcd0cf8>,\n",
       " <folium.vector_layers.CircleMarker at 0x7efe6dcd0710>,\n",
       " <folium.vector_layers.CircleMarker at 0x7efe6dce5dd8>,\n",
       " <folium.vector_layers.CircleMarker at 0x7efe6dce5c50>,\n",
       " <folium.vector_layers.CircleMarker at 0x7efe6dce5b00>,\n",
       " <folium.vector_layers.CircleMarker at 0x7efe6dce5320>,\n",
       " <folium.vector_layers.CircleMarker at 0x7efe6dce5978>,\n",
       " <folium.vector_layers.CircleMarker at 0x7efe6dce5470>,\n",
       " <folium.vector_layers.CircleMarker at 0x7efe6dce51d0>,\n",
       " <folium.vector_layers.CircleMarker at 0x7efe6dce54a8>,\n",
       " <folium.vector_layers.CircleMarker at 0x7efe6dce5860>,\n",
       " <folium.vector_layers.CircleMarker at 0x7efe6dce5cc0>,\n",
       " <folium.vector_layers.CircleMarker at 0x7efe6dce5ef0>,\n",
       " <folium.vector_layers.CircleMarker at 0x7efe6dce5f28>,\n",
       " <folium.vector_layers.CircleMarker at 0x7efe6dce5fd0>,\n",
       " <folium.vector_layers.CircleMarker at 0x7efe6dce5d68>,\n",
       " <folium.vector_layers.CircleMarker at 0x7efe6dcfb0f0>,\n",
       " <folium.vector_layers.CircleMarker at 0x7efe6dcfb208>,\n",
       " <folium.vector_layers.CircleMarker at 0x7efe6dcfb2b0>,\n",
       " <folium.vector_layers.CircleMarker at 0x7efe6dce5b70>,\n",
       " <folium.vector_layers.CircleMarker at 0x7efe6dce5630>,\n",
       " <folium.vector_layers.CircleMarker at 0x7efe6dce5048>,\n",
       " <folium.vector_layers.CircleMarker at 0x7efe6dce5080>,\n",
       " <folium.vector_layers.CircleMarker at 0x7efe6dce59b0>,\n",
       " <folium.vector_layers.CircleMarker at 0x7efe6dd39a90>,\n",
       " <folium.vector_layers.CircleMarker at 0x7efe6dce50f0>,\n",
       " <folium.vector_layers.CircleMarker at 0x7efe6dce5ba8>,\n",
       " <folium.vector_layers.CircleMarker at 0x7efe6dce59e8>,\n",
       " <folium.vector_layers.CircleMarker at 0x7efe6dcd09b0>,\n",
       " <folium.vector_layers.CircleMarker at 0x7efe6dcd0278>,\n",
       " <folium.vector_layers.CircleMarker at 0x7efe6dcd0a20>,\n",
       " <folium.vector_layers.CircleMarker at 0x7efe6dcfb160>,\n",
       " <folium.vector_layers.CircleMarker at 0x7efe6dcfb358>,\n",
       " <folium.vector_layers.CircleMarker at 0x7efe6dcfb240>,\n",
       " <folium.vector_layers.CircleMarker at 0x7efe6dcfb470>,\n",
       " <folium.vector_layers.CircleMarker at 0x7efe6dcfb4a8>,\n",
       " <folium.vector_layers.CircleMarker at 0x7efe6dcfb550>,\n",
       " <folium.vector_layers.CircleMarker at 0x7efe6dcfb5f8>,\n",
       " <folium.vector_layers.CircleMarker at 0x7efe6dcfb6a0>,\n",
       " <folium.vector_layers.CircleMarker at 0x7efe6dcfb748>,\n",
       " <folium.vector_layers.CircleMarker at 0x7efe6dcfb7f0>,\n",
       " <folium.vector_layers.CircleMarker at 0x7efe6dd392b0>,\n",
       " <folium.vector_layers.CircleMarker at 0x7efe6dcd0c18>,\n",
       " <folium.vector_layers.CircleMarker at 0x7efe6dce5ac8>,\n",
       " <folium.vector_layers.CircleMarker at 0x7efe6dce57b8>,\n",
       " <folium.vector_layers.CircleMarker at 0x7efe6dce5390>,\n",
       " <folium.vector_layers.CircleMarker at 0x7efe6dce5588>,\n",
       " <folium.vector_layers.CircleMarker at 0x7efe6dce5e80>,\n",
       " <folium.vector_layers.CircleMarker at 0x7efe6dce5f98>,\n",
       " <folium.vector_layers.CircleMarker at 0x7efe6dcfb4e0>,\n",
       " <folium.vector_layers.CircleMarker at 0x7efe6dcfb400>,\n",
       " <folium.vector_layers.CircleMarker at 0x7efe6dcfb1d0>,\n",
       " <folium.vector_layers.CircleMarker at 0x7efe6dcfb198>,\n",
       " <folium.vector_layers.CircleMarker at 0x7efe6dcfb048>,\n",
       " <folium.vector_layers.CircleMarker at 0x7efe6dcfb898>,\n",
       " <folium.vector_layers.CircleMarker at 0x7efe6dcfb780>,\n",
       " <folium.vector_layers.CircleMarker at 0x7efe6dcfb9b0>,\n",
       " <folium.vector_layers.CircleMarker at 0x7efe6dcfb9e8>,\n",
       " <folium.vector_layers.CircleMarker at 0x7efe6dcfba90>,\n",
       " <folium.vector_layers.CircleMarker at 0x7efe6dcfbb38>,\n",
       " <folium.vector_layers.CircleMarker at 0x7efe6dcfbbe0>,\n",
       " <folium.vector_layers.CircleMarker at 0x7efe6dcfbc88>,\n",
       " <folium.vector_layers.CircleMarker at 0x7efe6dcfbd30>,\n",
       " <folium.vector_layers.CircleMarker at 0x7efe6dce5e48>,\n",
       " <folium.vector_layers.CircleMarker at 0x7efe6dce54e0>,\n",
       " <folium.vector_layers.CircleMarker at 0x7efe6dce5780>,\n",
       " <folium.vector_layers.CircleMarker at 0x7efe6dce5da0>,\n",
       " <folium.vector_layers.CircleMarker at 0x7efe6dce5f60>,\n",
       " <folium.vector_layers.CircleMarker at 0x7efe6dd0f828>,\n",
       " <folium.vector_layers.CircleMarker at 0x7efe6dd39c18>,\n",
       " <folium.vector_layers.CircleMarker at 0x7efe6dcd0908>,\n",
       " <folium.vector_layers.CircleMarker at 0x7efe6dcd0e48>,\n",
       " <folium.vector_layers.CircleMarker at 0x7efe6dcfbb70>,\n",
       " <folium.vector_layers.CircleMarker at 0x7efe6dcfbba8>,\n",
       " <folium.vector_layers.CircleMarker at 0x7efe6dcfba58>,\n",
       " <folium.vector_layers.CircleMarker at 0x7efe6dcfb278>,\n",
       " <folium.vector_layers.CircleMarker at 0x7efe6dcfb8d0>,\n",
       " <folium.vector_layers.CircleMarker at 0x7efe6dcfb518>,\n",
       " <folium.vector_layers.CircleMarker at 0x7efe6dcfb438>,\n",
       " <folium.vector_layers.CircleMarker at 0x7efe6dcfb5c0>,\n",
       " <folium.vector_layers.CircleMarker at 0x7efe6dcfb630>,\n",
       " <folium.vector_layers.CircleMarker at 0x7efe6dcfbc18>,\n",
       " <folium.vector_layers.CircleMarker at 0x7efe6dcfbe10>,\n",
       " <folium.vector_layers.CircleMarker at 0x7efe6dcfbeb8>,\n",
       " <folium.vector_layers.CircleMarker at 0x7efe6dcfb7b8>,\n",
       " <folium.vector_layers.CircleMarker at 0x7efe6dd39a20>,\n",
       " <folium.vector_layers.CircleMarker at 0x7efe6dcd0cc0>,\n",
       " <folium.vector_layers.CircleMarker at 0x7efe6dcd02e8>,\n",
       " <folium.vector_layers.CircleMarker at 0x7efe6dce5908>,\n",
       " <folium.vector_layers.CircleMarker at 0x7efe6dce5cf8>,\n",
       " <folium.vector_layers.CircleMarker at 0x7efe6dce5c18>,\n",
       " <folium.vector_layers.CircleMarker at 0x7efe6dcfbdd8>,\n",
       " <folium.vector_layers.CircleMarker at 0x7efe6dcfbe48>,\n",
       " <folium.vector_layers.CircleMarker at 0x7efe6dcfb588>,\n",
       " <folium.vector_layers.CircleMarker at 0x7efe6dcfb978>,\n",
       " <folium.vector_layers.CircleMarker at 0x7efe6dcfb6d8>,\n",
       " <folium.vector_layers.CircleMarker at 0x7efe6dcfba20>,\n",
       " <folium.vector_layers.CircleMarker at 0x7efe6dcfbb00>,\n",
       " <folium.vector_layers.CircleMarker at 0x7efe6dcfbda0>,\n",
       " <folium.vector_layers.CircleMarker at 0x7efe6dcfbef0>,\n",
       " <folium.vector_layers.CircleMarker at 0x7efe6dcfbf28>,\n",
       " <folium.vector_layers.CircleMarker at 0x7efe6dcfbcc0>,\n",
       " <folium.vector_layers.CircleMarker at 0x7efe6dc8f0f0>,\n",
       " <folium.vector_layers.CircleMarker at 0x7efe6dc8f208>,\n",
       " <folium.vector_layers.CircleMarker at 0x7efe6dc8f2b0>,\n",
       " <folium.vector_layers.CircleMarker at 0x7efe6dc8f358>,\n",
       " <folium.vector_layers.CircleMarker at 0x7efe6dc8f400>,\n",
       " <folium.vector_layers.CircleMarker at 0x7efe6dcfb860>,\n",
       " <folium.vector_layers.CircleMarker at 0x7efe6dcfbf98>,\n",
       " <folium.vector_layers.CircleMarker at 0x7efe6dcfb0b8>,\n",
       " <folium.vector_layers.CircleMarker at 0x7efe6dcfb908>,\n",
       " <folium.vector_layers.CircleMarker at 0x7efe6dcfb128>,\n",
       " <folium.vector_layers.CircleMarker at 0x7efe6dcfbd68>,\n",
       " <folium.vector_layers.CircleMarker at 0x7efe6dcfb2e8>,\n",
       " <folium.vector_layers.CircleMarker at 0x7efe6dd39a58>,\n",
       " <folium.vector_layers.CircleMarker at 0x7efe6dcd0550>,\n",
       " <folium.vector_layers.CircleMarker at 0x7efe6dce5240>,\n",
       " <folium.vector_layers.CircleMarker at 0x7efe6dce5a20>,\n",
       " <folium.vector_layers.CircleMarker at 0x7efe6dc8f080>,\n",
       " <folium.vector_layers.CircleMarker at 0x7efe6dc8f0b8>,\n",
       " <folium.vector_layers.CircleMarker at 0x7efe6dc8f4a8>,\n",
       " <folium.vector_layers.CircleMarker at 0x7efe6dc8f390>,\n",
       " <folium.vector_layers.CircleMarker at 0x7efe6dc8f5c0>,\n",
       " <folium.vector_layers.CircleMarker at 0x7efe6dc8f5f8>,\n",
       " <folium.vector_layers.CircleMarker at 0x7efe6dc8f6a0>,\n",
       " <folium.vector_layers.CircleMarker at 0x7efe6dc8f748>,\n",
       " <folium.vector_layers.CircleMarker at 0x7efe6dc8f7f0>,\n",
       " <folium.vector_layers.CircleMarker at 0x7efe6dc8f898>,\n",
       " <folium.vector_layers.CircleMarker at 0x7efe6dc8f940>,\n",
       " <folium.vector_layers.CircleMarker at 0x7efe6dcd0e10>,\n",
       " <folium.vector_layers.CircleMarker at 0x7efe6dce5668>,\n",
       " <folium.vector_layers.CircleMarker at 0x7efe6dce58d0>,\n",
       " <folium.vector_layers.CircleMarker at 0x7efe6dcfb828>,\n",
       " <folium.vector_layers.CircleMarker at 0x7efe6dcfb668>,\n",
       " <folium.vector_layers.CircleMarker at 0x7efe6dcfbc50>,\n",
       " <folium.vector_layers.CircleMarker at 0x7efe6dcfb3c8>,\n",
       " <folium.vector_layers.CircleMarker at 0x7efe6dc8f630>,\n",
       " <folium.vector_layers.CircleMarker at 0x7efe6dc8f550>,\n",
       " <folium.vector_layers.CircleMarker at 0x7efe6dc8f1d0>,\n",
       " <folium.vector_layers.CircleMarker at 0x7efe6dc8f278>,\n",
       " <folium.vector_layers.CircleMarker at 0x7efe6dc8f2e8>,\n",
       " <folium.vector_layers.CircleMarker at 0x7efe6dc8f128>,\n",
       " <folium.vector_layers.CircleMarker at 0x7efe6dc8f9e8>,\n",
       " <folium.vector_layers.CircleMarker at 0x7efe6dc8f8d0>,\n",
       " <folium.vector_layers.CircleMarker at 0x7efe6dc8fb00>,\n",
       " <folium.vector_layers.CircleMarker at 0x7efe6dc8fb38>,\n",
       " <folium.vector_layers.CircleMarker at 0x7efe6dc8fbe0>,\n",
       " <folium.vector_layers.CircleMarker at 0x7efe6dc8fc88>,\n",
       " <folium.vector_layers.CircleMarker at 0x7efe6dc8fd30>,\n",
       " <folium.vector_layers.CircleMarker at 0x7efe6dc8fdd8>,\n",
       " <folium.vector_layers.CircleMarker at 0x7efe6dc8fe80>,\n",
       " <folium.vector_layers.CircleMarker at 0x7efe6dd06748>,\n",
       " <folium.vector_layers.CircleMarker at 0x7efe6dcfbe80>,\n",
       " <folium.vector_layers.CircleMarker at 0x7efe6dce53c8>,\n",
       " <folium.vector_layers.CircleMarker at 0x7efe6dcfb390>,\n",
       " <folium.vector_layers.CircleMarker at 0x7efe6dc8fcc0>,\n",
       " <folium.vector_layers.CircleMarker at 0x7efe6dc8fcf8>,\n",
       " <folium.vector_layers.CircleMarker at 0x7efe6dc8fba8>,\n",
       " <folium.vector_layers.CircleMarker at 0x7efe6dc8f240>,\n",
       " <folium.vector_layers.CircleMarker at 0x7efe6dc8fa20>,\n",
       " <folium.vector_layers.CircleMarker at 0x7efe6dc8f048>,\n",
       " <folium.vector_layers.CircleMarker at 0x7efe6dc8f320>,\n",
       " <folium.vector_layers.CircleMarker at 0x7efe6dc8f860>,\n",
       " <folium.vector_layers.CircleMarker at 0x7efe6dc8f438>,\n",
       " <folium.vector_layers.CircleMarker at 0x7efe6dc8f9b0>,\n",
       " <folium.vector_layers.CircleMarker at 0x7efe6dc8ff98>,\n",
       " <folium.vector_layers.CircleMarker at 0x7efe6dc8ffd0>,\n",
       " <folium.vector_layers.CircleMarker at 0x7efe6dc8ff60>,\n",
       " <folium.vector_layers.CircleMarker at 0x7efe6dca1048>,\n",
       " <folium.vector_layers.CircleMarker at 0x7efe6dca1160>,\n",
       " <folium.vector_layers.CircleMarker at 0x7efe6dca1240>,\n",
       " <folium.vector_layers.CircleMarker at 0x7efe6dca12e8>,\n",
       " <folium.vector_layers.CircleMarker at 0x7efe6dcd0470>,\n",
       " <folium.vector_layers.CircleMarker at 0x7efe6dcfb080>,\n",
       " <folium.vector_layers.CircleMarker at 0x7efe6dcfbcf8>,\n",
       " <folium.vector_layers.CircleMarker at 0x7efe6dc8feb8>,\n",
       " <folium.vector_layers.CircleMarker at 0x7efe6dc8fe10>,\n",
       " <folium.vector_layers.CircleMarker at 0x7efe6dc8f780>,\n",
       " <folium.vector_layers.CircleMarker at 0x7efe6dc8f4e0>,\n",
       " <folium.vector_layers.CircleMarker at 0x7efe6dc8f668>,\n",
       " <folium.vector_layers.CircleMarker at 0x7efe6dc8f978>,\n",
       " <folium.vector_layers.CircleMarker at 0x7efe6dc8f3c8>,\n",
       " <folium.vector_layers.CircleMarker at 0x7efe6dc8fda0>,\n",
       " <folium.vector_layers.CircleMarker at 0x7efe6dc8fa90>,\n",
       " <folium.vector_layers.CircleMarker at 0x7efe6dca1390>,\n",
       " <folium.vector_layers.CircleMarker at 0x7efe6dca11d0>,\n",
       " <folium.vector_layers.CircleMarker at 0x7efe6dca1278>,\n",
       " <folium.vector_layers.CircleMarker at 0x7efe6dca14a8>,\n",
       " <folium.vector_layers.CircleMarker at 0x7efe6dca14e0>,\n",
       " <folium.vector_layers.CircleMarker at 0x7efe6dca1588>,\n",
       " <folium.vector_layers.CircleMarker at 0x7efe6dca1630>,\n",
       " <folium.vector_layers.CircleMarker at 0x7efe6dca16d8>,\n",
       " <folium.vector_layers.CircleMarker at 0x7efe6dca1780>,\n",
       " <folium.vector_layers.CircleMarker at 0x7efe6dca1828>,\n",
       " <folium.vector_layers.CircleMarker at 0x7efe6dc8fd68>,\n",
       " <folium.vector_layers.CircleMarker at 0x7efe6dc8fc50>,\n",
       " <folium.vector_layers.CircleMarker at 0x7efe6dc8f518>,\n",
       " <folium.vector_layers.CircleMarker at 0x7efe6dc8f710>,\n",
       " <folium.vector_layers.CircleMarker at 0x7efe6dce5e10>,\n",
       " <folium.vector_layers.CircleMarker at 0x7efe6dcfb940>,\n",
       " <folium.vector_layers.CircleMarker at 0x7efe6dcfb320>,\n",
       " <folium.vector_layers.CircleMarker at 0x7efe6dc8f7b8>,\n",
       " <folium.vector_layers.CircleMarker at 0x7efe6dca1748>,\n",
       " <folium.vector_layers.CircleMarker at 0x7efe6dca15f8>,\n",
       " <folium.vector_layers.CircleMarker at 0x7efe6dca10f0>,\n",
       " <folium.vector_layers.CircleMarker at 0x7efe6dca1470>,\n",
       " <folium.vector_layers.CircleMarker at 0x7efe6dca12b0>,\n",
       " <folium.vector_layers.CircleMarker at 0x7efe6dca18d0>,\n",
       " <folium.vector_layers.CircleMarker at 0x7efe6dca17b8>,\n",
       " <folium.vector_layers.CircleMarker at 0x7efe6dca19e8>,\n",
       " <folium.vector_layers.CircleMarker at 0x7efe6dca1a20>,\n",
       " <folium.vector_layers.CircleMarker at 0x7efe6dca1ac8>,\n",
       " <folium.vector_layers.CircleMarker at 0x7efe6dca1b70>,\n",
       " <folium.vector_layers.CircleMarker at 0x7efe6dca1c18>,\n",
       " <folium.vector_layers.CircleMarker at 0x7efe6dca1cc0>,\n",
       " <folium.vector_layers.CircleMarker at 0x7efe6dca1d68>,\n",
       " <folium.vector_layers.CircleMarker at 0x7efe6dcfbac8>,\n",
       " <folium.vector_layers.CircleMarker at 0x7efe6dc8fac8>,\n",
       " <folium.vector_layers.CircleMarker at 0x7efe6dc8f6d8>,\n",
       " <folium.vector_layers.CircleMarker at 0x7efe6dc8fa58>,\n",
       " <folium.vector_layers.CircleMarker at 0x7efe6dc8f198>,\n",
       " <folium.vector_layers.CircleMarker at 0x7efe6dca1c88>,\n",
       " <folium.vector_layers.CircleMarker at 0x7efe6dca1b38>,\n",
       " <folium.vector_layers.CircleMarker at 0x7efe6dca1940>,\n",
       " <folium.vector_layers.CircleMarker at 0x7efe6dca19b0>,\n",
       " <folium.vector_layers.CircleMarker at 0x7efe6dca10b8>,\n",
       " <folium.vector_layers.CircleMarker at 0x7efe6dca1080>,\n",
       " <folium.vector_layers.CircleMarker at 0x7efe6dca15c0>,\n",
       " <folium.vector_layers.CircleMarker at 0x7efe6dca16a0>,\n",
       " <folium.vector_layers.CircleMarker at 0x7efe6dca1e10>,\n",
       " <folium.vector_layers.CircleMarker at 0x7efe6dca1cf8>,\n",
       " <folium.vector_layers.CircleMarker at 0x7efe6dca1f28>,\n",
       " <folium.vector_layers.CircleMarker at 0x7efe6dca1f60>,\n",
       " <folium.vector_layers.CircleMarker at 0x7efe6dca1da0>,\n",
       " <folium.vector_layers.CircleMarker at 0x7efe6dcb8048>,\n",
       " <folium.vector_layers.CircleMarker at 0x7efe6dcb8160>,\n",
       " <folium.vector_layers.CircleMarker at 0x7efe6dcb8240>,\n",
       " <folium.vector_layers.CircleMarker at 0x7efe6dcb82e8>,\n",
       " <folium.vector_layers.CircleMarker at 0x7efe6dca1ba8>,\n",
       " <folium.vector_layers.CircleMarker at 0x7efe6dca1668>,\n",
       " <folium.vector_layers.CircleMarker at 0x7efe6dca1518>,\n",
       " <folium.vector_layers.CircleMarker at 0x7efe6dca1320>,\n",
       " <folium.vector_layers.CircleMarker at 0x7efe6dca1128>,\n",
       " <folium.vector_layers.CircleMarker at 0x7efe6dca1908>,\n",
       " <folium.vector_layers.CircleMarker at 0x7efe6dca1b00>,\n",
       " <folium.vector_layers.CircleMarker at 0x7efe6dca1be0>,\n",
       " <folium.vector_layers.CircleMarker at 0x7efe6dca1a90>,\n",
       " <folium.vector_layers.CircleMarker at 0x7efe6dc8fef0>,\n",
       " <folium.vector_layers.CircleMarker at 0x7efe6dc8f588>,\n",
       " <folium.vector_layers.CircleMarker at 0x7efe6dc8ff28>,\n",
       " <folium.vector_layers.CircleMarker at 0x7efe6dcb81d0>,\n",
       " <folium.vector_layers.CircleMarker at 0x7efe6dcb8390>,\n",
       " <folium.vector_layers.CircleMarker at 0x7efe6dcb8278>,\n",
       " <folium.vector_layers.CircleMarker at 0x7efe6dcb84a8>,\n",
       " <folium.vector_layers.CircleMarker at 0x7efe6dcb84e0>,\n",
       " <folium.vector_layers.CircleMarker at 0x7efe6dcb8588>,\n",
       " <folium.vector_layers.CircleMarker at 0x7efe6dcb8630>,\n",
       " <folium.vector_layers.CircleMarker at 0x7efe6dcb86d8>,\n",
       " <folium.vector_layers.CircleMarker at 0x7efe6dcb8780>,\n",
       " <folium.vector_layers.CircleMarker at 0x7efe6dcb8828>,\n",
       " <folium.vector_layers.CircleMarker at 0x7efe6dce5eb8>,\n",
       " <folium.vector_layers.CircleMarker at 0x7efe6dc8f828>,\n",
       " <folium.vector_layers.CircleMarker at 0x7efe6dca1a58>,\n",
       " <folium.vector_layers.CircleMarker at 0x7efe6dca1c50>,\n",
       " <folium.vector_layers.CircleMarker at 0x7efe6dca1208>,\n",
       " <folium.vector_layers.CircleMarker at 0x7efe6dca1550>,\n",
       " <folium.vector_layers.CircleMarker at 0x7efe6dca1eb8>,\n",
       " <folium.vector_layers.CircleMarker at 0x7efe6dca1fd0>,\n",
       " <folium.vector_layers.CircleMarker at 0x7efe6dcb8518>,\n",
       " <folium.vector_layers.CircleMarker at 0x7efe6dcb8438>,\n",
       " <folium.vector_layers.CircleMarker at 0x7efe6dcb80b8>,\n",
       " <folium.vector_layers.CircleMarker at 0x7efe6dcb8208>,\n",
       " <folium.vector_layers.CircleMarker at 0x7efe6dcb8080>,\n",
       " <folium.vector_layers.CircleMarker at 0x7efe6dcb88d0>,\n",
       " <folium.vector_layers.CircleMarker at 0x7efe6dcb87b8>,\n",
       " <folium.vector_layers.CircleMarker at 0x7efe6dcb89e8>,\n",
       " <folium.vector_layers.CircleMarker at 0x7efe6dcb8a20>,\n",
       " <folium.vector_layers.CircleMarker at 0x7efe6dcb8ac8>,\n",
       " <folium.vector_layers.CircleMarker at 0x7efe6dcb8b70>,\n",
       " <folium.vector_layers.CircleMarker at 0x7efe6dcb8c18>,\n",
       " <folium.vector_layers.CircleMarker at 0x7efe6dcb8cc0>,\n",
       " <folium.vector_layers.CircleMarker at 0x7efe6dcb8d68>,\n",
       " <folium.vector_layers.CircleMarker at 0x7efe6dca1438>,\n",
       " <folium.vector_layers.CircleMarker at 0x7efe6dca1710>,\n",
       " <folium.vector_layers.CircleMarker at 0x7efe6dc8fb70>,\n",
       " <folium.vector_layers.CircleMarker at 0x7efe6dc8f908>,\n",
       " <folium.vector_layers.CircleMarker at 0x7efe6dca1e80>,\n",
       " <folium.vector_layers.CircleMarker at 0x7efe6dcb8c88>,\n",
       " <folium.vector_layers.CircleMarker at 0x7efe6dcb8b38>,\n",
       " <folium.vector_layers.CircleMarker at 0x7efe6dcb8940>,\n",
       " <folium.vector_layers.CircleMarker at 0x7efe6dcb89b0>,\n",
       " <folium.vector_layers.CircleMarker at 0x7efe6dcb80f0>,\n",
       " <folium.vector_layers.CircleMarker at 0x7efe6dcb8198>,\n",
       " <folium.vector_layers.CircleMarker at 0x7efe6dcb8748>,\n",
       " <folium.vector_layers.CircleMarker at 0x7efe6dcb8320>,\n",
       " <folium.vector_layers.CircleMarker at 0x7efe6dcb8898>,\n",
       " <folium.vector_layers.CircleMarker at 0x7efe6dcb8e80>,\n",
       " <folium.vector_layers.CircleMarker at 0x7efe6dcb8eb8>,\n",
       " <folium.vector_layers.CircleMarker at 0x7efe6dcb8da0>,\n",
       " <folium.vector_layers.CircleMarker at 0x7efe6dcb8f98>,\n",
       " <folium.vector_layers.CircleMarker at 0x7efe6dcb87f0>,\n",
       " <folium.vector_layers.CircleMarker at 0x7efe6dc4c080>,\n",
       " <folium.vector_layers.CircleMarker at 0x7efe6dc4c160>,\n",
       " <folium.vector_layers.CircleMarker at 0x7efe6dc8fc18>,\n",
       " <folium.vector_layers.CircleMarker at 0x7efe6dca1d30>,\n",
       " <folium.vector_layers.CircleMarker at 0x7efe6dca1978>,\n",
       " <folium.vector_layers.CircleMarker at 0x7efe6dca1ef0>,\n",
       " <folium.vector_layers.CircleMarker at 0x7efe6dcb8f60>,\n",
       " <folium.vector_layers.CircleMarker at 0x7efe6dcb8cf8>,\n",
       " <folium.vector_layers.CircleMarker at 0x7efe6dcb86a0>,\n",
       " <folium.vector_layers.CircleMarker at 0x7efe6dcb85f8>,\n",
       " <folium.vector_layers.CircleMarker at 0x7efe6dcb8128>,\n",
       " <folium.vector_layers.CircleMarker at 0x7efe6dcb8908>,\n",
       " <folium.vector_layers.CircleMarker at 0x7efe6dcb8b00>,\n",
       " <folium.vector_layers.CircleMarker at 0x7efe6dcb8be0>,\n",
       " <folium.vector_layers.CircleMarker at 0x7efe6dcb8a90>,\n",
       " <folium.vector_layers.CircleMarker at 0x7efe6dc4c278>,\n",
       " <folium.vector_layers.CircleMarker at 0x7efe6dc4c2b0>,\n",
       " <folium.vector_layers.CircleMarker at 0x7efe6dc4c390>,\n",
       " <folium.vector_layers.CircleMarker at 0x7efe6dc4c3c8>,\n",
       " <folium.vector_layers.CircleMarker at 0x7efe6dc4c470>,\n",
       " <folium.vector_layers.CircleMarker at 0x7efe6dc4c518>,\n",
       " <folium.vector_layers.CircleMarker at 0x7efe6dc4c5c0>,\n",
       " <folium.vector_layers.CircleMarker at 0x7efe6dc4c668>,\n",
       " <folium.vector_layers.CircleMarker at 0x7efe6dc4c710>,\n",
       " <folium.vector_layers.CircleMarker at 0x7efe6dcb8ba8>,\n",
       " <folium.vector_layers.CircleMarker at 0x7efe6dcb8860>,\n",
       " <folium.vector_layers.CircleMarker at 0x7efe6dcb8400>,\n",
       " <folium.vector_layers.CircleMarker at 0x7efe6dcb8710>,\n",
       " <folium.vector_layers.CircleMarker at 0x7efe6dcb85c0>,\n",
       " <folium.vector_layers.CircleMarker at 0x7efe6dcb8fd0>,\n",
       " <folium.vector_layers.CircleMarker at 0x7efe6dcb8f28>,\n",
       " <folium.vector_layers.CircleMarker at 0x7efe6dc8f160>,\n",
       " <folium.vector_layers.CircleMarker at 0x7efe6dcd0780>,\n",
       " <folium.vector_layers.CircleMarker at 0x7efe6dca1898>,\n",
       " <folium.vector_layers.CircleMarker at 0x7efe6dcfb710>,\n",
       " <folium.vector_layers.CircleMarker at 0x7efe6dca13c8>,\n",
       " <folium.vector_layers.CircleMarker at 0x7efe6dca1860>,\n",
       " <folium.vector_layers.CircleMarker at 0x7efe6dc4c400>,\n",
       " <folium.vector_layers.CircleMarker at 0x7efe6dc4c0f0>,\n",
       " <folium.vector_layers.CircleMarker at 0x7efe6dc4c240>,\n",
       " <folium.vector_layers.CircleMarker at 0x7efe6dc4c0b8>,\n",
       " <folium.vector_layers.CircleMarker at 0x7efe6dc4c1d0>,\n",
       " <folium.vector_layers.CircleMarker at 0x7efe6dc4c828>,\n",
       " <folium.vector_layers.CircleMarker at 0x7efe6dc4c860>,\n",
       " <folium.vector_layers.CircleMarker at 0x7efe6dc4c748>,\n",
       " <folium.vector_layers.CircleMarker at 0x7efe6dc4c940>,\n",
       " <folium.vector_layers.CircleMarker at 0x7efe6dc8f470>,\n",
       " <folium.vector_layers.CircleMarker at 0x7efe6dcfbf60>,\n",
       " <folium.vector_layers.CircleMarker at 0x7efe6dca1f98>,\n",
       " <folium.vector_layers.CircleMarker at 0x7efe6dca1400>,\n",
       " <folium.vector_layers.CircleMarker at 0x7efe6dcb8470>,\n",
       " <folium.vector_layers.CircleMarker at 0x7efe6dcb8dd8>,\n",
       " <folium.vector_layers.CircleMarker at 0x7efe6dcb82b0>,\n",
       " <folium.vector_layers.CircleMarker at 0x7efe6dcb8c50>,\n",
       " <folium.vector_layers.CircleMarker at 0x7efe6dc4c9e8>,\n",
       " <folium.vector_layers.CircleMarker at 0x7efe6dc4c8d0>,\n",
       " <folium.vector_layers.CircleMarker at 0x7efe6dc4c7b8>,\n",
       " <folium.vector_layers.CircleMarker at 0x7efe6dc4c588>,\n",
       " <folium.vector_layers.CircleMarker at 0x7efe6dc4c048>,\n",
       " <folium.vector_layers.CircleMarker at 0x7efe6dc4c4a8>,\n",
       " <folium.vector_layers.CircleMarker at 0x7efe6dc4c128>,\n",
       " <folium.vector_layers.CircleMarker at 0x7efe6dc4cb00>,\n",
       " <folium.vector_layers.CircleMarker at 0x7efe6dc4cb38>,\n",
       " <folium.vector_layers.CircleMarker at 0x7efe6dc4cbe0>,\n",
       " <folium.vector_layers.CircleMarker at 0x7efe6dc4cc88>,\n",
       " <folium.vector_layers.CircleMarker at 0x7efe6dc4cd30>,\n",
       " <folium.vector_layers.CircleMarker at 0x7efe6dc4cdd8>,\n",
       " <folium.vector_layers.CircleMarker at 0x7efe6dc4ce80>,\n",
       " <folium.vector_layers.CircleMarker at 0x7efe6dcb8358>,\n",
       " <folium.vector_layers.CircleMarker at 0x7efe6dcfbfd0>,\n",
       " <folium.vector_layers.CircleMarker at 0x7efe6dcb83c8>,\n",
       " <folium.vector_layers.CircleMarker at 0x7efe6dcb8a58>,\n",
       " <folium.vector_layers.CircleMarker at 0x7efe6dca1dd8>,\n",
       " <folium.vector_layers.CircleMarker at 0x7efe6dc4ccc0>,\n",
       " <folium.vector_layers.CircleMarker at 0x7efe6dc4ccf8>,\n",
       " <folium.vector_layers.CircleMarker at 0x7efe6dc4cba8>,\n",
       " <folium.vector_layers.CircleMarker at 0x7efe6dc4c4e0>,\n",
       " <folium.vector_layers.CircleMarker at 0x7efe6dc4ca20>,\n",
       " <folium.vector_layers.CircleMarker at 0x7efe6dc4c2e8>,\n",
       " <folium.vector_layers.CircleMarker at 0x7efe6dc4c208>,\n",
       " <folium.vector_layers.CircleMarker at 0x7efe6dc4c908>,\n",
       " <folium.vector_layers.CircleMarker at 0x7efe6dc4cf28>,\n",
       " <folium.vector_layers.CircleMarker at 0x7efe6dc4ce10>,\n",
       " <folium.vector_layers.CircleMarker at 0x7efe6dc4c7f0>,\n",
       " <folium.vector_layers.CircleMarker at 0x7efe6dc4cf98>,\n",
       " <folium.vector_layers.CircleMarker at 0x7efe6dc600f0>,\n",
       " <folium.vector_layers.CircleMarker at 0x7efe6dc60208>,\n",
       " <folium.vector_layers.CircleMarker at 0x7efe6dc602b0>,\n",
       " <folium.vector_layers.CircleMarker at 0x7efe6dc60358>,\n",
       " <folium.vector_layers.CircleMarker at 0x7efe6dc60400>,\n",
       " <folium.vector_layers.CircleMarker at 0x7efe6dc4cc18>,\n",
       " <folium.vector_layers.CircleMarker at 0x7efe6dc4cf60>,\n",
       " <folium.vector_layers.CircleMarker at 0x7efe6dc4cac8>,\n",
       " <folium.vector_layers.CircleMarker at 0x7efe6dc4c198>,\n",
       " <folium.vector_layers.CircleMarker at 0x7efe6dc4cb70>,\n",
       " <folium.vector_layers.CircleMarker at 0x7efe6dc8fe48>,\n",
       " <folium.vector_layers.CircleMarker at 0x7efe6dca1358>,\n",
       " <folium.vector_layers.CircleMarker at 0x7efe6dca17f0>,\n",
       " <folium.vector_layers.CircleMarker at 0x7efe6dc4c6a0>,\n",
       " <folium.vector_layers.CircleMarker at 0x7efe6dcb8e48>,\n",
       " <folium.vector_layers.CircleMarker at 0x7efe6dcb8ef0>,\n",
       " <folium.vector_layers.CircleMarker at 0x7efe6dc600b8>,\n",
       " <folium.vector_layers.CircleMarker at 0x7efe6dc60080>,\n",
       " <folium.vector_layers.CircleMarker at 0x7efe6dc604a8>,\n",
       " <folium.vector_layers.CircleMarker at 0x7efe6dc60390>,\n",
       " <folium.vector_layers.CircleMarker at 0x7efe6dc605c0>,\n",
       " <folium.vector_layers.CircleMarker at 0x7efe6dc605f8>,\n",
       " <folium.vector_layers.CircleMarker at 0x7efe6dc606a0>,\n",
       " <folium.vector_layers.CircleMarker at 0x7efe6dc60748>,\n",
       " <folium.vector_layers.CircleMarker at 0x7efe6dc607f0>,\n",
       " <folium.vector_layers.CircleMarker at 0x7efe6dc60898>,\n",
       " <folium.vector_layers.CircleMarker at 0x7efe6dc60940>,\n",
       " <folium.vector_layers.CircleMarker at 0x7efe6dcb8e10>,\n",
       " <folium.vector_layers.CircleMarker at 0x7efe6dca1e48>,\n",
       " <folium.vector_layers.CircleMarker at 0x7efe6dc4ce48>,\n",
       " <folium.vector_layers.CircleMarker at 0x7efe6dc4c320>,\n",
       " <folium.vector_layers.CircleMarker at 0x7efe6dc4c438>,\n",
       " <folium.vector_layers.CircleMarker at 0x7efe6dc4ca58>,\n",
       " <folium.vector_layers.CircleMarker at 0x7efe6dc4ceb8>,\n",
       " <folium.vector_layers.CircleMarker at 0x7efe6dc60630>,\n",
       " <folium.vector_layers.CircleMarker at 0x7efe6dc60550>,\n",
       " <folium.vector_layers.CircleMarker at 0x7efe6dc60128>,\n",
       " <folium.vector_layers.CircleMarker at 0x7efe6dc60278>,\n",
       " <folium.vector_layers.CircleMarker at 0x7efe6dc602e8>,\n",
       " <folium.vector_layers.CircleMarker at 0x7efe6dc60160>,\n",
       " <folium.vector_layers.CircleMarker at 0x7efe6dc609e8>,\n",
       " <folium.vector_layers.CircleMarker at 0x7efe6dc608d0>,\n",
       " <folium.vector_layers.CircleMarker at 0x7efe6dc60b00>,\n",
       " <folium.vector_layers.CircleMarker at 0x7efe6dc60b38>,\n",
       " <folium.vector_layers.CircleMarker at 0x7efe6dc60be0>,\n",
       " <folium.vector_layers.CircleMarker at 0x7efe6dc60c88>,\n",
       " <folium.vector_layers.CircleMarker at 0x7efe6dc60d30>,\n",
       " <folium.vector_layers.CircleMarker at 0x7efe6dc60dd8>,\n",
       " <folium.vector_layers.CircleMarker at 0x7efe6dc60e80>,\n",
       " <folium.vector_layers.CircleMarker at 0x7efe6dca1198>,\n",
       " <folium.vector_layers.CircleMarker at 0x7efe6dc4c5f8>,\n",
       " <folium.vector_layers.CircleMarker at 0x7efe6dc4c630>,\n",
       " <folium.vector_layers.CircleMarker at 0x7efe6dc4c550>,\n",
       " <folium.vector_layers.CircleMarker at 0x7efe6dc60da0>,\n",
       " <folium.vector_layers.CircleMarker at 0x7efe6dc60c50>,\n",
       " <folium.vector_layers.CircleMarker at 0x7efe6dc60a58>,\n",
       " <folium.vector_layers.CircleMarker at 0x7efe6dc60ac8>,\n",
       " <folium.vector_layers.CircleMarker at 0x7efe6dc604e0>,\n",
       " <folium.vector_layers.CircleMarker at 0x7efe6dc601d0>,\n",
       " <folium.vector_layers.CircleMarker at 0x7efe6dc607b8>,\n",
       " <folium.vector_layers.CircleMarker at 0x7efe6dc60518>,\n",
       " <folium.vector_layers.CircleMarker at 0x7efe6dc606d8>,\n",
       " <folium.vector_layers.CircleMarker at 0x7efe6dc60f28>,\n",
       " <folium.vector_layers.CircleMarker at 0x7efe6dc60e10>,\n",
       " <folium.vector_layers.CircleMarker at 0x7efe6dc60908>,\n",
       " <folium.vector_layers.CircleMarker at 0x7efe6dc60f98>,\n",
       " <folium.vector_layers.CircleMarker at 0x7efe6dc74128>,\n",
       " <folium.vector_layers.CircleMarker at 0x7efe6dc74208>,\n",
       " <folium.vector_layers.CircleMarker at 0x7efe6dc742b0>,\n",
       " <folium.vector_layers.CircleMarker at 0x7efe6dc74358>,\n",
       " <folium.vector_layers.CircleMarker at 0x7efe6dc74400>,\n",
       " <folium.vector_layers.CircleMarker at 0x7efe6dc60fd0>,\n",
       " <folium.vector_layers.CircleMarker at 0x7efe6dc60710>,\n",
       " <folium.vector_layers.CircleMarker at 0x7efe6dc60438>,\n",
       " <folium.vector_layers.CircleMarker at 0x7efe6dc60198>,\n",
       " <folium.vector_layers.CircleMarker at 0x7efe6dc60048>,\n",
       " <folium.vector_layers.CircleMarker at 0x7efe6dc60b70>,\n",
       " <folium.vector_layers.CircleMarker at 0x7efe6dc60ba8>,\n",
       " <folium.vector_layers.CircleMarker at 0x7efe6dc60e48>,\n",
       " <folium.vector_layers.CircleMarker at 0x7efe6dc60978>,\n",
       " <folium.vector_layers.CircleMarker at 0x7efe6dc4ca90>,\n",
       " <folium.vector_layers.CircleMarker at 0x7efe6dc4c358>,\n",
       " <folium.vector_layers.CircleMarker at 0x7efe6dc74240>,\n",
       " <folium.vector_layers.CircleMarker at 0x7efe6dc74278>,\n",
       " <folium.vector_layers.CircleMarker at 0x7efe6dc74048>,\n",
       " <folium.vector_layers.CircleMarker at 0x7efe6dc74518>,\n",
       " <folium.vector_layers.CircleMarker at 0x7efe6dc74550>,\n",
       " <folium.vector_layers.CircleMarker at 0x7efe6dc74438>,\n",
       " <folium.vector_layers.CircleMarker at 0x7efe6dc74630>,\n",
       " <folium.vector_layers.CircleMarker at 0x7efe6dc746d8>,\n",
       " <folium.vector_layers.CircleMarker at 0x7efe6dc74780>,\n",
       " <folium.vector_layers.CircleMarker at 0x7efe6dc74828>,\n",
       " <folium.vector_layers.CircleMarker at 0x7efe6dc4cda0>,\n",
       " <folium.vector_layers.CircleMarker at 0x7efe6dc4cc50>,\n",
       " <folium.vector_layers.CircleMarker at 0x7efe6dc60a90>,\n",
       " <folium.vector_layers.CircleMarker at 0x7efe6dc60828>,\n",
       " <folium.vector_layers.CircleMarker at 0x7efe6dcb8978>,\n",
       " <folium.vector_layers.CircleMarker at 0x7efe6dc60cf8>,\n",
       " <folium.vector_layers.CircleMarker at 0x7efe6dc60a20>,\n",
       " <folium.vector_layers.CircleMarker at 0x7efe6dc60eb8>,\n",
       " <folium.vector_layers.CircleMarker at 0x7efe6dc747f0>,\n",
       " <folium.vector_layers.CircleMarker at 0x7efe6dc746a0>,\n",
       " <folium.vector_layers.CircleMarker at 0x7efe6dc742e8>,\n",
       " <folium.vector_layers.CircleMarker at 0x7efe6dc74390>,\n",
       " <folium.vector_layers.CircleMarker at 0x7efe6dc740b8>,\n",
       " <folium.vector_layers.CircleMarker at 0x7efe6dc743c8>,\n",
       " <folium.vector_layers.CircleMarker at 0x7efe6dc747b8>,\n",
       " <folium.vector_layers.CircleMarker at 0x7efe6dc749e8>,\n",
       " <folium.vector_layers.CircleMarker at 0x7efe6dc74a20>,\n",
       " <folium.vector_layers.CircleMarker at 0x7efe6dc74ac8>,\n",
       " <folium.vector_layers.CircleMarker at 0x7efe6dc74b70>,\n",
       " <folium.vector_layers.CircleMarker at 0x7efe6dc74c18>,\n",
       " <folium.vector_layers.CircleMarker at 0x7efe6dc74cc0>,\n",
       " <folium.vector_layers.CircleMarker at 0x7efe6dc74d68>,\n",
       " <folium.vector_layers.CircleMarker at 0x7efe6dc60c18>,\n",
       " <folium.vector_layers.CircleMarker at 0x7efe6dc60860>,\n",
       " <folium.vector_layers.CircleMarker at 0x7efe6dc4cd68>,\n",
       " <folium.vector_layers.CircleMarker at 0x7efe6dc60668>,\n",
       " <folium.vector_layers.CircleMarker at 0x7efe6dc60240>,\n",
       " <folium.vector_layers.CircleMarker at 0x7efe6dc74c88>,\n",
       " <folium.vector_layers.CircleMarker at 0x7efe6dc74b38>,\n",
       " <folium.vector_layers.CircleMarker at 0x7efe6dc74470>,\n",
       " <folium.vector_layers.CircleMarker at 0x7efe6dc749b0>,\n",
       " <folium.vector_layers.CircleMarker at 0x7efe6dc745c0>,\n",
       " <folium.vector_layers.CircleMarker at 0x7efe6dc744a8>,\n",
       " <folium.vector_layers.CircleMarker at 0x7efe6dc74668>,\n",
       " <folium.vector_layers.CircleMarker at 0x7efe6dc74748>,\n",
       " <folium.vector_layers.CircleMarker at 0x7efe6dc74e10>,\n",
       " <folium.vector_layers.CircleMarker at 0x7efe6dc74cf8>,\n",
       " <folium.vector_layers.CircleMarker at 0x7efe6dc74f28>,\n",
       " <folium.vector_layers.CircleMarker at 0x7efe6dc74f60>,\n",
       " <folium.vector_layers.CircleMarker at 0x7efe6dc74da0>,\n",
       " <folium.vector_layers.CircleMarker at 0x7efe6dc09048>,\n",
       " <folium.vector_layers.CircleMarker at 0x7efe6dc09160>,\n",
       " <folium.vector_layers.CircleMarker at 0x7efe6dc09240>,\n",
       " <folium.vector_layers.CircleMarker at 0x7efe6dc092e8>,\n",
       " <folium.vector_layers.CircleMarker at 0x7efe6dc74ba8>,\n",
       " <folium.vector_layers.CircleMarker at 0x7efe6dc748d0>,\n",
       " <folium.vector_layers.CircleMarker at 0x7efe6dc74080>,\n",
       " <folium.vector_layers.CircleMarker at 0x7efe6dc74588>,\n",
       " <folium.vector_layers.CircleMarker at 0x7efe6dc74160>,\n",
       " <folium.vector_layers.CircleMarker at 0x7efe6dc74908>,\n",
       " <folium.vector_layers.CircleMarker at 0x7efe6dc74b00>,\n",
       " <folium.vector_layers.CircleMarker at 0x7efe6dc4c978>,\n",
       " <folium.vector_layers.CircleMarker at 0x7efe6dc74a58>,\n",
       " <folium.vector_layers.CircleMarker at 0x7efe6dc74a90>,\n",
       " <folium.vector_layers.CircleMarker at 0x7efe6dc60ef0>,\n",
       " <folium.vector_layers.CircleMarker at 0x7efe6dc60f60>,\n",
       " <folium.vector_layers.CircleMarker at 0x7efe6dc091d0>,\n",
       " <folium.vector_layers.CircleMarker at 0x7efe6dc09390>,\n",
       " <folium.vector_layers.CircleMarker at 0x7efe6dc09278>,\n",
       " <folium.vector_layers.CircleMarker at 0x7efe6dc094a8>,\n",
       " <folium.vector_layers.CircleMarker at 0x7efe6dc094e0>,\n",
       " <folium.vector_layers.CircleMarker at 0x7efe6dc09588>,\n",
       " <folium.vector_layers.CircleMarker at 0x7efe6dc09630>,\n",
       " <folium.vector_layers.CircleMarker at 0x7efe6dc096d8>,\n",
       " <folium.vector_layers.CircleMarker at 0x7efe6dc09780>,\n",
       " <folium.vector_layers.CircleMarker at 0x7efe6dc09828>,\n",
       " <folium.vector_layers.CircleMarker at 0x7efe6dc4c6d8>,\n",
       " <folium.vector_layers.CircleMarker at 0x7efe6dc60320>,\n",
       " <folium.vector_layers.CircleMarker at 0x7efe6dc74be0>,\n",
       " <folium.vector_layers.CircleMarker at 0x7efe6dc74c50>,\n",
       " <folium.vector_layers.CircleMarker at 0x7efe6dc741d0>,\n",
       " <folium.vector_layers.CircleMarker at 0x7efe6dc745f8>,\n",
       " <folium.vector_layers.CircleMarker at 0x7efe6dc74eb8>,\n",
       " <folium.vector_layers.CircleMarker at 0x7efe6dc74fd0>,\n",
       " <folium.vector_layers.CircleMarker at 0x7efe6dc09518>,\n",
       " <folium.vector_layers.CircleMarker at 0x7efe6dc09438>,\n",
       " <folium.vector_layers.CircleMarker at 0x7efe6dc090b8>,\n",
       " <folium.vector_layers.CircleMarker at 0x7efe6dc09208>,\n",
       " <folium.vector_layers.CircleMarker at 0x7efe6dc09080>,\n",
       " <folium.vector_layers.CircleMarker at 0x7efe6dc098d0>,\n",
       " <folium.vector_layers.CircleMarker at 0x7efe6dc097b8>,\n",
       " <folium.vector_layers.CircleMarker at 0x7efe6dc099e8>,\n",
       " <folium.vector_layers.CircleMarker at 0x7efe6dc09a20>,\n",
       " <folium.vector_layers.CircleMarker at 0x7efe6dc09ac8>,\n",
       " <folium.vector_layers.CircleMarker at 0x7efe6dc09b70>,\n",
       " <folium.vector_layers.CircleMarker at 0x7efe6dc09c18>,\n",
       " <folium.vector_layers.CircleMarker at 0x7efe6dc09cc0>,\n",
       " <folium.vector_layers.CircleMarker at 0x7efe6dc09d68>,\n",
       " <folium.vector_layers.CircleMarker at 0x7efe6dc744e0>,\n",
       " <folium.vector_layers.CircleMarker at 0x7efe6dc74320>,\n",
       " <folium.vector_layers.CircleMarker at 0x7efe6dc60588>,\n",
       " <folium.vector_layers.CircleMarker at 0x7efe6dc74d30>,\n",
       " <folium.vector_layers.CircleMarker at 0x7efe6dc74e48>,\n",
       " <folium.vector_layers.CircleMarker at 0x7efe6dc09a58>,\n",
       " <folium.vector_layers.CircleMarker at 0x7efe6dc09978>,\n",
       " <folium.vector_layers.CircleMarker at 0x7efe6dc09128>,\n",
       " <folium.vector_layers.CircleMarker at 0x7efe6dc093c8>,\n",
       " <folium.vector_layers.CircleMarker at 0x7efe6dc09710>,\n",
       " <folium.vector_layers.CircleMarker at 0x7efe6dc096a0>,\n",
       " <folium.vector_layers.CircleMarker at 0x7efe6dc09400>,\n",
       " <folium.vector_layers.CircleMarker at 0x7efe6dc095c0>,\n",
       " <folium.vector_layers.CircleMarker at 0x7efe6dc09e10>,\n",
       " <folium.vector_layers.CircleMarker at 0x7efe6dc09cf8>,\n",
       " <folium.vector_layers.CircleMarker at 0x7efe6dc09f28>,\n",
       " <folium.vector_layers.CircleMarker at 0x7efe6dc09f60>,\n",
       " <folium.vector_layers.CircleMarker at 0x7efe6dc09da0>,\n",
       " <folium.vector_layers.CircleMarker at 0x7efe6dc1e048>,\n",
       " <folium.vector_layers.CircleMarker at 0x7efe6dc1e128>,\n",
       " <folium.vector_layers.CircleMarker at 0x7efe6dc1e240>,\n",
       " <folium.vector_layers.CircleMarker at 0x7efe6dc09f98>,\n",
       " <folium.vector_layers.CircleMarker at 0x7efe6dc09e80>,\n",
       " <folium.vector_layers.CircleMarker at 0x7efe6dc09e48>,\n",
       " <folium.vector_layers.CircleMarker at 0x7efe6dc09550>,\n",
       " <folium.vector_layers.CircleMarker at 0x7efe6dc09748>,\n",
       " <folium.vector_layers.CircleMarker at 0x7efe6dc09a90>,\n",
       " <folium.vector_layers.CircleMarker at 0x7efe6dc099b0>,\n",
       " <folium.vector_layers.CircleMarker at 0x7efe6dc09b38>,\n",
       " <folium.vector_layers.CircleMarker at 0x7efe6dc09ba8>,\n",
       " <folium.vector_layers.CircleMarker at 0x7efe6dc09358>,\n",
       " <folium.vector_layers.CircleMarker at 0x7efe6dc09860>,\n",
       " <folium.vector_layers.CircleMarker at 0x7efe6dc74860>,\n",
       " <folium.vector_layers.CircleMarker at 0x7efe6dc74dd8>,\n",
       " <folium.vector_layers.CircleMarker at 0x7efe6dcb8668>,\n",
       " <folium.vector_layers.CircleMarker at 0x7efe6dc740f0>,\n",
       " <folium.vector_layers.CircleMarker at 0x7efe6dc609b0>,\n",
       " <folium.vector_layers.CircleMarker at 0x7efe6dc603c8>,\n",
       " <folium.vector_layers.CircleMarker at 0x7efe6dc4c9b0>,\n",
       " <folium.vector_layers.CircleMarker at 0x7efe6dc1e1d0>,\n",
       " <folium.vector_layers.CircleMarker at 0x7efe6dc1e358>,\n",
       " <folium.vector_layers.CircleMarker at 0x7efe6dc1e3c8>,\n",
       " <folium.vector_layers.CircleMarker at 0x7efe6dc1e208>,\n",
       " <folium.vector_layers.CircleMarker at 0x7efe6dc1e4a8>,\n",
       " <folium.vector_layers.CircleMarker at 0x7efe6dc4cfd0>,\n",
       " <folium.vector_layers.CircleMarker at 0x7efe6dc60d68>,\n",
       " <folium.vector_layers.CircleMarker at 0x7efe6dc60780>,\n",
       " <folium.vector_layers.CircleMarker at 0x7efe6dc74f98>,\n",
       " <folium.vector_layers.CircleMarker at 0x7efe6dc74898>,\n",
       " <folium.vector_layers.CircleMarker at 0x7efe6dc09dd8>,\n",
       " <folium.vector_layers.CircleMarker at 0x7efe6dc09b00>,\n",
       " <folium.vector_layers.CircleMarker at 0x7efe6dc09be0>,\n",
       " <folium.vector_layers.CircleMarker at 0x7efe6dc097f0>,\n",
       " <folium.vector_layers.CircleMarker at 0x7efe6dc09c50>,\n",
       " <folium.vector_layers.CircleMarker at 0x7efe6dc09fd0>,\n",
       " <folium.vector_layers.CircleMarker at 0x7efe6dc09ef0>,\n",
       " <folium.vector_layers.CircleMarker at 0x7efe6dc1e278>,\n",
       " <folium.vector_layers.CircleMarker at 0x7efe6dc1e198>,\n",
       " <folium.vector_layers.CircleMarker at 0x7efe6dc1e5c0>,\n",
       " <folium.vector_layers.CircleMarker at 0x7efe6dc1e5f8>,\n",
       " <folium.vector_layers.CircleMarker at 0x7efe6dc1e4e0>,\n",
       " <folium.vector_layers.CircleMarker at 0x7efe6dc1e6d8>,\n",
       " <folium.vector_layers.CircleMarker at 0x7efe6dc1e780>,\n",
       " <folium.vector_layers.CircleMarker at 0x7efe6dc1e828>,\n",
       " <folium.vector_layers.CircleMarker at 0x7efe6dc1e8d0>,\n",
       " <folium.vector_layers.CircleMarker at 0x7efe6dc09c88>,\n",
       " <folium.vector_layers.CircleMarker at 0x7efe6dc09470>,\n",
       " <folium.vector_layers.CircleMarker at 0x7efe6dc09320>,\n",
       " <folium.vector_layers.CircleMarker at 0x7efe6dc60cc0>,\n",
       " <folium.vector_layers.CircleMarker at 0x7efe6dcb8550>,\n",
       " <folium.vector_layers.CircleMarker at 0x7efe6dc09898>,\n",
       " <folium.vector_layers.CircleMarker at 0x7efe6dc74ef0>,\n",
       " <folium.vector_layers.CircleMarker at 0x7efe6dc74710>,\n",
       " <folium.vector_layers.CircleMarker at 0x7efe6dc1e978>,\n",
       " <folium.vector_layers.CircleMarker at 0x7efe6dc1e7f0>,\n",
       " <folium.vector_layers.CircleMarker at 0x7efe6dc1e6a0>,\n",
       " <folium.vector_layers.CircleMarker at 0x7efe6dc1e390>,\n",
       " <folium.vector_layers.CircleMarker at 0x7efe6dc1e550>,\n",
       " <folium.vector_layers.CircleMarker at 0x7efe6dc1e470>,\n",
       " <folium.vector_layers.CircleMarker at 0x7efe6dc1e860>,\n",
       " <folium.vector_layers.CircleMarker at 0x7efe6dc1ea90>,\n",
       " <folium.vector_layers.CircleMarker at 0x7efe6dc1eac8>,\n",
       " <folium.vector_layers.CircleMarker at 0x7efe6dc1eb70>,\n",
       " <folium.vector_layers.CircleMarker at 0x7efe6dc1ec18>,\n",
       " <folium.vector_layers.CircleMarker at 0x7efe6dc1ecc0>,\n",
       " <folium.vector_layers.CircleMarker at 0x7efe6dc1ed68>,\n",
       " <folium.vector_layers.CircleMarker at 0x7efe6dc1ee10>,\n",
       " <folium.vector_layers.CircleMarker at 0x7efe6dc4c898>,\n",
       " <folium.vector_layers.CircleMarker at 0x7efe6dc74978>,\n",
       " <folium.vector_layers.CircleMarker at 0x7efe6dc090f0>,\n",
       " <folium.vector_layers.CircleMarker at 0x7efe6dc09198>,\n",
       " <folium.vector_layers.CircleMarker at 0x7efe6dc09eb8>,\n",
       " <folium.vector_layers.CircleMarker at 0x7efe6dc1ec50>,\n",
       " <folium.vector_layers.CircleMarker at 0x7efe6dc1ec88>,\n",
       " <folium.vector_layers.CircleMarker at 0x7efe6dc1eb38>,\n",
       " <folium.vector_layers.CircleMarker at 0x7efe6dc1e080>,\n",
       " <folium.vector_layers.CircleMarker at 0x7efe6dc1e9b0>,\n",
       " <folium.vector_layers.CircleMarker at 0x7efe6dc1e630>,\n",
       " <folium.vector_layers.CircleMarker at 0x7efe6dc1e668>,\n",
       " <folium.vector_layers.CircleMarker at 0x7efe6dc1e898>,\n",
       " <folium.vector_layers.CircleMarker at 0x7efe6dc1eeb8>,\n",
       " <folium.vector_layers.CircleMarker at 0x7efe6dc1eda0>,\n",
       " <folium.vector_layers.CircleMarker at 0x7efe6dc1efd0>,\n",
       " <folium.vector_layers.CircleMarker at 0x7efe6dc1ef60>,\n",
       " <folium.vector_layers.CircleMarker at 0x7efe6dc31048>,\n",
       " <folium.vector_layers.CircleMarker at 0x7efe6dc31160>,\n",
       " <folium.vector_layers.CircleMarker at 0x7efe6dc31240>,\n",
       " <folium.vector_layers.CircleMarker at 0x7efe6dc312e8>,\n",
       " <folium.vector_layers.CircleMarker at 0x7efe6dc31390>,\n",
       " <folium.vector_layers.CircleMarker at 0x7efe6dc1eba8>,\n",
       " <folium.vector_layers.CircleMarker at 0x7efe6dc1ef98>,\n",
       " <folium.vector_layers.CircleMarker at 0x7efe6dc1e400>,\n",
       " <folium.vector_layers.CircleMarker at 0x7efe6dc1e0f0>,\n",
       " <folium.vector_layers.CircleMarker at 0x7efe6dc1e908>,\n",
       " <folium.vector_layers.CircleMarker at 0x7efe6dc1e320>,\n",
       " <folium.vector_layers.CircleMarker at 0x7efe6dc1ed30>,\n",
       " <folium.vector_layers.CircleMarker at 0x7efe6dc1ea20>,\n",
       " <folium.vector_layers.CircleMarker at 0x7efe6dc4cef0>,\n",
       " <folium.vector_layers.CircleMarker at 0x7efe6dc74940>,\n",
       " <folium.vector_layers.CircleMarker at 0x7efe6dc09908>,\n",
       " <folium.vector_layers.CircleMarker at 0x7efe6dc31198>,\n",
       " <folium.vector_layers.CircleMarker at 0x7efe6dc311d0>,\n",
       " <folium.vector_layers.CircleMarker at 0x7efe6dc31438>,\n",
       " <folium.vector_layers.CircleMarker at 0x7efe6dc31320>,\n",
       " <folium.vector_layers.CircleMarker at 0x7efe6dc31550>,\n",
       " <folium.vector_layers.CircleMarker at 0x7efe6dc31588>,\n",
       " <folium.vector_layers.CircleMarker at 0x7efe6dc31630>,\n",
       " <folium.vector_layers.CircleMarker at 0x7efe6dc316d8>,\n",
       " <folium.vector_layers.CircleMarker at 0x7efe6dc31780>,\n",
       " <folium.vector_layers.CircleMarker at 0x7efe6dc31828>,\n",
       " <folium.vector_layers.CircleMarker at 0x7efe6dc318d0>,\n",
       " <folium.vector_layers.CircleMarker at 0x7efe6dc60470>,\n",
       " <folium.vector_layers.CircleMarker at 0x7efe6dc09d30>,\n",
       " <folium.vector_layers.CircleMarker at 0x7efe6dc1edd8>,\n",
       " <folium.vector_layers.CircleMarker at 0x7efe6dc1e748>,\n",
       " <folium.vector_layers.CircleMarker at 0x7efe6dc1e710>,\n",
       " <folium.vector_layers.CircleMarker at 0x7efe6dc1eef0>,\n",
       " <folium.vector_layers.CircleMarker at 0x7efe6dc1ea58>,\n",
       " <folium.vector_layers.CircleMarker at 0x7efe6dc31710>,\n",
       " <folium.vector_layers.CircleMarker at 0x7efe6dc31748>,\n",
       " <folium.vector_layers.CircleMarker at 0x7efe6dc315f8>,\n",
       " <folium.vector_layers.CircleMarker at 0x7efe6dc310f0>,\n",
       " <folium.vector_layers.CircleMarker at 0x7efe6dc31470>,\n",
       " <folium.vector_layers.CircleMarker at 0x7efe6dc312b0>,\n",
       " <folium.vector_layers.CircleMarker at 0x7efe6dc31978>,\n",
       " <folium.vector_layers.CircleMarker at 0x7efe6dc31860>,\n",
       " <folium.vector_layers.CircleMarker at 0x7efe6dc31a90>,\n",
       " <folium.vector_layers.CircleMarker at 0x7efe6dc31ac8>,\n",
       " <folium.vector_layers.CircleMarker at 0x7efe6dc31b70>,\n",
       " <folium.vector_layers.CircleMarker at 0x7efe6dc31c18>,\n",
       " <folium.vector_layers.CircleMarker at 0x7efe6dc31cc0>,\n",
       " <folium.vector_layers.CircleMarker at 0x7efe6dc31d68>,\n",
       " <folium.vector_layers.CircleMarker at 0x7efe6dc31e10>,\n",
       " <folium.vector_layers.CircleMarker at 0x7efe6dc1e438>,\n",
       " <folium.vector_layers.CircleMarker at 0x7efe6dc1e2e8>,\n",
       " <folium.vector_layers.CircleMarker at 0x7efe6dc09940>,\n",
       " <folium.vector_layers.CircleMarker at 0x7efe6dc092b0>,\n",
       " <folium.vector_layers.CircleMarker at 0x7efe6dc1ecf8>,\n",
       " <folium.vector_layers.CircleMarker at 0x7efe6dc31b00>,\n",
       " <folium.vector_layers.CircleMarker at 0x7efe6dc31a20>,\n",
       " <folium.vector_layers.CircleMarker at 0x7efe6dc31128>,\n",
       " <folium.vector_layers.CircleMarker at 0x7efe6dc31278>,\n",
       " <folium.vector_layers.CircleMarker at 0x7efe6dc317b8>,\n",
       " <folium.vector_layers.CircleMarker at 0x7efe6dc313c8>,\n",
       " <folium.vector_layers.CircleMarker at 0x7efe6dc310b8>,\n",
       " <folium.vector_layers.CircleMarker at 0x7efe6dc317f0>,\n",
       " <folium.vector_layers.CircleMarker at 0x7efe6dc31eb8>,\n",
       " <folium.vector_layers.CircleMarker at 0x7efe6dc31da0>,\n",
       " <folium.vector_layers.CircleMarker at 0x7efe6dc31fd0>,\n",
       " <folium.vector_layers.CircleMarker at 0x7efe6dc31f60>,\n",
       " <folium.vector_layers.CircleMarker at 0x7efe6dbc8048>,\n",
       " <folium.vector_layers.CircleMarker at 0x7efe6dbc8128>,\n",
       " <folium.vector_layers.CircleMarker at 0x7efe6dbc8240>,\n",
       " <folium.vector_layers.CircleMarker at 0x7efe6dbc82e8>,\n",
       " <folium.vector_layers.CircleMarker at 0x7efe6dbc8390>,\n",
       " <folium.vector_layers.CircleMarker at 0x7efe6dc095f8>,\n",
       " <folium.vector_layers.CircleMarker at 0x7efe6dc1e588>,\n",
       " <folium.vector_layers.CircleMarker at 0x7efe6dc1ef28>,\n",
       " <folium.vector_layers.CircleMarker at 0x7efe6dc31668>,\n",
       " <folium.vector_layers.CircleMarker at 0x7efe6dc31ef0>,\n",
       " <folium.vector_layers.CircleMarker at 0x7efe6dc314a8>,\n",
       " <folium.vector_layers.CircleMarker at 0x7efe6dc315c0>,\n",
       " <folium.vector_layers.CircleMarker at 0x7efe6dc31b38>,\n",
       " <folium.vector_layers.CircleMarker at 0x7efe6dc31a58>,\n",
       " <folium.vector_layers.CircleMarker at 0x7efe6dc31be0>,\n",
       " <folium.vector_layers.CircleMarker at 0x7efe6dc31c50>,\n",
       " <folium.vector_layers.CircleMarker at 0x7efe6dc31908>,\n",
       " <folium.vector_layers.CircleMarker at 0x7efe6dbc82b0>,\n",
       " <folium.vector_layers.CircleMarker at 0x7efe6dbc8080>,\n",
       " <folium.vector_layers.CircleMarker at 0x7efe6dbc84a8>,\n",
       " <folium.vector_layers.CircleMarker at 0x7efe6dbc84e0>,\n",
       " <folium.vector_layers.CircleMarker at 0x7efe6dbc83c8>,\n",
       " <folium.vector_layers.CircleMarker at 0x7efe6dbc85c0>,\n",
       " <folium.vector_layers.CircleMarker at 0x7efe6dbc8668>,\n",
       " <folium.vector_layers.CircleMarker at 0x7efe6dbc8710>,\n",
       " <folium.vector_layers.CircleMarker at 0x7efe6dbc87b8>,\n",
       " <folium.vector_layers.CircleMarker at 0x7efe6dc31e48>,\n",
       " <folium.vector_layers.CircleMarker at 0x7efe6dc31518>,\n",
       " <folium.vector_layers.CircleMarker at 0x7efe6dc31208>,\n",
       " <folium.vector_layers.CircleMarker at 0x7efe6dc319b0>,\n",
       " <folium.vector_layers.CircleMarker at 0x7efe6dc09668>,\n",
       " <folium.vector_layers.CircleMarker at 0x7efe6dc31e80>,\n",
       " <folium.vector_layers.CircleMarker at 0x7efe6dc31898>,\n",
       " <folium.vector_layers.CircleMarker at 0x7efe6dc1e160>,\n",
       " <folium.vector_layers.CircleMarker at 0x7efe6dbc8860>,\n",
       " <folium.vector_layers.CircleMarker at 0x7efe6dbc86d8>,\n",
       " <folium.vector_layers.CircleMarker at 0x7efe6dbc8588>,\n",
       " <folium.vector_layers.CircleMarker at 0x7efe6dbc81d0>,\n",
       " <folium.vector_layers.CircleMarker at 0x7efe6dbc8438>,\n",
       " <folium.vector_layers.CircleMarker at 0x7efe6dbc8358>,\n",
       " <folium.vector_layers.CircleMarker at 0x7efe6dbc8748>,\n",
       " <folium.vector_layers.CircleMarker at 0x7efe6dbc8978>,\n",
       " <folium.vector_layers.CircleMarker at 0x7efe6dbc89b0>,\n",
       " <folium.vector_layers.CircleMarker at 0x7efe6dbc8a58>,\n",
       " <folium.vector_layers.CircleMarker at 0x7efe6dbc8b00>,\n",
       " <folium.vector_layers.CircleMarker at 0x7efe6dbc8ba8>,\n",
       " <folium.vector_layers.CircleMarker at 0x7efe6dbc8c50>,\n",
       " <folium.vector_layers.CircleMarker at 0x7efe6dbc8cf8>,\n",
       " <folium.vector_layers.CircleMarker at 0x7efe6dc1eb00>,\n",
       " <folium.vector_layers.CircleMarker at 0x7efe6dc31f98>,\n",
       " <folium.vector_layers.CircleMarker at 0x7efe6dc316a0>,\n",
       " <folium.vector_layers.CircleMarker at 0x7efe6dc31358>,\n",
       " <folium.vector_layers.CircleMarker at 0x7efe6dc31080>,\n",
       " <folium.vector_layers.CircleMarker at 0x7efe6dbc8b38>,\n",
       " <folium.vector_layers.CircleMarker at 0x7efe6dbc8b70>,\n",
       " <folium.vector_layers.CircleMarker at 0x7efe6dbc8a20>,\n",
       " <folium.vector_layers.CircleMarker at 0x7efe6dbc80f0>,\n",
       " <folium.vector_layers.CircleMarker at 0x7efe6dbc8898>,\n",
       " <folium.vector_layers.CircleMarker at 0x7efe6dbc8518>,\n",
       " <folium.vector_layers.CircleMarker at 0x7efe6dbc8550>,\n",
       " <folium.vector_layers.CircleMarker at 0x7efe6dbc8780>,\n",
       " <folium.vector_layers.CircleMarker at 0x7efe6dbc8da0>,\n",
       " <folium.vector_layers.CircleMarker at 0x7efe6dbc8c88>,\n",
       " <folium.vector_layers.CircleMarker at 0x7efe6dbc8eb8>,\n",
       " <folium.vector_layers.CircleMarker at 0x7efe6dbc8ef0>,\n",
       " <folium.vector_layers.CircleMarker at 0x7efe6dbc8f98>,\n",
       " <folium.vector_layers.CircleMarker at 0x7efe6dbc8f28>,\n",
       " <folium.vector_layers.CircleMarker at 0x7efe6dbdc080>,\n",
       " <folium.vector_layers.CircleMarker at 0x7efe6dbdc160>,\n",
       " <folium.vector_layers.CircleMarker at 0x7efe6dbdc278>,\n",
       " <folium.vector_layers.CircleMarker at 0x7efe6dbc8a90>,\n",
       " <folium.vector_layers.CircleMarker at 0x7efe6dbc8e10>,\n",
       " <folium.vector_layers.CircleMarker at 0x7efe6dbc8dd8>,\n",
       " <folium.vector_layers.CircleMarker at 0x7efe6dbc8278>,\n",
       " <folium.vector_layers.CircleMarker at 0x7efe6dbc8208>]"
      ]
     },
     "execution_count": 20,
     "metadata": {},
     "output_type": "execute_result"
    }
   ],
   "source": [
    "trip_markers = markers_from_trips(cleaned_trips)\n",
    "\n",
    "trip_markers"
   ]
  },
  {
   "cell_type": "code",
   "execution_count": 21,
   "metadata": {},
   "outputs": [
    {
     "data": {
      "text/plain": [
       "[{'trip_distance': 18.38,\n",
       "  'pickup_latitude': 40.64499,\n",
       "  'pickup_longitude': -73.78115},\n",
       " {'trip_distance': 1.3,\n",
       "  'pickup_latitude': 40.766931,\n",
       "  'pickup_longitude': -73.982098},\n",
       " {'trip_distance': 4.5,\n",
       "  'pickup_latitude': 40.77773,\n",
       "  'pickup_longitude': -73.951902},\n",
       " {'trip_distance': 2.4,\n",
       "  'pickup_latitude': 40.795678,\n",
       "  'pickup_longitude': -73.971049}]"
      ]
     },
     "execution_count": 21,
     "metadata": {},
     "output_type": "execute_result"
    }
   ],
   "source": [
    "cleaned_trips[0:4]"
   ]
  },
  {
   "cell_type": "code",
   "execution_count": 22,
   "metadata": {},
   "outputs": [
    {
     "data": {
      "text/plain": [
       "[[40.64499, -73.78115],\n",
       " [40.766931, -73.982098],\n",
       " [40.77773, -73.951902],\n",
       " [40.795678, -73.971049]]"
      ]
     },
     "execution_count": 22,
     "metadata": {},
     "output_type": "execute_result"
    }
   ],
   "source": [
    "trip_markers and len(trip_markers) # 1000\n",
    "\n",
    "list(map(lambda marker: marker.location, trip_markers[0:4]))\n",
    "# [[40.64499, -73.78115],\n",
    "#  [40.766931, -73.982098],\n",
    "#  [40.77773, -73.951902],\n",
    "#  [40.795678, -73.971049]]"
   ]
  },
  {
   "cell_type": "markdown",
   "metadata": {},
   "source": [
    "Ok, now that we have a function that creates locations, and a function that creates markers, it is time to write a function to plot a map. \n",
    "\n",
    "Write a function called `map_from` that, provided the first argument of a list location and second argument an integer representing the `zoom_start`, returns a `folium` map the corresponding location and `zoom_start` attributes.\n",
    "\n",
    "> Hint: The following is how to write a map with folium:\n",
    "> ```python \n",
    "    folium.Map(location=location, zoom_start=zoom_amount)\n",
    "> ```"
   ]
  },
  {
   "cell_type": "code",
   "execution_count": 23,
   "metadata": {},
   "outputs": [],
   "source": [
    "def map_from(location, zoom_amount):\n",
    "    return folium.Map(location = location, zoom_start = zoom_amount)"
   ]
  },
  {
   "cell_type": "code",
   "execution_count": 24,
   "metadata": {},
   "outputs": [
    {
     "data": {
      "text/plain": [
       "15"
      ]
     },
     "execution_count": 24,
     "metadata": {},
     "output_type": "execute_result"
    }
   ],
   "source": [
    "times_square_map = map_from([40.7589, -73.9851], 15)\n",
    "times_square_map and times_square_map.location # [40.7589, -73.9851]\n",
    "times_square_map and times_square_map.zoom_start # 15"
   ]
  },
  {
   "cell_type": "code",
   "execution_count": 25,
   "metadata": {
    "scrolled": true
   },
   "outputs": [
    {
     "data": {
      "text/html": [
       "<div style=\"width:100%;\"><div style=\"position:relative;width:100%;height:0;padding-bottom:60%;\"><iframe src=\"data:text/html;charset=utf-8;base64,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\" style=\"position:absolute;width:100%;height:100%;left:0;top:0;border:none !important;\" allowfullscreen webkitallowfullscreen mozallowfullscreen></iframe></div></div>"
      ],
      "text/plain": [
       "<folium.folium.Map at 0x7efe6dbc8160>"
      ]
     },
     "execution_count": 25,
     "metadata": {},
     "output_type": "execute_result"
    }
   ],
   "source": [
    "times_square_marker and times_square_marker.add_to(times_square_map)\n",
    "times_square_map"
   ]
  },
  {
   "cell_type": "markdown",
   "metadata": {},
   "source": [
    "Now that we have a marker and a map, now let's write a function that adds a lot of markers to a map.  This function should add each marker in the list to the map object then return the updated map object."
   ]
  },
  {
   "cell_type": "code",
   "execution_count": 26,
   "metadata": {},
   "outputs": [
    {
     "data": {
      "text/html": [
       "<div style=\"width:100%;\"><div style=\"position:relative;width:100%;height:0;padding-bottom:60%;\"><iframe src=\"data:text/html;charset=utf-8;base64,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\" style=\"position:absolute;width:100%;height:100%;left:0;top:0;border:none !important;\" allowfullscreen webkitallowfullscreen mozallowfullscreen></iframe></div></div>"
      ],
      "text/plain": [
       "<folium.folium.Map at 0x7efe6dbdc9e8>"
      ]
     },
     "execution_count": 26,
     "metadata": {},
     "output_type": "execute_result"
    }
   ],
   "source": [
    "manhattan_map = map_from([40.7589, -73.9851], 13)\n",
    "\n",
    "manhattan_map"
   ]
  },
  {
   "cell_type": "code",
   "execution_count": 37,
   "metadata": {},
   "outputs": [],
   "source": [
    "def add_markers(markers, map_obj):\n",
    "    map(lambda marker: marker.add_to(map_obj), markers)\n",
    "    return map_obj"
   ]
  },
  {
   "cell_type": "code",
   "execution_count": 38,
   "metadata": {
    "scrolled": false
   },
   "outputs": [],
   "source": [
    "map_with_markers = add_markers(trip_markers, manhattan_map)\n"
   ]
  },
  {
   "cell_type": "code",
   "execution_count": 39,
   "metadata": {},
   "outputs": [
    {
     "data": {
      "text/html": [
       "<div style=\"width:100%;\"><div style=\"position:relative;width:100%;height:0;padding-bottom:60%;\"><iframe src=\"data:text/html;charset=utf-8;base64,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\" style=\"position:absolute;width:100%;height:100%;left:0;top:0;border:none !important;\" allowfullscreen webkitallowfullscreen mozallowfullscreen></iframe></div></div>"
      ],
      "text/plain": [
       "<folium.folium.Map at 0x7efe6dbdc9e8>"
      ]
     },
     "execution_count": 39,
     "metadata": {},
     "output_type": "execute_result"
    }
   ],
   "source": [
    "map_with_markers\n",
    "\n"
   ]
  },
  {
   "cell_type": "markdown",
   "metadata": {},
   "source": [
    "### Using Nearest Neighbors"
   ]
  },
  {
   "cell_type": "markdown",
   "metadata": {},
   "source": [
    "Ok, let's write a function that given a latitude and longitude will predict the distance for us.  We'll do this by first finding the nearest trips given a latitude and longitude. "
   ]
  },
  {
   "cell_type": "markdown",
   "metadata": {},
   "source": [
    "Here we once again apply the nearest neighbors formula. As a first step, write a function named `distance_location` that calculates the distance in pickup location between two trips."
   ]
  },
  {
   "cell_type": "code",
   "execution_count": 28,
   "metadata": {},
   "outputs": [],
   "source": [
    "import math\n",
    "\n",
    "def distance_location(selected_trip, neighbor_trip):\n",
    "    lat_distance = abs(selected_trip['pickup_latitude'] - neighbor_trip['pickup_latitude'])\n",
    "    long_distance = abs(selected_trip['pickup_longitude'] - neighbor_trip['pickup_longitude'])\n",
    "    distance_squared = lat_distance**2 + long_distance**2\n",
    "    return math.sqrt(distance_squared)"
   ]
  },
  {
   "cell_type": "code",
   "execution_count": 29,
   "metadata": {},
   "outputs": [
    {
     "data": {
      "text/plain": [
       "0.235"
      ]
     },
     "execution_count": 29,
     "metadata": {},
     "output_type": "execute_result"
    }
   ],
   "source": [
    "first_trip = {'pickup_latitude': 40.64499, 'pickup_longitude': -73.78115, 'trip_distance': 18.38}\n",
    "second_trip = {'pickup_latitude': 40.766931, 'pickup_longitude': -73.982098, 'trip_distance': 1.3}\n",
    "distance_first_and_second = distance_location(first_trip, second_trip)\n",
    "\n",
    "distance_first_and_second and round(distance_first_and_second, 3) # 0.235"
   ]
  },
  {
   "cell_type": "markdown",
   "metadata": {},
   "source": [
    "Ok, next write a function called `distance_between_neighbors` that adds a new key-value pair, called `distance_from_selected`, that calculates the distance of the `neighbor_trip` from the `selected_trip`."
   ]
  },
  {
   "cell_type": "code",
   "execution_count": 85,
   "metadata": {},
   "outputs": [],
   "source": [
    "def distance_between_neighbors(selected_trip, neighbor_trip):\n",
    "    neighbor_trip['distance_from_selected'] = distance_location(selected_trip, neighbor_trip)\n",
    "    return neighbor_trip"
   ]
  },
  {
   "cell_type": "code",
   "execution_count": 86,
   "metadata": {},
   "outputs": [
    {
     "data": {
      "text/plain": [
       "{'pickup_latitude': 40.766931,\n",
       " 'pickup_longitude': -73.982098,\n",
       " 'trip_distance': 1.3,\n",
       " 'distance_from_selected': 0.23505256047318146}"
      ]
     },
     "execution_count": 86,
     "metadata": {},
     "output_type": "execute_result"
    }
   ],
   "source": [
    "distance_between_neighbors(first_trip, second_trip)\n",
    "\n",
    "# {'distance_from_selected': 0.23505256047318146,\n",
    "#  'pickup_latitude': 40.766931,\n",
    "#  'pickup_longitude': -73.982098,\n",
    "#  'trip_distance': 1.3}"
   ]
  },
  {
   "cell_type": "markdown",
   "metadata": {},
   "source": [
    "Ok, now our `neighbor_trip` has another attribute called `distance_from_selected`, that indicates the distance from the `neighbor_trip`'s pickup location from the `selected_trip`."
   ]
  },
  {
   "cell_type": "markdown",
   "metadata": {},
   "source": [
    "> ** Understand the data:** Our dictionary now has a few attributes, two of which say distance.  Let's make sure we understand the difference. \n",
    "> * **`distance_from_selected`:** This is our calculation of the distance of the neighbor's pickup location from the selected trip.\n",
    "> * **`trip_distance`:** This is the attribute we were provided initially.  It tells us the length of the neighbor's taxi trip from pickup to drop-off.  "
   ]
  },
  {
   "cell_type": "markdown",
   "metadata": {},
   "source": [
    "Next, write a function called `distance_all` that provided a list of neighbors, returns each of those neighbors with their respective `distance_from_selected` numbers."
   ]
  },
  {
   "cell_type": "code",
   "execution_count": 91,
   "metadata": {},
   "outputs": [],
   "source": [
    "def distance_all(selected_individual, neighbors):\n",
    "    return list(map(lambda neighbor: distance_between_neighbors(selected_individual, neighbor),neighbors))"
   ]
  },
  {
   "cell_type": "code",
   "execution_count": 92,
   "metadata": {},
   "outputs": [
    {
     "data": {
      "text/plain": [
       "[{'trip_distance': 18.38,\n",
       "  'pickup_latitude': 40.64499,\n",
       "  'pickup_longitude': -73.78115,\n",
       "  'distance_from_selected': 0.0},\n",
       " {'trip_distance': 1.3,\n",
       "  'pickup_latitude': 40.766931,\n",
       "  'pickup_longitude': -73.982098,\n",
       "  'distance_from_selected': 0.23505256047318146},\n",
       " {'trip_distance': 4.5,\n",
       "  'pickup_latitude': 40.77773,\n",
       "  'pickup_longitude': -73.951902,\n",
       "  'distance_from_selected': 0.2162779533470808},\n",
       " {'trip_distance': 2.4,\n",
       "  'pickup_latitude': 40.795678,\n",
       "  'pickup_longitude': -73.971049,\n",
       "  'distance_from_selected': 0.24242215976473674}]"
      ]
     },
     "execution_count": 92,
     "metadata": {},
     "output_type": "execute_result"
    }
   ],
   "source": [
    "cleaned_trips and distance_all(first_trip, cleaned_trips[0:4])"
   ]
  },
  {
   "cell_type": "markdown",
   "metadata": {},
   "source": [
    "Now write the nearest neighbors formula to calculate the distance of the `selected_trip` from all of the `cleaned_trips` in our dataset.  If no number is provided, it should return the top 3 neighbors."
   ]
  },
  {
   "cell_type": "code",
   "execution_count": null,
   "metadata": {},
   "outputs": [],
   "source": [
    "def nearest_neighbors(selected_trip, trips, number = 3):\n",
    "    pass"
   ]
  },
  {
   "cell_type": "code",
   "execution_count": null,
   "metadata": {},
   "outputs": [],
   "source": [
    "new_trip = {'pickup_latitude': 40.64499,\n",
    "'pickup_longitude': -73.78115,\n",
    "'trip_distance': 18.38}\n",
    "\n",
    "nearest_three_neighbors = nearest_neighbors(new_trip, cleaned_trips or [], number = 3)\n",
    "nearest_three_neighbors\n",
    "# [{'distance_from_selected': 0.0004569288784918792,\n",
    "#   'pickup_latitude': 40.64483,\n",
    "#   'pickup_longitude': -73.781578,\n",
    "#   'trip_distance': 7.78},\n",
    "#  {'distance_from_selected': 0.0011292165425673159,\n",
    "#   'pickup_latitude': 40.644657,\n",
    "#   'pickup_longitude': -73.782229,\n",
    "#   'trip_distance': 12.7},\n",
    "#  {'distance_from_selected': 0.0042359798158141185,\n",
    "#   'pickup_latitude': 40.648509,\n",
    "#   'pickup_longitude': -73.783508,\n",
    "#   'trip_distance': 17.3}]"
   ]
  },
  {
   "cell_type": "markdown",
   "metadata": {},
   "source": [
    "Ok great! Now that we can provide a new trip location, and find the distances of the three nearest trips, we can take  calculate an estimate of the trip distance for that new trip location.  \n",
    "\n",
    "We do so simply by calculating the average of it's nearest neighbors."
   ]
  },
  {
   "cell_type": "code",
   "execution_count": null,
   "metadata": {},
   "outputs": [],
   "source": [
    "import statistics\n",
    "def mean_distance(neighbors):\n",
    "    nearest_distances = list(map(lambda neighbor: neighbor['trip_distance'], neighbors))\n",
    "    return round(statistics.mean(nearest_distances), 3)\n",
    "\n",
    "nearest_three_neighbors = nearest_neighbors(new_trip, cleaned_trips or [], number = 3)\n",
    "distance_estimate_of_selected_trip = mean_distance(nearest_three_neighbors) # 12.593\n",
    "distance_estimate_of_selected_trip"
   ]
  },
  {
   "cell_type": "markdown",
   "metadata": {},
   "source": [
    "### Choosing the correct number of neighbors"
   ]
  },
  {
   "cell_type": "markdown",
   "metadata": {},
   "source": [
    "Now, as we know from the last lesson, one tricky element is to determine how many neighbors to choose, our $k$ value,  before calculating the average.  We want to choose our value of $k$ such that it properly matches actual data, and so that it applies to new data.  There are fancy formulas to ensure that we **train** our algorithm so that our formula is optimized for all data, but here let's see different $k$ values manually.  This is the gist of choosing our $k$ value:\n",
    "\n",
    "* If we choose a $k$ value too low, our formula will be too heavily influenced by a single neighbor, whereas if our $k$ value is too high, we will be choosing so many neighbors that our nearest neighbors formula will not be adjust enough according to locations.\n",
    "\n",
    "Ok, let's experiment with this."
   ]
  },
  {
   "cell_type": "markdown",
   "metadata": {},
   "source": [
    "First, let's choose a midtown location, to see what the trip distance would be.  A Google search reveals the coordinates of 51st and 7th avenue to be the following."
   ]
  },
  {
   "cell_type": "code",
   "execution_count": null,
   "metadata": {},
   "outputs": [],
   "source": [
    "midtown_trip = dict(pickup_latitude=40.761710, pickup_longitude=-73.982760)"
   ]
  },
  {
   "cell_type": "code",
   "execution_count": null,
   "metadata": {},
   "outputs": [],
   "source": [
    "seven_closest = nearest_neighbors(midtown_trip, cleaned_trips, number = 7)\n",
    "seven_closest\n",
    "# [{'trip_distance': 0.58,\n",
    "#   'pickup_latitude': 40.761372,\n",
    "#   'pickup_longitude': -73.982602,\n",
    "#   'distance_from_selected': 0.00037310588309379025},\n",
    "#  {'trip_distance': 0.8,\n",
    "#   'pickup_latitude': 40.762444,\n",
    "#   'pickup_longitude': -73.98244,\n",
    "#   'distance_from_selected': 0.00080072217404248},\n",
    "#  {'trip_distance': 1.4,\n",
    "#   'pickup_latitude': 40.762767,\n",
    "#   'pickup_longitude': -73.982293,\n",
    "#   'distance_from_selected': 0.0011555682584735844},\n",
    "#  {'trip_distance': 8.3,\n",
    "#   'pickup_latitude': 40.762868,\n",
    "#   'pickup_longitude': -73.983233,\n",
    "#   'distance_from_selected': 0.0012508768924205918},\n",
    "#  {'trip_distance': 1.26,\n",
    "#   'pickup_latitude': 40.760057,\n",
    "#   'pickup_longitude': -73.983502,\n",
    "#   'distance_from_selected': 0.0018118976240381972},\n",
    "#  {'trip_distance': 0.0,\n",
    "#   'pickup_latitude': 40.760644,\n",
    "#   'pickup_longitude': -73.984531,\n",
    "#   'distance_from_selected': 0.002067074502774709},\n",
    "#  {'trip_distance': 1.72,\n",
    "#   'pickup_latitude': 40.762107,\n",
    "#   'pickup_longitude': -73.98479,\n",
    "#   'distance_from_selected': 0.0020684557041472677}]"
   ]
  },
  {
   "cell_type": "markdown",
   "metadata": {},
   "source": [
    "Looking at the `distance_from_selected` it appears that our our trips are still fairly close to our selected trip.  Notice that most of the data is within a distance of .002 away, so going to the top 7 nearest neighbors didn't seem to give us neighbors too far from each other, which is a good sign.\n",
    "\n",
    "Still, it's hard to know what distance in latitude and longitude really look like, so let's map the data. "
   ]
  },
  {
   "cell_type": "code",
   "execution_count": null,
   "metadata": {},
   "outputs": [],
   "source": [
    "midtown_location = location(midtown_trip) # [40.76171, -73.98276]\n",
    "midtown_map = map_from(midtown_location, 16)\n",
    "closest_markers = markers_from_trips(seven_closest)\n",
    "\n",
    "add_markers(closest_markers, midtown_map)"
   ]
  },
  {
   "cell_type": "markdown",
   "metadata": {},
   "source": [
    "Ok.  These locations stay fairly close to our estimated location of 51st street and 7th Avenue.  So they could be a good estimate of a trip distance."
   ]
  },
  {
   "cell_type": "code",
   "execution_count": null,
   "metadata": {},
   "outputs": [],
   "source": [
    "mean_distance(seven_closest) # 2.009"
   ]
  },
  {
   "cell_type": "markdown",
   "metadata": {},
   "source": [
    "Ok, now let's try a different location"
   ]
  },
  {
   "cell_type": "code",
   "execution_count": null,
   "metadata": {},
   "outputs": [],
   "source": [
    "charging_bull_closest = nearest_neighbors({'pickup_latitude': 40.7049, 'pickup_longitude': -74.0137}, cleaned_trips, number = 12)"
   ]
  },
  {
   "cell_type": "code",
   "execution_count": null,
   "metadata": {
    "scrolled": true
   },
   "outputs": [],
   "source": [
    "mean_distance(charging_bull_closest) # 3.145"
   ]
  },
  {
   "cell_type": "markdown",
   "metadata": {},
   "source": [
    "Ok, so there appears to be a significant difference between choosing a location near Times Square versus choosing a location at Wall Street."
   ]
  },
  {
   "cell_type": "markdown",
   "metadata": {},
   "source": [
    "### Summary"
   ]
  },
  {
   "cell_type": "markdown",
   "metadata": {},
   "source": [
    "In this lab, we used the nearest neighbors function to predict the length of a taxi ride.  To do so, we selected a location, then found a number of taxi rides closest to that location, and finally took the average trip lengths of the nearest taxi rides to find an estimate of the new ride's trip length.  You can see that even with just a little bit of math and programming we can begin to make meaningful predictions with data."
   ]
  }
 ],
 "metadata": {
  "kernelspec": {
   "display_name": "Python 3",
   "language": "python",
   "name": "python3"
  },
  "language_info": {
   "codemirror_mode": {
    "name": "ipython",
    "version": 3
   },
   "file_extension": ".py",
   "mimetype": "text/x-python",
   "name": "python",
   "nbconvert_exporter": "python",
   "pygments_lexer": "ipython3",
   "version": "3.6.6"
  }
 },
 "nbformat": 4,
 "nbformat_minor": 2
}
