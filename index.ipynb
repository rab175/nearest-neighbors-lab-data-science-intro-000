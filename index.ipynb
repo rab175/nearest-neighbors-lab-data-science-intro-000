{
 "cells": [
  {
   "cell_type": "markdown",
   "metadata": {},
   "source": [
    "# Nearest Neighbors Lab"
   ]
  },
  {
   "cell_type": "markdown",
   "metadata": {},
   "source": [
    "### Introduction\n",
    "\n",
    "In this lab, you apply nearest neighbors technique to help a taxi company predict the length of their rides.  Imagine that we are hired to consult for LiftOff, a limo and taxi service that is just opening up in NYC.  Liftoff wants it's taxi drivers to target longer rides, as the longer the ride the more money it makes.  LiftOff has the following theory:\n",
    "\n",
    "* the pickup location of a taxi ride can help predict the length of the ride.  \n",
    "\n",
    "\n",
    "\n",
    "LiftOff asks us to do some analysis to write a function that will allow it to **predict the length of a taxi ride for any given location **.\n",
    "\n",
    "Our technique will be the following:\n",
    "  * **Collect** Obtain the data containing all of the taxi information, and only select the attributes of taxi trips that we need \n",
    "  * ** Explore ** Examine the attributes of our data, and plot some of our data on a map\n",
    "  * ** Train ** Write our nearest neighbors formula, and change the number of nearby trips to predict the length of a new trip\n",
    "  * ** Predict ** Use our function to predict trip lengths of new locations"
   ]
  },
  {
   "cell_type": "markdown",
   "metadata": {},
   "source": [
    "### Collect and Explore the data"
   ]
  },
  {
   "cell_type": "markdown",
   "metadata": {},
   "source": [
    "#### Collect the Data"
   ]
  },
  {
   "cell_type": "markdown",
   "metadata": {},
   "source": [
    "Luckily for us, [NYC Open Data](https://opendata.cityofnewyork.us/) collects information about NYC taxi trips and provides this data on [its website](https://data.cityofnewyork.us/Transportation/2014-Yellow-Taxi-Trip-Data/gn7m-em8n)."
   ]
  },
  {
   "cell_type": "markdown",
   "metadata": {},
   "source": [
    "![](./nyc-taxi.png)"
   ]
  },
  {
   "cell_type": "markdown",
   "metadata": {},
   "source": [
    "For your reading pleasure, the data has already been downloaded into the [trips.json](https://github.com/learn-co-curriculum/nearest-neighbors-lab/blob/master/trips.json) file in this lab which you can find here.  We'll use Python's `json` library to take the data from the `trips.json` file and store it as a variable in our notebook."
   ]
  },
  {
   "cell_type": "code",
   "execution_count": 1,
   "metadata": {},
   "outputs": [],
   "source": [
    "import json\n",
    "# First, read the file\n",
    "trips_file = open('trips.json')\n",
    "# Then, convert contents to list of dictionaries \n",
    "trips = json.load(trips_file)"
   ]
  },
  {
   "cell_type": "markdown",
   "metadata": {},
   "source": [
    "> Press shift + enter"
   ]
  },
  {
   "cell_type": "markdown",
   "metadata": {},
   "source": [
    "#### Explore the data"
   ]
  },
  {
   "cell_type": "markdown",
   "metadata": {},
   "source": [
    "The next step is to explore the data.  First, let's see how many trips we have."
   ]
  },
  {
   "cell_type": "code",
   "execution_count": 2,
   "metadata": {},
   "outputs": [
    {
     "data": {
      "text/plain": [
       "1000"
      ]
     },
     "execution_count": 2,
     "metadata": {},
     "output_type": "execute_result"
    }
   ],
   "source": [
    "len(trips)"
   ]
  },
  {
   "cell_type": "markdown",
   "metadata": {},
   "source": [
    "Not bad at all.  Now let's see what each individual trip looks like.  Each trip is a dictionary, so we can see the attributes of each trip with the `keys` function."
   ]
  },
  {
   "cell_type": "code",
   "execution_count": 3,
   "metadata": {
    "scrolled": true
   },
   "outputs": [
    {
     "data": {
      "text/plain": [
       "dict_keys(['dropoff_datetime', 'dropoff_latitude', 'dropoff_longitude', 'fare_amount', 'imp_surcharge', 'mta_tax', 'passenger_count', 'payment_type', 'pickup_datetime', 'pickup_latitude', 'pickup_longitude', 'rate_code', 'tip_amount', 'tolls_amount', 'total_amount', 'trip_distance', 'vendor_id'])"
      ]
     },
     "execution_count": 3,
     "metadata": {},
     "output_type": "execute_result"
    }
   ],
   "source": [
    "trips[0].keys()"
   ]
  },
  {
   "cell_type": "markdown",
   "metadata": {},
   "source": [
    "#### Limit our data"
   ]
  },
  {
   "cell_type": "markdown",
   "metadata": {},
   "source": [
    "Ok, now that we have explored some of our data, let's begin to think through what data is relevant for our task."
   ]
  },
  {
   "cell_type": "markdown",
   "metadata": {
    "collapsed": true
   },
   "source": [
    "Remember that our task is to **use the trip location to predict the length of a trip**.  So let's select the `pickup_latitude`, `pickup_longitude`, and `trip_distance` from each trip.  That will give us the trip location and related `trip_distance` for each trip.  Then based on these **actual** trip distances we can use nearest neighbors to predict an **expected** trip distance for a trip, provided an **actual** location."
   ]
  },
  {
   "cell_type": "markdown",
   "metadata": {},
   "source": [
    "** Add in about trip distance ** "
   ]
  },
  {
   "cell_type": "markdown",
   "metadata": {},
   "source": [
    "Write a function called `parse_trips(trips)` that returns a list of the trips with only the following attributes: \n",
    "* `trip_distance`\n",
    "* `pickup_latitude`\n",
    "* `pickup_longitude`"
   ]
  },
  {
   "cell_type": "code",
   "execution_count": 4,
   "metadata": {},
   "outputs": [],
   "source": [
    "def parse_trips(trips):\n",
    "    parsed_trips = list(map(lambda trip: dict(trip_distance=trip['trip_distance'], pickup_latitude=trip['pickup_latitude'], pickup_longitude=trip['pickup_longitude']), trips))\n",
    "    \n",
    "    return parsed_trips\n",
    "\n"
   ]
  },
  {
   "cell_type": "code",
   "execution_count": 5,
   "metadata": {},
   "outputs": [
    {
     "data": {
      "text/plain": [
       "{'trip_distance': '18.379999999999999',\n",
       " 'pickup_latitude': '40.64499',\n",
       " 'pickup_longitude': '-73.781149999999997'}"
      ]
     },
     "execution_count": 5,
     "metadata": {},
     "output_type": "execute_result"
    }
   ],
   "source": [
    "parsed_trips = parse_trips(trips)\n",
    "parsed_trips and parsed_trips[0]\n",
    "\n",
    "# {'pickup_latitude': '40.64499',\n",
    "#  'pickup_longitude': '-73.78115',\n",
    "#  'trip_distance': '18.38'}"
   ]
  },
  {
   "cell_type": "markdown",
   "metadata": {},
   "source": [
    "Now, there's just one change to make.  If you look at one of the trips, all of the values are strings.  Let's change them to be floats."
   ]
  },
  {
   "cell_type": "code",
   "execution_count": 6,
   "metadata": {},
   "outputs": [],
   "source": [
    "def float_values(trips):\n",
    "    float_trips = trips\n",
    "    for trip in float_trips:\n",
    "        for key, value in trip.items():\n",
    "            trip[key] = float(value)\n",
    "    return float_trips\n",
    "            "
   ]
  },
  {
   "cell_type": "code",
   "execution_count": 7,
   "metadata": {},
   "outputs": [],
   "source": [
    "cleaned_trips = float_values(parsed_trips)\n"
   ]
  },
  {
   "cell_type": "code",
   "execution_count": 8,
   "metadata": {},
   "outputs": [
    {
     "data": {
      "text/plain": [
       "{'trip_distance': 18.38,\n",
       " 'pickup_latitude': 40.64499,\n",
       " 'pickup_longitude': -73.78115}"
      ]
     },
     "execution_count": 8,
     "metadata": {},
     "output_type": "execute_result"
    }
   ],
   "source": [
    "cleaned_trips[0]\n",
    "\n",
    "# {'pickup_latitude': 40.64499,\n",
    "#  'pickup_longitude': -73.78115,\n",
    "#  'trip_distance': 18.38}"
   ]
  },
  {
   "cell_type": "markdown",
   "metadata": {},
   "source": [
    "### Exploring the Data"
   ]
  },
  {
   "cell_type": "markdown",
   "metadata": {},
   "source": [
    "Now that we have paired down our data, let's get a sense of our trip data.  We can use the `folium` Python library to plot a map of Manhattan, and our data.  First we must import `folium`, and then use the `Map` function to pass through a `location`, and `zoom_start`.  If a map isn't showing up below, copy and paste the command `pip install -r requirements.txt` into your terminal to install `folium` then try again."
   ]
  },
  {
   "cell_type": "code",
   "execution_count": 9,
   "metadata": {},
   "outputs": [],
   "source": [
    "import folium\n",
    "manhattan_map = folium.Map(location=[40.7589, -73.9851], zoom_start=11)"
   ]
  },
  {
   "cell_type": "code",
   "execution_count": 10,
   "metadata": {
    "scrolled": true
   },
   "outputs": [
    {
     "data": {
      "text/html": [
       "<div style=\"width:100%;\"><div style=\"position:relative;width:100%;height:0;padding-bottom:60%;\"><iframe src=\"data:text/html;charset=utf-8;base64,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\" style=\"position:absolute;width:100%;height:100%;left:0;top:0;border:none !important;\" allowfullscreen webkitallowfullscreen mozallowfullscreen></iframe></div></div>"
      ],
      "text/plain": [
       "<folium.folium.Map at 0x7fe10766a6a0>"
      ]
     },
     "execution_count": 10,
     "metadata": {},
     "output_type": "execute_result"
    }
   ],
   "source": [
    "manhattan_map"
   ]
  },
  {
   "cell_type": "markdown",
   "metadata": {},
   "source": [
    "Ok, now let's see how we could add a dot to mark a specific location.  We'll start with Times Square."
   ]
  },
  {
   "cell_type": "code",
   "execution_count": 11,
   "metadata": {},
   "outputs": [
    {
     "data": {
      "text/plain": [
       "<folium.vector_layers.CircleMarker at 0x7fe0d5b26c50>"
      ]
     },
     "execution_count": 11,
     "metadata": {},
     "output_type": "execute_result"
    }
   ],
   "source": [
    "marker = folium.CircleMarker(location = [40.7589, -73.9851], radius=10)\n",
    "marker.add_to(manhattan_map)"
   ]
  },
  {
   "cell_type": "markdown",
   "metadata": {},
   "source": [
    "Above, we first create a marker.  Then we add that circle marker to the `manhattan_map` we created earlier. "
   ]
  },
  {
   "cell_type": "code",
   "execution_count": 12,
   "metadata": {
    "scrolled": false
   },
   "outputs": [
    {
     "data": {
      "text/html": [
       "<div style=\"width:100%;\"><div style=\"position:relative;width:100%;height:0;padding-bottom:60%;\"><iframe src=\"data:text/html;charset=utf-8;base64,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\" style=\"position:absolute;width:100%;height:100%;left:0;top:0;border:none !important;\" allowfullscreen webkitallowfullscreen mozallowfullscreen></iframe></div></div>"
      ],
      "text/plain": [
       "<folium.folium.Map at 0x7fe10766a6a0>"
      ]
     },
     "execution_count": 12,
     "metadata": {},
     "output_type": "execute_result"
    }
   ],
   "source": [
    "manhattan_map"
   ]
  },
  {
   "cell_type": "markdown",
   "metadata": {},
   "source": [
    "Do you see that blue dot near Time's Square?  That is our marker.  \n",
    "\n",
    "So now that we can plot one marker on a map, we should have a sense of how we can plot many markers on a map to display our taxi ride data.  We simply plot a map, and then we add a marker for each location of a taxi trip.\n",
    "\n",
    "Now let's write some functions to allow us to plot maps and add markers a little more easily.  "
   ]
  },
  {
   "cell_type": "markdown",
   "metadata": {},
   "source": [
    "#### Writing some map plotting functions"
   ]
  },
  {
   "cell_type": "markdown",
   "metadata": {},
   "source": [
    "As a first step towards this, note that the functions to create both a marker and map each take in a location as two element list, representing the latitude and longitude values.  Take another look:\n",
    "\n",
    "```python\n",
    "marker = folium.CircleMarker(location = [40.7589, -73.9851])\n",
    "manhattan_map = folium.Map(location=[40.7589, -73.9851])\n",
    "```\n",
    "\n",
    "So let's write a function called to create this two element list from a trip.  Write a function called `location` that  takes in a trip as an argument and returns a list where the first element is the latitude and the second is the longitude.  Remember that a location looks like the following:"
   ]
  },
  {
   "cell_type": "code",
   "execution_count": 13,
   "metadata": {},
   "outputs": [
    {
     "data": {
      "text/plain": [
       "{'pickup_latitude': 40.64499,\n",
       " 'pickup_longitude': -73.78115,\n",
       " 'trip_distance': 18.38}"
      ]
     },
     "execution_count": 13,
     "metadata": {},
     "output_type": "execute_result"
    }
   ],
   "source": [
    "first_trip = {'pickup_latitude': 40.64499, 'pickup_longitude': -73.78115,  'trip_distance': 18.38}\n",
    "first_trip"
   ]
  },
  {
   "cell_type": "code",
   "execution_count": 15,
   "metadata": {},
   "outputs": [],
   "source": [
    "def location(trip):\n",
    "    lat_long = trip['pickup_latitude'], trip['pickup_longitude']\n",
    "    return list(lat_long)"
   ]
  },
  {
   "cell_type": "code",
   "execution_count": 16,
   "metadata": {},
   "outputs": [
    {
     "data": {
      "text/plain": [
       "[40.64499, -73.78115]"
      ]
     },
     "execution_count": 16,
     "metadata": {},
     "output_type": "execute_result"
    }
   ],
   "source": [
    "first_location = location(first_trip) # [40.64499, -73.78115]\n",
    "first_location # [40.64499, -73.78115]"
   ]
  },
  {
   "cell_type": "markdown",
   "metadata": {},
   "source": [
    "Ok, now that we can turn a trip into a location, let's turn a location into a marker.  Write a function called `to_marker` that takes in a location (in the form of a list) as an argument, and returns a folium `circleMarker` for that location.  The radius of the marker should always equal 6."
   ]
  },
  {
   "cell_type": "code",
   "execution_count": 17,
   "metadata": {},
   "outputs": [],
   "source": [
    "def to_marker(location):\n",
    "    marker = folium.CircleMarker(location, radius = 6)\n",
    "    return marker"
   ]
  },
  {
   "cell_type": "code",
   "execution_count": 18,
   "metadata": {},
   "outputs": [
    {
     "data": {
      "text/plain": [
       "6"
      ]
     },
     "execution_count": 18,
     "metadata": {},
     "output_type": "execute_result"
    }
   ],
   "source": [
    "import json\n",
    "times_square_marker = to_marker([40.7589, -73.9851])\n",
    "\n",
    "times_square_marker and times_square_marker.location # [40.7589, -73.9851]\n",
    "times_square_marker and json.loads(times_square_marker.options)['radius'] # 6"
   ]
  },
  {
   "cell_type": "markdown",
   "metadata": {},
   "source": [
    "Ok, now that we know how to produce a single marker, let's write a function to produce lots.  We can write a function called `markers_from_trips` that takes in a list of trips, and returns a marker object for each trip.  "
   ]
  },
  {
   "cell_type": "code",
   "execution_count": 19,
   "metadata": {},
   "outputs": [],
   "source": [
    "def markers_from_trips(trips):\n",
    "    return list(map(lambda trip: to_marker(location(trip)),trips))"
   ]
  },
  {
   "cell_type": "code",
   "execution_count": 20,
   "metadata": {},
   "outputs": [
    {
     "data": {
      "text/plain": [
       "[<folium.vector_layers.CircleMarker at 0x7fe1043aaa20>,\n",
       " <folium.vector_layers.CircleMarker at 0x7fe0d5b3e198>,\n",
       " <folium.vector_layers.CircleMarker at 0x7fe0d5b3e278>,\n",
       " <folium.vector_layers.CircleMarker at 0x7fe0d5b3e320>,\n",
       " <folium.vector_layers.CircleMarker at 0x7fe0d5b3e4a8>,\n",
       " <folium.vector_layers.CircleMarker at 0x7fe0d5b3e5f8>,\n",
       " <folium.vector_layers.CircleMarker at 0x7fe0d5b3e6d8>,\n",
       " <folium.vector_layers.CircleMarker at 0x7fe0d5b3e550>,\n",
       " <folium.vector_layers.CircleMarker at 0x7fe0d5b3e710>,\n",
       " <folium.vector_layers.CircleMarker at 0x7fe0d5b3e780>,\n",
       " <folium.vector_layers.CircleMarker at 0x7fe0d5b3eba8>,\n",
       " <folium.vector_layers.CircleMarker at 0x7fe0d5b3ec50>,\n",
       " <folium.vector_layers.CircleMarker at 0x7fe0d5b3ecf8>,\n",
       " <folium.vector_layers.CircleMarker at 0x7fe0d5b3eda0>,\n",
       " <folium.vector_layers.CircleMarker at 0x7fe0d5b3ee48>,\n",
       " <folium.vector_layers.CircleMarker at 0x7fe1043aa400>,\n",
       " <folium.vector_layers.CircleMarker at 0x7fe0d5b3eb00>,\n",
       " <folium.vector_layers.CircleMarker at 0x7fe0d5b3ea20>,\n",
       " <folium.vector_layers.CircleMarker at 0x7fe0d5b3e208>,\n",
       " <folium.vector_layers.CircleMarker at 0x7fe0d5b3e748>,\n",
       " <folium.vector_layers.CircleMarker at 0x7fe0d5b3e400>,\n",
       " <folium.vector_layers.CircleMarker at 0x7fe0d5b3e518>,\n",
       " <folium.vector_layers.CircleMarker at 0x7fe0d5b3e2b0>,\n",
       " <folium.vector_layers.CircleMarker at 0x7fe0d5b3e080>,\n",
       " <folium.vector_layers.CircleMarker at 0x7fe0d5b3edd8>,\n",
       " <folium.vector_layers.CircleMarker at 0x7fe0d5b3ed30>,\n",
       " <folium.vector_layers.CircleMarker at 0x7fe0d5b3e7f0>,\n",
       " <folium.vector_layers.CircleMarker at 0x7fe0d5b3e828>,\n",
       " <folium.vector_layers.CircleMarker at 0x7fe0d5b3e978>,\n",
       " <folium.vector_layers.CircleMarker at 0x7fe0d5b3e9b0>,\n",
       " <folium.vector_layers.CircleMarker at 0x7fe0d5b3ef98>,\n",
       " <folium.vector_layers.CircleMarker at 0x7fe0d5b3e940>,\n",
       " <folium.vector_layers.CircleMarker at 0x7fe0d5b3ea90>,\n",
       " <folium.vector_layers.CircleMarker at 0x7fe0d5a640b8>,\n",
       " <folium.vector_layers.CircleMarker at 0x7fe0d5a64198>,\n",
       " <folium.vector_layers.CircleMarker at 0x7fe0d5a642b0>,\n",
       " <folium.vector_layers.CircleMarker at 0x7fe0d5b3eeb8>,\n",
       " <folium.vector_layers.CircleMarker at 0x7fe0d5b3e860>,\n",
       " <folium.vector_layers.CircleMarker at 0x7fe0d5b3e8d0>,\n",
       " <folium.vector_layers.CircleMarker at 0x7fe0d5b3e358>,\n",
       " <folium.vector_layers.CircleMarker at 0x7fe0d5b3ef28>,\n",
       " <folium.vector_layers.CircleMarker at 0x7fe0d5b3e6a0>,\n",
       " <folium.vector_layers.CircleMarker at 0x7fe0d5b3e4e0>,\n",
       " <folium.vector_layers.CircleMarker at 0x7fe0d5b3e588>,\n",
       " <folium.vector_layers.CircleMarker at 0x7fe1043aa2b0>,\n",
       " <folium.vector_layers.CircleMarker at 0x7fe0d5b3e668>,\n",
       " <folium.vector_layers.CircleMarker at 0x7fe0d5b3e438>,\n",
       " <folium.vector_layers.CircleMarker at 0x7fe0d5b3ec88>,\n",
       " <folium.vector_layers.CircleMarker at 0x7fe0d5a64048>,\n",
       " <folium.vector_layers.CircleMarker at 0x7fe0d5a64390>,\n",
       " <folium.vector_layers.CircleMarker at 0x7fe0d5a64438>,\n",
       " <folium.vector_layers.CircleMarker at 0x7fe0d5a64278>,\n",
       " <folium.vector_layers.CircleMarker at 0x7fe0d5a64518>,\n",
       " <folium.vector_layers.CircleMarker at 0x7fe0d5a645c0>,\n",
       " <folium.vector_layers.CircleMarker at 0x7fe0d5a64668>,\n",
       " <folium.vector_layers.CircleMarker at 0x7fe0d5a64710>,\n",
       " <folium.vector_layers.CircleMarker at 0x7fe0d5a647b8>,\n",
       " <folium.vector_layers.CircleMarker at 0x7fe0d5a64860>,\n",
       " <folium.vector_layers.CircleMarker at 0x7fe0d5b3eef0>,\n",
       " <folium.vector_layers.CircleMarker at 0x7fe0d5b3e7b8>,\n",
       " <folium.vector_layers.CircleMarker at 0x7fe0d5b3e898>,\n",
       " <folium.vector_layers.CircleMarker at 0x7fe0d5b3e3c8>,\n",
       " <folium.vector_layers.CircleMarker at 0x7fe0d5b3e908>,\n",
       " <folium.vector_layers.CircleMarker at 0x7fe0d5b3ee80>,\n",
       " <folium.vector_layers.CircleMarker at 0x7fe0d5b3e390>,\n",
       " <folium.vector_layers.CircleMarker at 0x7fe0d5a646a0>,\n",
       " <folium.vector_layers.CircleMarker at 0x7fe0d5a646d8>,\n",
       " <folium.vector_layers.CircleMarker at 0x7fe0d5a64588>,\n",
       " <folium.vector_layers.CircleMarker at 0x7fe0d5a64080>,\n",
       " <folium.vector_layers.CircleMarker at 0x7fe0d5a64400>,\n",
       " <folium.vector_layers.CircleMarker at 0x7fe0d5a64160>,\n",
       " <folium.vector_layers.CircleMarker at 0x7fe0d5a64908>,\n",
       " <folium.vector_layers.CircleMarker at 0x7fe0d5a647f0>,\n",
       " <folium.vector_layers.CircleMarker at 0x7fe0d5a64a20>,\n",
       " <folium.vector_layers.CircleMarker at 0x7fe0d5a64a58>,\n",
       " <folium.vector_layers.CircleMarker at 0x7fe0d5a64b00>,\n",
       " <folium.vector_layers.CircleMarker at 0x7fe0d5a64ba8>,\n",
       " <folium.vector_layers.CircleMarker at 0x7fe0d5a64c50>,\n",
       " <folium.vector_layers.CircleMarker at 0x7fe0d5a64cf8>,\n",
       " <folium.vector_layers.CircleMarker at 0x7fe0d5a64da0>,\n",
       " <folium.vector_layers.CircleMarker at 0x7fe0d5b3e1d0>,\n",
       " <folium.vector_layers.CircleMarker at 0x7fe0d5b3e9e8>,\n",
       " <folium.vector_layers.CircleMarker at 0x7fe0d5b3e048>,\n",
       " <folium.vector_layers.CircleMarker at 0x7fe0d5b3eac8>,\n",
       " <folium.vector_layers.CircleMarker at 0x7fe0d5b3e160>,\n",
       " <folium.vector_layers.CircleMarker at 0x7fe0d5a64a90>,\n",
       " <folium.vector_layers.CircleMarker at 0x7fe0d5a649b0>,\n",
       " <folium.vector_layers.CircleMarker at 0x7fe0d5a64208>,\n",
       " <folium.vector_layers.CircleMarker at 0x7fe0d5a643c8>,\n",
       " <folium.vector_layers.CircleMarker at 0x7fe0d5a64748>,\n",
       " <folium.vector_layers.CircleMarker at 0x7fe0d5a644a8>,\n",
       " <folium.vector_layers.CircleMarker at 0x7fe0d5a644e0>,\n",
       " <folium.vector_layers.CircleMarker at 0x7fe0d5a64780>,\n",
       " <folium.vector_layers.CircleMarker at 0x7fe0d5a64e48>,\n",
       " <folium.vector_layers.CircleMarker at 0x7fe0d5a64d30>,\n",
       " <folium.vector_layers.CircleMarker at 0x7fe0d5a64f60>,\n",
       " <folium.vector_layers.CircleMarker at 0x7fe0d5a64f98>,\n",
       " <folium.vector_layers.CircleMarker at 0x7fe0d5a64dd8>,\n",
       " <folium.vector_layers.CircleMarker at 0x7fe0d5a790b8>,\n",
       " <folium.vector_layers.CircleMarker at 0x7fe0d5a791d0>,\n",
       " <folium.vector_layers.CircleMarker at 0x7fe0d5a79278>,\n",
       " <folium.vector_layers.CircleMarker at 0x7fe0d5b3ed68>,\n",
       " <folium.vector_layers.CircleMarker at 0x7fe0d5b3ec18>,\n",
       " <folium.vector_layers.CircleMarker at 0x7fe0d5b3e0f0>,\n",
       " <folium.vector_layers.CircleMarker at 0x7fe0d5a64fd0>,\n",
       " <folium.vector_layers.CircleMarker at 0x7fe0d5a64828>,\n",
       " <folium.vector_layers.CircleMarker at 0x7fe0d5a640f0>,\n",
       " <folium.vector_layers.CircleMarker at 0x7fe0d5a64630>,\n",
       " <folium.vector_layers.CircleMarker at 0x7fe0d5a64240>,\n",
       " <folium.vector_layers.CircleMarker at 0x7fe0d5a642e8>,\n",
       " <folium.vector_layers.CircleMarker at 0x7fe0d5a64cc0>,\n",
       " <folium.vector_layers.CircleMarker at 0x7fe0d5a64898>,\n",
       " <folium.vector_layers.CircleMarker at 0x7fe0d5a64e10>,\n",
       " <folium.vector_layers.CircleMarker at 0x7fe0d5a64978>,\n",
       " <folium.vector_layers.CircleMarker at 0x7fe0d5a79080>,\n",
       " <folium.vector_layers.CircleMarker at 0x7fe0d5a79208>,\n",
       " <folium.vector_layers.CircleMarker at 0x7fe0d5a79438>,\n",
       " <folium.vector_layers.CircleMarker at 0x7fe0d5a79470>,\n",
       " <folium.vector_layers.CircleMarker at 0x7fe0d5a79518>,\n",
       " <folium.vector_layers.CircleMarker at 0x7fe0d5a795c0>,\n",
       " <folium.vector_layers.CircleMarker at 0x7fe0d5a79668>,\n",
       " <folium.vector_layers.CircleMarker at 0x7fe0d5a79710>,\n",
       " <folium.vector_layers.CircleMarker at 0x7fe0d5a797b8>,\n",
       " <folium.vector_layers.CircleMarker at 0x7fe0d5a64ef0>,\n",
       " <folium.vector_layers.CircleMarker at 0x7fe0d5a64b70>,\n",
       " <folium.vector_layers.CircleMarker at 0x7fe0d5a64f28>,\n",
       " <folium.vector_layers.CircleMarker at 0x7fe0d5a641d0>,\n",
       " <folium.vector_layers.CircleMarker at 0x7fe0d5a64eb8>,\n",
       " <folium.vector_layers.CircleMarker at 0x7fe0d5a64e80>,\n",
       " <folium.vector_layers.CircleMarker at 0x7fe0d5b3e5c0>,\n",
       " <folium.vector_layers.CircleMarker at 0x7fe0d5b3ea58>,\n",
       " <folium.vector_layers.CircleMarker at 0x7fe0d5a796d8>,\n",
       " <folium.vector_layers.CircleMarker at 0x7fe0d5a79588>,\n",
       " <folium.vector_layers.CircleMarker at 0x7fe0d5a79320>,\n",
       " <folium.vector_layers.CircleMarker at 0x7fe0d5a79400>,\n",
       " <folium.vector_layers.CircleMarker at 0x7fe0d5a79160>,\n",
       " <folium.vector_layers.CircleMarker at 0x7fe0d5a79860>,\n",
       " <folium.vector_layers.CircleMarker at 0x7fe0d5a79748>,\n",
       " <folium.vector_layers.CircleMarker at 0x7fe0d5a79978>,\n",
       " <folium.vector_layers.CircleMarker at 0x7fe0d5a799b0>,\n",
       " <folium.vector_layers.CircleMarker at 0x7fe0d5a79a58>,\n",
       " <folium.vector_layers.CircleMarker at 0x7fe0d5a79b00>,\n",
       " <folium.vector_layers.CircleMarker at 0x7fe0d5a79ba8>,\n",
       " <folium.vector_layers.CircleMarker at 0x7fe0d5a79c50>,\n",
       " <folium.vector_layers.CircleMarker at 0x7fe0d5a79cf8>,\n",
       " <folium.vector_layers.CircleMarker at 0x7fe0d5b3e2e8>,\n",
       " <folium.vector_layers.CircleMarker at 0x7fe0d5a64d68>,\n",
       " <folium.vector_layers.CircleMarker at 0x7fe0d5a64470>,\n",
       " <folium.vector_layers.CircleMarker at 0x7fe0d5a64358>,\n",
       " <folium.vector_layers.CircleMarker at 0x7fe0d5a645f8>,\n",
       " <folium.vector_layers.CircleMarker at 0x7fe0d5a79c18>,\n",
       " <folium.vector_layers.CircleMarker at 0x7fe0d5a79ac8>,\n",
       " <folium.vector_layers.CircleMarker at 0x7fe0d5a798d0>,\n",
       " <folium.vector_layers.CircleMarker at 0x7fe0d5a79940>,\n",
       " <folium.vector_layers.CircleMarker at 0x7fe0d5a79198>,\n",
       " <folium.vector_layers.CircleMarker at 0x7fe0d5a79390>,\n",
       " <folium.vector_layers.CircleMarker at 0x7fe0d5a79550>,\n",
       " <folium.vector_layers.CircleMarker at 0x7fe0d5a79630>,\n",
       " <folium.vector_layers.CircleMarker at 0x7fe0d5a79da0>,\n",
       " <folium.vector_layers.CircleMarker at 0x7fe0d5a79c88>,\n",
       " <folium.vector_layers.CircleMarker at 0x7fe0d5a79eb8>,\n",
       " <folium.vector_layers.CircleMarker at 0x7fe0d5a79ef0>,\n",
       " <folium.vector_layers.CircleMarker at 0x7fe0d5a79f98>,\n",
       " <folium.vector_layers.CircleMarker at 0x7fe0d5a79f28>,\n",
       " <folium.vector_layers.CircleMarker at 0x7fe0d5a8f080>,\n",
       " <folium.vector_layers.CircleMarker at 0x7fe0d5a8f160>,\n",
       " <folium.vector_layers.CircleMarker at 0x7fe0d5a8f278>,\n",
       " <folium.vector_layers.CircleMarker at 0x7fe0d5a79b38>,\n",
       " <folium.vector_layers.CircleMarker at 0x7fe0d5a79e10>,\n",
       " <folium.vector_layers.CircleMarker at 0x7fe0d5a79dd8>,\n",
       " <folium.vector_layers.CircleMarker at 0x7fe0d5a796a0>,\n",
       " <folium.vector_layers.CircleMarker at 0x7fe0d5a79128>,\n",
       " <folium.vector_layers.CircleMarker at 0x7fe0d5a79908>,\n",
       " <folium.vector_layers.CircleMarker at 0x7fe0d5a79048>,\n",
       " <folium.vector_layers.CircleMarker at 0x7fe0d5a797f0>,\n",
       " <folium.vector_layers.CircleMarker at 0x7fe0d5b3efd0>,\n",
       " <folium.vector_layers.CircleMarker at 0x7fe0d5a794e0>,\n",
       " <folium.vector_layers.CircleMarker at 0x7fe0d5a64c88>,\n",
       " <folium.vector_layers.CircleMarker at 0x7fe0d5a64c18>,\n",
       " <folium.vector_layers.CircleMarker at 0x7fe0d5a8f208>,\n",
       " <folium.vector_layers.CircleMarker at 0x7fe0d5a8f0f0>,\n",
       " <folium.vector_layers.CircleMarker at 0x7fe0d5a8f198>,\n",
       " <folium.vector_layers.CircleMarker at 0x7fe0d5a8f438>,\n",
       " <folium.vector_layers.CircleMarker at 0x7fe0d5a8f470>,\n",
       " <folium.vector_layers.CircleMarker at 0x7fe0d5a8f518>,\n",
       " <folium.vector_layers.CircleMarker at 0x7fe0d5a8f5c0>,\n",
       " <folium.vector_layers.CircleMarker at 0x7fe0d5a8f668>,\n",
       " <folium.vector_layers.CircleMarker at 0x7fe0d5a8f710>,\n",
       " <folium.vector_layers.CircleMarker at 0x7fe0d5b3ef60>,\n",
       " <folium.vector_layers.CircleMarker at 0x7fe0d5a64be0>,\n",
       " <folium.vector_layers.CircleMarker at 0x7fe0d5a79a90>,\n",
       " <folium.vector_layers.CircleMarker at 0x7fe0d5a79240>,\n",
       " <folium.vector_layers.CircleMarker at 0x7fe0d5a793c8>,\n",
       " <folium.vector_layers.CircleMarker at 0x7fe0d5a79e48>,\n",
       " <folium.vector_layers.CircleMarker at 0x7fe0d5a79780>,\n",
       " <folium.vector_layers.CircleMarker at 0x7fe0d5a79fd0>,\n",
       " <folium.vector_layers.CircleMarker at 0x7fe0d5a79be0>,\n",
       " <folium.vector_layers.CircleMarker at 0x7fe0d5a8f4a8>,\n",
       " <folium.vector_layers.CircleMarker at 0x7fe0d5a8f3c8>,\n",
       " <folium.vector_layers.CircleMarker at 0x7fe0d5a8f240>,\n",
       " <folium.vector_layers.CircleMarker at 0x7fe0d5a8f358>,\n",
       " <folium.vector_layers.CircleMarker at 0x7fe0d5a8f1d0>,\n",
       " <folium.vector_layers.CircleMarker at 0x7fe0d5a8f6a0>,\n",
       " <folium.vector_layers.CircleMarker at 0x7fe0d5a8f8d0>,\n",
       " <folium.vector_layers.CircleMarker at 0x7fe0d5a8f908>,\n",
       " <folium.vector_layers.CircleMarker at 0x7fe0d5a8f9b0>,\n",
       " <folium.vector_layers.CircleMarker at 0x7fe0d5a8fa58>,\n",
       " <folium.vector_layers.CircleMarker at 0x7fe0d5a8fb00>,\n",
       " <folium.vector_layers.CircleMarker at 0x7fe0d5a8fba8>,\n",
       " <folium.vector_layers.CircleMarker at 0x7fe0d5a8fc50>,\n",
       " <folium.vector_layers.CircleMarker at 0x7fe0d5a79a20>,\n",
       " <folium.vector_layers.CircleMarker at 0x7fe0d5a79e80>,\n",
       " <folium.vector_layers.CircleMarker at 0x7fe0d5a79cc0>,\n",
       " <folium.vector_layers.CircleMarker at 0x7fe0d5a79828>,\n",
       " <folium.vector_layers.CircleMarker at 0x7fe0d5a79898>,\n",
       " <folium.vector_layers.CircleMarker at 0x7fe0d5a649e8>,\n",
       " <folium.vector_layers.CircleMarker at 0x7fe0d5a648d0>,\n",
       " <folium.vector_layers.CircleMarker at 0x7fe0d5a64b38>,\n",
       " <folium.vector_layers.CircleMarker at 0x7fe0d5b3ee10>,\n",
       " <folium.vector_layers.CircleMarker at 0x7fe0d5a8fa90>,\n",
       " <folium.vector_layers.CircleMarker at 0x7fe0d5a8fac8>,\n",
       " <folium.vector_layers.CircleMarker at 0x7fe0d5a8f978>,\n",
       " <folium.vector_layers.CircleMarker at 0x7fe0d5a8f390>,\n",
       " <folium.vector_layers.CircleMarker at 0x7fe0d5a8f7f0>,\n",
       " <folium.vector_layers.CircleMarker at 0x7fe0d5a8f630>,\n",
       " <folium.vector_layers.CircleMarker at 0x7fe0d5a8f320>,\n",
       " <folium.vector_layers.CircleMarker at 0x7fe0d5a8f550>,\n",
       " <folium.vector_layers.CircleMarker at 0x7fe0d5a8f780>,\n",
       " <folium.vector_layers.CircleMarker at 0x7fe0d5a8fd68>,\n",
       " <folium.vector_layers.CircleMarker at 0x7fe0d5a8fda0>,\n",
       " <folium.vector_layers.CircleMarker at 0x7fe0d5a8fc88>,\n",
       " <folium.vector_layers.CircleMarker at 0x7fe0d5a8fe80>,\n",
       " <folium.vector_layers.CircleMarker at 0x7fe0d5a64128>,\n",
       " <folium.vector_layers.CircleMarker at 0x7fe0d5a64320>,\n",
       " <folium.vector_layers.CircleMarker at 0x7fe0d5b3ebe0>,\n",
       " <folium.vector_layers.CircleMarker at 0x7fe0d5a790f0>,\n",
       " <folium.vector_layers.CircleMarker at 0x7fe0d5a79358>,\n",
       " <folium.vector_layers.CircleMarker at 0x7fe0d5a79d30>,\n",
       " <folium.vector_layers.CircleMarker at 0x7fe0d5a8fd30>,\n",
       " <folium.vector_layers.CircleMarker at 0x7fe0d5a8fbe0>,\n",
       " <folium.vector_layers.CircleMarker at 0x7fe0d5a8f5f8>,\n",
       " <folium.vector_layers.CircleMarker at 0x7fe0d5a8f898>,\n",
       " <folium.vector_layers.CircleMarker at 0x7fe0d5a8f0b8>,\n",
       " <folium.vector_layers.CircleMarker at 0x7fe0d5a8f940>,\n",
       " <folium.vector_layers.CircleMarker at 0x7fe0d5a8fa20>,\n",
       " <folium.vector_layers.CircleMarker at 0x7fe0d5a8ff28>,\n",
       " <folium.vector_layers.CircleMarker at 0x7fe0d5a8f828>,\n",
       " <folium.vector_layers.CircleMarker at 0x7fe0d5a8f9e8>,\n",
       " <folium.vector_layers.CircleMarker at 0x7fe0d5a8ff98>,\n",
       " <folium.vector_layers.CircleMarker at 0x7fe0d5a220f0>,\n",
       " <folium.vector_layers.CircleMarker at 0x7fe0d5a22208>,\n",
       " <folium.vector_layers.CircleMarker at 0x7fe0d5a222b0>,\n",
       " <folium.vector_layers.CircleMarker at 0x7fe0d5a22358>,\n",
       " <folium.vector_layers.CircleMarker at 0x7fe0d5a22400>,\n",
       " <folium.vector_layers.CircleMarker at 0x7fe0d5a8fb38>,\n",
       " <folium.vector_layers.CircleMarker at 0x7fe0d5a8ff60>,\n",
       " <folium.vector_layers.CircleMarker at 0x7fe0d5a8f4e0>,\n",
       " <folium.vector_layers.CircleMarker at 0x7fe0d5a8f2e8>,\n",
       " <folium.vector_layers.CircleMarker at 0x7fe0d5a8f400>,\n",
       " <folium.vector_layers.CircleMarker at 0x7fe0d5a8fe48>,\n",
       " <folium.vector_layers.CircleMarker at 0x7fe0d5a8f7b8>,\n",
       " <folium.vector_layers.CircleMarker at 0x7fe0d5b3ecc0>,\n",
       " <folium.vector_layers.CircleMarker at 0x7fe0d5a64550>,\n",
       " <folium.vector_layers.CircleMarker at 0x7fe0d5a799e8>,\n",
       " <folium.vector_layers.CircleMarker at 0x7fe0d5a79d68>,\n",
       " <folium.vector_layers.CircleMarker at 0x7fe0d5a220b8>,\n",
       " <folium.vector_layers.CircleMarker at 0x7fe0d5a22080>,\n",
       " <folium.vector_layers.CircleMarker at 0x7fe0d5a224a8>,\n",
       " <folium.vector_layers.CircleMarker at 0x7fe0d5a22390>,\n",
       " <folium.vector_layers.CircleMarker at 0x7fe0d5a225c0>,\n",
       " <folium.vector_layers.CircleMarker at 0x7fe0d5a225f8>,\n",
       " <folium.vector_layers.CircleMarker at 0x7fe0d5a226a0>,\n",
       " <folium.vector_layers.CircleMarker at 0x7fe0d5a22748>,\n",
       " <folium.vector_layers.CircleMarker at 0x7fe0d5a227f0>,\n",
       " <folium.vector_layers.CircleMarker at 0x7fe0d5a22898>,\n",
       " <folium.vector_layers.CircleMarker at 0x7fe0d5a22940>,\n",
       " <folium.vector_layers.CircleMarker at 0x7fe0d5a64940>,\n",
       " <folium.vector_layers.CircleMarker at 0x7fe0d5a794a8>,\n",
       " <folium.vector_layers.CircleMarker at 0x7fe0d5a79b70>,\n",
       " <folium.vector_layers.CircleMarker at 0x7fe0d5a8f748>,\n",
       " <folium.vector_layers.CircleMarker at 0x7fe0d5a8f6d8>,\n",
       " <folium.vector_layers.CircleMarker at 0x7fe0d5a8fb70>,\n",
       " <folium.vector_layers.CircleMarker at 0x7fe0d5a8f2b0>,\n",
       " <folium.vector_layers.CircleMarker at 0x7fe0d5a22630>,\n",
       " <folium.vector_layers.CircleMarker at 0x7fe0d5a22550>,\n",
       " <folium.vector_layers.CircleMarker at 0x7fe0d5a22128>,\n",
       " <folium.vector_layers.CircleMarker at 0x7fe0d5a22278>,\n",
       " <folium.vector_layers.CircleMarker at 0x7fe0d5a222e8>,\n",
       " <folium.vector_layers.CircleMarker at 0x7fe0d5a22160>,\n",
       " <folium.vector_layers.CircleMarker at 0x7fe0d5a229e8>,\n",
       " <folium.vector_layers.CircleMarker at 0x7fe0d5a228d0>,\n",
       " <folium.vector_layers.CircleMarker at 0x7fe0d5a22b00>,\n",
       " <folium.vector_layers.CircleMarker at 0x7fe0d5a22b38>,\n",
       " <folium.vector_layers.CircleMarker at 0x7fe0d5a22be0>,\n",
       " <folium.vector_layers.CircleMarker at 0x7fe0d5a22c88>,\n",
       " <folium.vector_layers.CircleMarker at 0x7fe0d5a22d30>,\n",
       " <folium.vector_layers.CircleMarker at 0x7fe0d5a22dd8>,\n",
       " <folium.vector_layers.CircleMarker at 0x7fe0d5a22e80>,\n",
       " <folium.vector_layers.CircleMarker at 0x7fe0d5b3eb38>,\n",
       " <folium.vector_layers.CircleMarker at 0x7fe0d5a792e8>,\n",
       " <folium.vector_layers.CircleMarker at 0x7fe0d5a8f588>,\n",
       " <folium.vector_layers.CircleMarker at 0x7fe0d5a8fcf8>,\n",
       " <folium.vector_layers.CircleMarker at 0x7fe0d5a22da0>,\n",
       " <folium.vector_layers.CircleMarker at 0x7fe0d5a22c50>,\n",
       " <folium.vector_layers.CircleMarker at 0x7fe0d5a22a58>,\n",
       " <folium.vector_layers.CircleMarker at 0x7fe0d5a22ac8>,\n",
       " <folium.vector_layers.CircleMarker at 0x7fe0d5a224e0>,\n",
       " <folium.vector_layers.CircleMarker at 0x7fe0d5a221d0>,\n",
       " <folium.vector_layers.CircleMarker at 0x7fe0d5a227b8>,\n",
       " <folium.vector_layers.CircleMarker at 0x7fe0d5a22518>,\n",
       " <folium.vector_layers.CircleMarker at 0x7fe0d5a226d8>,\n",
       " <folium.vector_layers.CircleMarker at 0x7fe0d5a22f28>,\n",
       " <folium.vector_layers.CircleMarker at 0x7fe0d5a22e10>,\n",
       " <folium.vector_layers.CircleMarker at 0x7fe0d5a22908>,\n",
       " <folium.vector_layers.CircleMarker at 0x7fe0d5a22f98>,\n",
       " <folium.vector_layers.CircleMarker at 0x7fe0d5a380f0>,\n",
       " <folium.vector_layers.CircleMarker at 0x7fe0d5a38208>,\n",
       " <folium.vector_layers.CircleMarker at 0x7fe0d5a382b0>,\n",
       " <folium.vector_layers.CircleMarker at 0x7fe0d5a38358>,\n",
       " <folium.vector_layers.CircleMarker at 0x7fe0d5a38400>,\n",
       " <folium.vector_layers.CircleMarker at 0x7fe0d5a22cc0>,\n",
       " <folium.vector_layers.CircleMarker at 0x7fe0d5a22f60>,\n",
       " <folium.vector_layers.CircleMarker at 0x7fe0d5a22828>,\n",
       " <folium.vector_layers.CircleMarker at 0x7fe0d5a22320>,\n",
       " <folium.vector_layers.CircleMarker at 0x7fe0d5a22a90>,\n",
       " <folium.vector_layers.CircleMarker at 0x7fe0d5a792b0>,\n",
       " <folium.vector_layers.CircleMarker at 0x7fe0d5a22ba8>,\n",
       " <folium.vector_layers.CircleMarker at 0x7fe0d5a22cf8>,\n",
       " <folium.vector_layers.CircleMarker at 0x7fe0d5a22978>,\n",
       " <folium.vector_layers.CircleMarker at 0x7fe0d5a8fe10>,\n",
       " <folium.vector_layers.CircleMarker at 0x7fe0d5a8f860>,\n",
       " <folium.vector_layers.CircleMarker at 0x7fe0d5a380b8>,\n",
       " <folium.vector_layers.CircleMarker at 0x7fe0d5a38080>,\n",
       " <folium.vector_layers.CircleMarker at 0x7fe0d5a384a8>,\n",
       " <folium.vector_layers.CircleMarker at 0x7fe0d5a38390>,\n",
       " <folium.vector_layers.CircleMarker at 0x7fe0d5a385c0>,\n",
       " <folium.vector_layers.CircleMarker at 0x7fe0d5a385f8>,\n",
       " <folium.vector_layers.CircleMarker at 0x7fe0d5a386a0>,\n",
       " <folium.vector_layers.CircleMarker at 0x7fe0d5a38748>,\n",
       " <folium.vector_layers.CircleMarker at 0x7fe0d5a387f0>,\n",
       " <folium.vector_layers.CircleMarker at 0x7fe0d5a38898>,\n",
       " <folium.vector_layers.CircleMarker at 0x7fe0d5a38940>,\n",
       " <folium.vector_layers.CircleMarker at 0x7fe0d5a8f048>,\n",
       " <folium.vector_layers.CircleMarker at 0x7fe0d5a22a20>,\n",
       " <folium.vector_layers.CircleMarker at 0x7fe0d5a223c8>,\n",
       " <folium.vector_layers.CircleMarker at 0x7fe0d5a22048>,\n",
       " <folium.vector_layers.CircleMarker at 0x7fe0d5a22668>,\n",
       " <folium.vector_layers.CircleMarker at 0x7fe0d5a22780>,\n",
       " <folium.vector_layers.CircleMarker at 0x7fe0d5a22d68>,\n",
       " <folium.vector_layers.CircleMarker at 0x7fe0d5a38860>,\n",
       " <folium.vector_layers.CircleMarker at 0x7fe0d5a38710>,\n",
       " <folium.vector_layers.CircleMarker at 0x7fe0d5a38518>,\n",
       " <folium.vector_layers.CircleMarker at 0x7fe0d5a38588>,\n",
       " <folium.vector_layers.CircleMarker at 0x7fe0d5a38320>,\n",
       " <folium.vector_layers.CircleMarker at 0x7fe0d5a381d0>,\n",
       " <folium.vector_layers.CircleMarker at 0x7fe0d5a38470>,\n",
       " <folium.vector_layers.CircleMarker at 0x7fe0d5a38a58>,\n",
       " <folium.vector_layers.CircleMarker at 0x7fe0d5a38a90>,\n",
       " <folium.vector_layers.CircleMarker at 0x7fe0d5a38978>,\n",
       " <folium.vector_layers.CircleMarker at 0x7fe0d5a38b70>,\n",
       " <folium.vector_layers.CircleMarker at 0x7fe0d5a38c18>,\n",
       " <folium.vector_layers.CircleMarker at 0x7fe0d5a38cc0>,\n",
       " <folium.vector_layers.CircleMarker at 0x7fe0d5a38d68>,\n",
       " <folium.vector_layers.CircleMarker at 0x7fe0d5a22240>,\n",
       " <folium.vector_layers.CircleMarker at 0x7fe0d5a8f128>,\n",
       " <folium.vector_layers.CircleMarker at 0x7fe0d5a795f8>,\n",
       " <folium.vector_layers.CircleMarker at 0x7fe0d5a22198>,\n",
       " <folium.vector_layers.CircleMarker at 0x7fe0d5a22c18>,\n",
       " <folium.vector_layers.CircleMarker at 0x7fe0d5a38d30>,\n",
       " <folium.vector_layers.CircleMarker at 0x7fe0d5a38be0>,\n",
       " <folium.vector_layers.CircleMarker at 0x7fe0d5a38828>,\n",
       " <folium.vector_layers.CircleMarker at 0x7fe0d5a388d0>,\n",
       " <folium.vector_layers.CircleMarker at 0x7fe0d5a38278>,\n",
       " <folium.vector_layers.CircleMarker at 0x7fe0d5a38198>,\n",
       " <folium.vector_layers.CircleMarker at 0x7fe0d5a38630>,\n",
       " <folium.vector_layers.CircleMarker at 0x7fe0d5a38668>,\n",
       " <folium.vector_layers.CircleMarker at 0x7fe0d5a38908>,\n",
       " <folium.vector_layers.CircleMarker at 0x7fe0d5a38cf8>,\n",
       " <folium.vector_layers.CircleMarker at 0x7fe0d5a38f28>,\n",
       " <folium.vector_layers.CircleMarker at 0x7fe0d5a38f60>,\n",
       " <folium.vector_layers.CircleMarker at 0x7fe0d5a38da0>,\n",
       " <folium.vector_layers.CircleMarker at 0x7fe0d5a4c048>,\n",
       " <folium.vector_layers.CircleMarker at 0x7fe0d5a4c128>,\n",
       " <folium.vector_layers.CircleMarker at 0x7fe0d5a4c240>,\n",
       " <folium.vector_layers.CircleMarker at 0x7fe0d5a4c2e8>,\n",
       " <folium.vector_layers.CircleMarker at 0x7fe0d5a38e10>,\n",
       " <folium.vector_layers.CircleMarker at 0x7fe0d5a38780>,\n",
       " <folium.vector_layers.CircleMarker at 0x7fe0d5a38550>,\n",
       " <folium.vector_layers.CircleMarker at 0x7fe0d5a386d8>,\n",
       " <folium.vector_layers.CircleMarker at 0x7fe0d5a38b00>,\n",
       " <folium.vector_layers.CircleMarker at 0x7fe0d5a8feb8>,\n",
       " <folium.vector_layers.CircleMarker at 0x7fe0d5a382e8>,\n",
       " <folium.vector_layers.CircleMarker at 0x7fe0d5a38128>,\n",
       " <folium.vector_layers.CircleMarker at 0x7fe0d5a38ac8>,\n",
       " <folium.vector_layers.CircleMarker at 0x7fe0d5a22588>,\n",
       " <folium.vector_layers.CircleMarker at 0x7fe0d5a22860>,\n",
       " <folium.vector_layers.CircleMarker at 0x7fe0d5a22e48>,\n",
       " <folium.vector_layers.CircleMarker at 0x7fe0d5a4c198>,\n",
       " <folium.vector_layers.CircleMarker at 0x7fe0d5a4c390>,\n",
       " <folium.vector_layers.CircleMarker at 0x7fe0d5a4c278>,\n",
       " <folium.vector_layers.CircleMarker at 0x7fe0d5a4c4a8>,\n",
       " <folium.vector_layers.CircleMarker at 0x7fe0d5a4c4e0>,\n",
       " <folium.vector_layers.CircleMarker at 0x7fe0d5a4c588>,\n",
       " <folium.vector_layers.CircleMarker at 0x7fe0d5a4c630>,\n",
       " <folium.vector_layers.CircleMarker at 0x7fe0d5a4c6d8>,\n",
       " <folium.vector_layers.CircleMarker at 0x7fe0d5a4c780>,\n",
       " <folium.vector_layers.CircleMarker at 0x7fe0d5a4c828>,\n",
       " <folium.vector_layers.CircleMarker at 0x7fe0d5a22fd0>,\n",
       " <folium.vector_layers.CircleMarker at 0x7fe0d5a22b70>,\n",
       " <folium.vector_layers.CircleMarker at 0x7fe0d5a38e80>,\n",
       " <folium.vector_layers.CircleMarker at 0x7fe0d5a387b8>,\n",
       " <folium.vector_layers.CircleMarker at 0x7fe0d5a384e0>,\n",
       " <folium.vector_layers.CircleMarker at 0x7fe0d5a38048>,\n",
       " <folium.vector_layers.CircleMarker at 0x7fe0d5a38eb8>,\n",
       " <folium.vector_layers.CircleMarker at 0x7fe0d5a38fd0>,\n",
       " <folium.vector_layers.CircleMarker at 0x7fe0d5a4c518>,\n",
       " <folium.vector_layers.CircleMarker at 0x7fe0d5a4c438>,\n",
       " <folium.vector_layers.CircleMarker at 0x7fe0d5a4c208>,\n",
       " <folium.vector_layers.CircleMarker at 0x7fe0d5a4c1d0>,\n",
       " <folium.vector_layers.CircleMarker at 0x7fe0d5a4c080>,\n",
       " <folium.vector_layers.CircleMarker at 0x7fe0d5a4c8d0>,\n",
       " <folium.vector_layers.CircleMarker at 0x7fe0d5a4c7b8>,\n",
       " <folium.vector_layers.CircleMarker at 0x7fe0d5a4c9e8>,\n",
       " <folium.vector_layers.CircleMarker at 0x7fe0d5a4ca20>,\n",
       " <folium.vector_layers.CircleMarker at 0x7fe0d5a4cac8>,\n",
       " <folium.vector_layers.CircleMarker at 0x7fe0d5a4cb70>,\n",
       " <folium.vector_layers.CircleMarker at 0x7fe0d5a4cc18>,\n",
       " <folium.vector_layers.CircleMarker at 0x7fe0d5a4ccc0>,\n",
       " <folium.vector_layers.CircleMarker at 0x7fe0d5a4cd68>,\n",
       " <folium.vector_layers.CircleMarker at 0x7fe0d5a38b38>,\n",
       " <folium.vector_layers.CircleMarker at 0x7fe0d5a38240>,\n",
       " <folium.vector_layers.CircleMarker at 0x7fe0d5a22438>,\n",
       " <folium.vector_layers.CircleMarker at 0x7fe0d5a389b0>,\n",
       " <folium.vector_layers.CircleMarker at 0x7fe0d5a383c8>,\n",
       " <folium.vector_layers.CircleMarker at 0x7fe0d5a4ca58>,\n",
       " <folium.vector_layers.CircleMarker at 0x7fe0d5a4c978>,\n",
       " <folium.vector_layers.CircleMarker at 0x7fe0d5a4c0b8>,\n",
       " <folium.vector_layers.CircleMarker at 0x7fe0d5a4c3c8>,\n",
       " <folium.vector_layers.CircleMarker at 0x7fe0d5a4c710>,\n",
       " <folium.vector_layers.CircleMarker at 0x7fe0d5a4c6a0>,\n",
       " <folium.vector_layers.CircleMarker at 0x7fe0d5a4c400>,\n",
       " <folium.vector_layers.CircleMarker at 0x7fe0d5a4c5c0>,\n",
       " <folium.vector_layers.CircleMarker at 0x7fe0d5a4ce10>,\n",
       " <folium.vector_layers.CircleMarker at 0x7fe0d5a4ccf8>,\n",
       " <folium.vector_layers.CircleMarker at 0x7fe0d5a4cf28>,\n",
       " <folium.vector_layers.CircleMarker at 0x7fe0d5a4cf60>,\n",
       " <folium.vector_layers.CircleMarker at 0x7fe0d5a4cda0>,\n",
       " <folium.vector_layers.CircleMarker at 0x7fe0d59e0048>,\n",
       " <folium.vector_layers.CircleMarker at 0x7fe0d59e0128>,\n",
       " <folium.vector_layers.CircleMarker at 0x7fe0d59e0240>,\n",
       " <folium.vector_layers.CircleMarker at 0x7fe0d59e02e8>,\n",
       " <folium.vector_layers.CircleMarker at 0x7fe0d5a38c88>,\n",
       " <folium.vector_layers.CircleMarker at 0x7fe0d5a38438>,\n",
       " <folium.vector_layers.CircleMarker at 0x7fe0d5a38e48>,\n",
       " <folium.vector_layers.CircleMarker at 0x7fe0d5a4cfd0>,\n",
       " <folium.vector_layers.CircleMarker at 0x7fe0d5a4cef0>,\n",
       " <folium.vector_layers.CircleMarker at 0x7fe0d5a4c470>,\n",
       " <folium.vector_layers.CircleMarker at 0x7fe0d5a4c320>,\n",
       " <folium.vector_layers.CircleMarker at 0x7fe0d5a4c2b0>,\n",
       " <folium.vector_layers.CircleMarker at 0x7fe0d5a4c0f0>,\n",
       " <folium.vector_layers.CircleMarker at 0x7fe0d5a4cc88>,\n",
       " <folium.vector_layers.CircleMarker at 0x7fe0d5a4c860>,\n",
       " <folium.vector_layers.CircleMarker at 0x7fe0d5a4cdd8>,\n",
       " <folium.vector_layers.CircleMarker at 0x7fe0d5a4c940>,\n",
       " <folium.vector_layers.CircleMarker at 0x7fe0d59e00f0>,\n",
       " <folium.vector_layers.CircleMarker at 0x7fe0d59e0400>,\n",
       " <folium.vector_layers.CircleMarker at 0x7fe0d59e0438>,\n",
       " <folium.vector_layers.CircleMarker at 0x7fe0d59e0320>,\n",
       " <folium.vector_layers.CircleMarker at 0x7fe0d59e0518>,\n",
       " <folium.vector_layers.CircleMarker at 0x7fe0d59e05c0>,\n",
       " <folium.vector_layers.CircleMarker at 0x7fe0d59e0668>,\n",
       " <folium.vector_layers.CircleMarker at 0x7fe0d59e0710>,\n",
       " <folium.vector_layers.CircleMarker at 0x7fe0d5a4cf98>,\n",
       " <folium.vector_layers.CircleMarker at 0x7fe0d5a4cba8>,\n",
       " <folium.vector_layers.CircleMarker at 0x7fe0d5a4ca90>,\n",
       " <folium.vector_layers.CircleMarker at 0x7fe0d5a4ce80>,\n",
       " <folium.vector_layers.CircleMarker at 0x7fe0d5a4ce48>,\n",
       " <folium.vector_layers.CircleMarker at 0x7fe0d5a4cd30>,\n",
       " <folium.vector_layers.CircleMarker at 0x7fe0d5a64ac8>,\n",
       " <folium.vector_layers.CircleMarker at 0x7fe0d5a4c898>,\n",
       " <folium.vector_layers.CircleMarker at 0x7fe0d5a389e8>,\n",
       " <folium.vector_layers.CircleMarker at 0x7fe0d5a22eb8>,\n",
       " <folium.vector_layers.CircleMarker at 0x7fe0d5a229b0>,\n",
       " <folium.vector_layers.CircleMarker at 0x7fe0d5a38f98>,\n",
       " <folium.vector_layers.CircleMarker at 0x7fe0d5a8fef0>,\n",
       " <folium.vector_layers.CircleMarker at 0x7fe0d59e07b8>,\n",
       " <folium.vector_layers.CircleMarker at 0x7fe0d59e0630>,\n",
       " <folium.vector_layers.CircleMarker at 0x7fe0d59e04e0>,\n",
       " <folium.vector_layers.CircleMarker at 0x7fe0d59e0198>,\n",
       " <folium.vector_layers.CircleMarker at 0x7fe0d59e0160>,\n",
       " <folium.vector_layers.CircleMarker at 0x7fe0d59e0358>,\n",
       " <folium.vector_layers.CircleMarker at 0x7fe0d59e0860>,\n",
       " <folium.vector_layers.CircleMarker at 0x7fe0d59e0748>,\n",
       " <folium.vector_layers.CircleMarker at 0x7fe0d59e0940>,\n",
       " <folium.vector_layers.CircleMarker at 0x7fe0d59e09e8>,\n",
       " <folium.vector_layers.CircleMarker at 0x7fe0d5a8fc18>,\n",
       " <folium.vector_layers.CircleMarker at 0x7fe0d5a22710>,\n",
       " <folium.vector_layers.CircleMarker at 0x7fe0d5a38dd8>,\n",
       " <folium.vector_layers.CircleMarker at 0x7fe0d5a38a20>,\n",
       " <folium.vector_layers.CircleMarker at 0x7fe0d5a4c358>,\n",
       " <folium.vector_layers.CircleMarker at 0x7fe0d5a4ceb8>,\n",
       " <folium.vector_layers.CircleMarker at 0x7fe0d5a4cc50>,\n",
       " <folium.vector_layers.CircleMarker at 0x7fe0d5a4cbe0>,\n",
       " <folium.vector_layers.CircleMarker at 0x7fe0d5a4c5f8>,\n",
       " <folium.vector_layers.CircleMarker at 0x7fe0d59e01d0>,\n",
       " <folium.vector_layers.CircleMarker at 0x7fe0d59e0080>,\n",
       " <folium.vector_layers.CircleMarker at 0x7fe0d59e0390>,\n",
       " <folium.vector_layers.CircleMarker at 0x7fe0d59e03c8>,\n",
       " <folium.vector_layers.CircleMarker at 0x7fe0d59e0828>,\n",
       " <folium.vector_layers.CircleMarker at 0x7fe0d59e0b00>,\n",
       " <folium.vector_layers.CircleMarker at 0x7fe0d59e0b38>,\n",
       " <folium.vector_layers.CircleMarker at 0x7fe0d59e0a20>,\n",
       " <folium.vector_layers.CircleMarker at 0x7fe0d59e0c18>,\n",
       " <folium.vector_layers.CircleMarker at 0x7fe0d59e0cc0>,\n",
       " <folium.vector_layers.CircleMarker at 0x7fe0d59e0d68>,\n",
       " <folium.vector_layers.CircleMarker at 0x7fe0d59e0e10>,\n",
       " <folium.vector_layers.CircleMarker at 0x7fe0d5a4c748>,\n",
       " <folium.vector_layers.CircleMarker at 0x7fe0d5a22ef0>,\n",
       " <folium.vector_layers.CircleMarker at 0x7fe0d5a8ffd0>,\n",
       " <folium.vector_layers.CircleMarker at 0x7fe0d5a38c50>,\n",
       " <folium.vector_layers.CircleMarker at 0x7fe0d5a38ba8>,\n",
       " <folium.vector_layers.CircleMarker at 0x7fe0d5a4c7f0>,\n",
       " <folium.vector_layers.CircleMarker at 0x7fe0d59e0dd8>,\n",
       " <folium.vector_layers.CircleMarker at 0x7fe0d59e0c88>,\n",
       " <folium.vector_layers.CircleMarker at 0x7fe0d59e02b0>,\n",
       " <folium.vector_layers.CircleMarker at 0x7fe0d59e0978>,\n",
       " <folium.vector_layers.CircleMarker at 0x7fe0d59e00b8>,\n",
       " <folium.vector_layers.CircleMarker at 0x7fe0d59e04a8>,\n",
       " <folium.vector_layers.CircleMarker at 0x7fe0d59e06a0>,\n",
       " <folium.vector_layers.CircleMarker at 0x7fe0d59e0898>,\n",
       " <folium.vector_layers.CircleMarker at 0x7fe0d59e0da0>,\n",
       " <folium.vector_layers.CircleMarker at 0x7fe0d59e0fd0>,\n",
       " <folium.vector_layers.CircleMarker at 0x7fe0d59e0f60>,\n",
       " <folium.vector_layers.CircleMarker at 0x7fe0d59f3048>,\n",
       " <folium.vector_layers.CircleMarker at 0x7fe0d59f3128>,\n",
       " <folium.vector_layers.CircleMarker at 0x7fe0d59f3240>,\n",
       " <folium.vector_layers.CircleMarker at 0x7fe0d59f32e8>,\n",
       " <folium.vector_layers.CircleMarker at 0x7fe0d59f3390>,\n",
       " <folium.vector_layers.CircleMarker at 0x7fe0d59e0eb8>,\n",
       " <folium.vector_layers.CircleMarker at 0x7fe0d59e0f98>,\n",
       " <folium.vector_layers.CircleMarker at 0x7fe0d59e0208>,\n",
       " <folium.vector_layers.CircleMarker at 0x7fe0d59e08d0>,\n",
       " <folium.vector_layers.CircleMarker at 0x7fe0d5a38160>,\n",
       " <folium.vector_layers.CircleMarker at 0x7fe0d5a8fdd8>,\n",
       " <folium.vector_layers.CircleMarker at 0x7fe0d59e0470>,\n",
       " <folium.vector_layers.CircleMarker at 0x7fe0d59e0ac8>,\n",
       " <folium.vector_layers.CircleMarker at 0x7fe0d59e0b70>,\n",
       " <folium.vector_layers.CircleMarker at 0x7fe0d5a4c908>,\n",
       " <folium.vector_layers.CircleMarker at 0x7fe0d5a4c668>,\n",
       " <folium.vector_layers.CircleMarker at 0x7fe0d59f3160>,\n",
       " <folium.vector_layers.CircleMarker at 0x7fe0d59f3198>,\n",
       " <folium.vector_layers.CircleMarker at 0x7fe0d59f3438>,\n",
       " <folium.vector_layers.CircleMarker at 0x7fe0d59f3320>,\n",
       " <folium.vector_layers.CircleMarker at 0x7fe0d59f3550>,\n",
       " <folium.vector_layers.CircleMarker at 0x7fe0d59f3588>,\n",
       " <folium.vector_layers.CircleMarker at 0x7fe0d59f3630>,\n",
       " <folium.vector_layers.CircleMarker at 0x7fe0d59f36d8>,\n",
       " <folium.vector_layers.CircleMarker at 0x7fe0d59f3780>,\n",
       " <folium.vector_layers.CircleMarker at 0x7fe0d59f3828>,\n",
       " <folium.vector_layers.CircleMarker at 0x7fe0d59f38d0>,\n",
       " <folium.vector_layers.CircleMarker at 0x7fe0d5a22470>,\n",
       " <folium.vector_layers.CircleMarker at 0x7fe0d5a4cb00>,\n",
       " <folium.vector_layers.CircleMarker at 0x7fe0d59e0588>,\n",
       " <folium.vector_layers.CircleMarker at 0x7fe0d59e0c50>,\n",
       " <folium.vector_layers.CircleMarker at 0x7fe0d59e09b0>,\n",
       " <folium.vector_layers.CircleMarker at 0x7fe0d59e0ef0>,\n",
       " <folium.vector_layers.CircleMarker at 0x7fe0d59e0ba8>,\n",
       " <folium.vector_layers.CircleMarker at 0x7fe0d59f3710>,\n",
       " <folium.vector_layers.CircleMarker at 0x7fe0d59f3748>,\n",
       " <folium.vector_layers.CircleMarker at 0x7fe0d59f35f8>,\n",
       " <folium.vector_layers.CircleMarker at 0x7fe0d59f30f0>,\n",
       " <folium.vector_layers.CircleMarker at 0x7fe0d59f3470>,\n",
       " <folium.vector_layers.CircleMarker at 0x7fe0d59f32b0>,\n",
       " <folium.vector_layers.CircleMarker at 0x7fe0d59f3978>,\n",
       " <folium.vector_layers.CircleMarker at 0x7fe0d59f3860>,\n",
       " <folium.vector_layers.CircleMarker at 0x7fe0d59f3a90>,\n",
       " <folium.vector_layers.CircleMarker at 0x7fe0d59f3ac8>,\n",
       " <folium.vector_layers.CircleMarker at 0x7fe0d59f3b70>,\n",
       " <folium.vector_layers.CircleMarker at 0x7fe0d59f3c18>,\n",
       " <folium.vector_layers.CircleMarker at 0x7fe0d59f3cc0>,\n",
       " <folium.vector_layers.CircleMarker at 0x7fe0d59f3d68>,\n",
       " <folium.vector_layers.CircleMarker at 0x7fe0d59f3e10>,\n",
       " <folium.vector_layers.CircleMarker at 0x7fe0d5a4c550>,\n",
       " <folium.vector_layers.CircleMarker at 0x7fe0d5a38ef0>,\n",
       " <folium.vector_layers.CircleMarker at 0x7fe0d59e06d8>,\n",
       " <folium.vector_layers.CircleMarker at 0x7fe0d59e0a58>,\n",
       " <folium.vector_layers.CircleMarker at 0x7fe0d59e0d30>,\n",
       " <folium.vector_layers.CircleMarker at 0x7fe0d59f3b00>,\n",
       " <folium.vector_layers.CircleMarker at 0x7fe0d59f3a20>,\n",
       " <folium.vector_layers.CircleMarker at 0x7fe0d59f30b8>,\n",
       " <folium.vector_layers.CircleMarker at 0x7fe0d59f3278>,\n",
       " <folium.vector_layers.CircleMarker at 0x7fe0d59f37b8>,\n",
       " <folium.vector_layers.CircleMarker at 0x7fe0d59f33c8>,\n",
       " <folium.vector_layers.CircleMarker at 0x7fe0d59f3208>,\n",
       " <folium.vector_layers.CircleMarker at 0x7fe0d59f37f0>,\n",
       " <folium.vector_layers.CircleMarker at 0x7fe0d59f3eb8>,\n",
       " <folium.vector_layers.CircleMarker at 0x7fe0d59f3da0>,\n",
       " <folium.vector_layers.CircleMarker at 0x7fe0d59f3fd0>,\n",
       " <folium.vector_layers.CircleMarker at 0x7fe0d59f3f60>,\n",
       " <folium.vector_layers.CircleMarker at 0x7fe0d5a08048>,\n",
       " <folium.vector_layers.CircleMarker at 0x7fe0d5a08128>,\n",
       " <folium.vector_layers.CircleMarker at 0x7fe0d5a08240>,\n",
       " <folium.vector_layers.CircleMarker at 0x7fe0d5a082e8>,\n",
       " <folium.vector_layers.CircleMarker at 0x7fe0d5a08390>,\n",
       " <folium.vector_layers.CircleMarker at 0x7fe0d59f3dd8>,\n",
       " <folium.vector_layers.CircleMarker at 0x7fe0d59f3f98>,\n",
       " <folium.vector_layers.CircleMarker at 0x7fe0d59f34a8>,\n",
       " <folium.vector_layers.CircleMarker at 0x7fe0d59f35c0>,\n",
       " <folium.vector_layers.CircleMarker at 0x7fe0d59f3b38>,\n",
       " <folium.vector_layers.CircleMarker at 0x7fe0d59f3a58>,\n",
       " <folium.vector_layers.CircleMarker at 0x7fe0d59f3be0>,\n",
       " <folium.vector_layers.CircleMarker at 0x7fe0d5a4c9b0>,\n",
       " <folium.vector_layers.CircleMarker at 0x7fe0d59f3cf8>,\n",
       " <folium.vector_layers.CircleMarker at 0x7fe0d59e0f28>,\n",
       " <folium.vector_layers.CircleMarker at 0x7fe0d59e0be0>,\n",
       " <folium.vector_layers.CircleMarker at 0x7fe0d5a08160>,\n",
       " <folium.vector_layers.CircleMarker at 0x7fe0d5a08198>,\n",
       " <folium.vector_layers.CircleMarker at 0x7fe0d5a08438>,\n",
       " <folium.vector_layers.CircleMarker at 0x7fe0d5a08320>,\n",
       " <folium.vector_layers.CircleMarker at 0x7fe0d5a08550>,\n",
       " <folium.vector_layers.CircleMarker at 0x7fe0d5a08588>,\n",
       " <folium.vector_layers.CircleMarker at 0x7fe0d5a08630>,\n",
       " <folium.vector_layers.CircleMarker at 0x7fe0d5a086d8>,\n",
       " <folium.vector_layers.CircleMarker at 0x7fe0d5a08780>,\n",
       " <folium.vector_layers.CircleMarker at 0x7fe0d5a08828>,\n",
       " <folium.vector_layers.CircleMarker at 0x7fe0d5a088d0>,\n",
       " <folium.vector_layers.CircleMarker at 0x7fe0d5a4cb38>,\n",
       " <folium.vector_layers.CircleMarker at 0x7fe0d59e0908>,\n",
       " <folium.vector_layers.CircleMarker at 0x7fe0d59f3518>,\n",
       " <folium.vector_layers.CircleMarker at 0x7fe0d59f3c88>,\n",
       " <folium.vector_layers.CircleMarker at 0x7fe0d59f3668>,\n",
       " <folium.vector_layers.CircleMarker at 0x7fe0d59f3ef0>,\n",
       " <folium.vector_layers.CircleMarker at 0x7fe0d59f3e48>,\n",
       " <folium.vector_layers.CircleMarker at 0x7fe0d59f39b0>,\n",
       " <folium.vector_layers.CircleMarker at 0x7fe0d5a085c0>,\n",
       " <folium.vector_layers.CircleMarker at 0x7fe0d5a084e0>,\n",
       " <folium.vector_layers.CircleMarker at 0x7fe0d5a08208>,\n",
       " <folium.vector_layers.CircleMarker at 0x7fe0d5a081d0>,\n",
       " <folium.vector_layers.CircleMarker at 0x7fe0d5a08080>,\n",
       " <folium.vector_layers.CircleMarker at 0x7fe0d5a08400>,\n",
       " <folium.vector_layers.CircleMarker at 0x7fe0d5a089e8>,\n",
       " <folium.vector_layers.CircleMarker at 0x7fe0d5a08a20>,\n",
       " <folium.vector_layers.CircleMarker at 0x7fe0d5a08908>,\n",
       " <folium.vector_layers.CircleMarker at 0x7fe0d5a08b00>,\n",
       " <folium.vector_layers.CircleMarker at 0x7fe0d5a08ba8>,\n",
       " <folium.vector_layers.CircleMarker at 0x7fe0d5a08c50>,\n",
       " <folium.vector_layers.CircleMarker at 0x7fe0d5a08cf8>,\n",
       " <folium.vector_layers.CircleMarker at 0x7fe0d59f3ba8>,\n",
       " <folium.vector_layers.CircleMarker at 0x7fe0d59e0a90>,\n",
       " <folium.vector_layers.CircleMarker at 0x7fe0d59f3f28>,\n",
       " <folium.vector_layers.CircleMarker at 0x7fe0d59f3c50>,\n",
       " <folium.vector_layers.CircleMarker at 0x7fe0d59f36a0>,\n",
       " <folium.vector_layers.CircleMarker at 0x7fe0d5a08da0>,\n",
       " <folium.vector_layers.CircleMarker at 0x7fe0d5a08c18>,\n",
       " <folium.vector_layers.CircleMarker at 0x7fe0d5a08ac8>,\n",
       " <folium.vector_layers.CircleMarker at 0x7fe0d5a082b0>,\n",
       " <folium.vector_layers.CircleMarker at 0x7fe0d5a08978>,\n",
       " <folium.vector_layers.CircleMarker at 0x7fe0d5a085f8>,\n",
       " <folium.vector_layers.CircleMarker at 0x7fe0d5a08518>,\n",
       " <folium.vector_layers.CircleMarker at 0x7fe0d5a086a0>,\n",
       " <folium.vector_layers.CircleMarker at 0x7fe0d5a08710>,\n",
       " <folium.vector_layers.CircleMarker at 0x7fe0d5a08c88>,\n",
       " <folium.vector_layers.CircleMarker at 0x7fe0d5a08eb8>,\n",
       " <folium.vector_layers.CircleMarker at 0x7fe0d5a08ef0>,\n",
       " <folium.vector_layers.CircleMarker at 0x7fe0d5a08f98>,\n",
       " <folium.vector_layers.CircleMarker at 0x7fe0d5a08f28>,\n",
       " <folium.vector_layers.CircleMarker at 0x7fe0d599d0b8>,\n",
       " <folium.vector_layers.CircleMarker at 0x7fe0d599d1d0>,\n",
       " <folium.vector_layers.CircleMarker at 0x7fe0d599d278>,\n",
       " <folium.vector_layers.CircleMarker at 0x7fe0d5a08b38>,\n",
       " <folium.vector_layers.CircleMarker at 0x7fe0d5a08940>,\n",
       " <folium.vector_layers.CircleMarker at 0x7fe0d5a08dd8>,\n",
       " <folium.vector_layers.CircleMarker at 0x7fe0d5a080f0>,\n",
       " <folium.vector_layers.CircleMarker at 0x7fe0d5a08748>,\n",
       " <folium.vector_layers.CircleMarker at 0x7fe0d5a08a58>,\n",
       " <folium.vector_layers.CircleMarker at 0x7fe0d5a08a90>,\n",
       " <folium.vector_layers.CircleMarker at 0x7fe0d59e0550>,\n",
       " <folium.vector_layers.CircleMarker at 0x7fe0d5a08470>,\n",
       " <folium.vector_layers.CircleMarker at 0x7fe0d5a089b0>,\n",
       " <folium.vector_layers.CircleMarker at 0x7fe0d59f39e8>,\n",
       " <folium.vector_layers.CircleMarker at 0x7fe0d59f3908>,\n",
       " <folium.vector_layers.CircleMarker at 0x7fe0d599d048>,\n",
       " <folium.vector_layers.CircleMarker at 0x7fe0d599d0f0>,\n",
       " <folium.vector_layers.CircleMarker at 0x7fe0d599d208>,\n",
       " <folium.vector_layers.CircleMarker at 0x7fe0d599d438>,\n",
       " <folium.vector_layers.CircleMarker at 0x7fe0d599d470>,\n",
       " <folium.vector_layers.CircleMarker at 0x7fe0d599d518>,\n",
       " <folium.vector_layers.CircleMarker at 0x7fe0d599d5c0>,\n",
       " <folium.vector_layers.CircleMarker at 0x7fe0d599d668>,\n",
       " <folium.vector_layers.CircleMarker at 0x7fe0d599d710>,\n",
       " <folium.vector_layers.CircleMarker at 0x7fe0d599d7b8>,\n",
       " <folium.vector_layers.CircleMarker at 0x7fe0d59e07f0>,\n",
       " <folium.vector_layers.CircleMarker at 0x7fe0d59f3080>,\n",
       " <folium.vector_layers.CircleMarker at 0x7fe0d5a08e10>,\n",
       " <folium.vector_layers.CircleMarker at 0x7fe0d5a084a8>,\n",
       " <folium.vector_layers.CircleMarker at 0x7fe0d5a08898>,\n",
       " <folium.vector_layers.CircleMarker at 0x7fe0d5a08668>,\n",
       " <folium.vector_layers.CircleMarker at 0x7fe0d5a08f60>,\n",
       " <folium.vector_layers.CircleMarker at 0x7fe0d5a08e80>,\n",
       " <folium.vector_layers.CircleMarker at 0x7fe0d599d6d8>,\n",
       " <folium.vector_layers.CircleMarker at 0x7fe0d599d588>,\n",
       " <folium.vector_layers.CircleMarker at 0x7fe0d599d320>,\n",
       " <folium.vector_layers.CircleMarker at 0x7fe0d599d400>,\n",
       " <folium.vector_layers.CircleMarker at 0x7fe0d599d128>,\n",
       " <folium.vector_layers.CircleMarker at 0x7fe0d599d860>,\n",
       " <folium.vector_layers.CircleMarker at 0x7fe0d599d748>,\n",
       " <folium.vector_layers.CircleMarker at 0x7fe0d599d978>,\n",
       " <folium.vector_layers.CircleMarker at 0x7fe0d599d9b0>,\n",
       " <folium.vector_layers.CircleMarker at 0x7fe0d599da58>,\n",
       " <folium.vector_layers.CircleMarker at 0x7fe0d599db00>,\n",
       " <folium.vector_layers.CircleMarker at 0x7fe0d599dba8>,\n",
       " <folium.vector_layers.CircleMarker at 0x7fe0d599dc50>,\n",
       " <folium.vector_layers.CircleMarker at 0x7fe0d599dcf8>,\n",
       " <folium.vector_layers.CircleMarker at 0x7fe0d5a08cc0>,\n",
       " <folium.vector_layers.CircleMarker at 0x7fe0d5a08b70>,\n",
       " <folium.vector_layers.CircleMarker at 0x7fe0d59f3358>,\n",
       " <folium.vector_layers.CircleMarker at 0x7fe0d59f3898>,\n",
       " <folium.vector_layers.CircleMarker at 0x7fe0d5a080b8>,\n",
       " <folium.vector_layers.CircleMarker at 0x7fe0d599dc18>,\n",
       " <folium.vector_layers.CircleMarker at 0x7fe0d599dac8>,\n",
       " <folium.vector_layers.CircleMarker at 0x7fe0d599d8d0>,\n",
       " <folium.vector_layers.CircleMarker at 0x7fe0d599d940>,\n",
       " <folium.vector_layers.CircleMarker at 0x7fe0d599d198>,\n",
       " <folium.vector_layers.CircleMarker at 0x7fe0d599d390>,\n",
       " <folium.vector_layers.CircleMarker at 0x7fe0d599d550>,\n",
       " <folium.vector_layers.CircleMarker at 0x7fe0d599d630>,\n",
       " <folium.vector_layers.CircleMarker at 0x7fe0d599dda0>,\n",
       " <folium.vector_layers.CircleMarker at 0x7fe0d599dc88>,\n",
       " <folium.vector_layers.CircleMarker at 0x7fe0d599deb8>,\n",
       " <folium.vector_layers.CircleMarker at 0x7fe0d599def0>,\n",
       " <folium.vector_layers.CircleMarker at 0x7fe0d599df98>,\n",
       " <folium.vector_layers.CircleMarker at 0x7fe0d599df28>,\n",
       " <folium.vector_layers.CircleMarker at 0x7fe0d59b10f0>,\n",
       " <folium.vector_layers.CircleMarker at 0x7fe0d59b11d0>,\n",
       " <folium.vector_layers.CircleMarker at 0x7fe0d59b1278>,\n",
       " <folium.vector_layers.CircleMarker at 0x7fe0d599db38>,\n",
       " <folium.vector_layers.CircleMarker at 0x7fe0d599de10>,\n",
       " <folium.vector_layers.CircleMarker at 0x7fe0d599ddd8>,\n",
       " <folium.vector_layers.CircleMarker at 0x7fe0d599d6a0>,\n",
       " <folium.vector_layers.CircleMarker at 0x7fe0d599d080>,\n",
       " <folium.vector_layers.CircleMarker at 0x7fe0d599d908>,\n",
       " <folium.vector_layers.CircleMarker at 0x7fe0d599d240>,\n",
       " <folium.vector_layers.CircleMarker at 0x7fe0d599d7f0>,\n",
       " <folium.vector_layers.CircleMarker at 0x7fe0d599dd68>,\n",
       " <folium.vector_layers.CircleMarker at 0x7fe0d599db70>,\n",
       " <folium.vector_layers.CircleMarker at 0x7fe0d5a4c160>,\n",
       " <folium.vector_layers.CircleMarker at 0x7fe0d5a08278>,\n",
       " <folium.vector_layers.CircleMarker at 0x7fe0d5a08fd0>,\n",
       " <folium.vector_layers.CircleMarker at 0x7fe0d5a08d30>,\n",
       " <folium.vector_layers.CircleMarker at 0x7fe0d59f34e0>,\n",
       " <folium.vector_layers.CircleMarker at 0x7fe0d59e0278>,\n",
       " <folium.vector_layers.CircleMarker at 0x7fe0d59e0e80>,\n",
       " <folium.vector_layers.CircleMarker at 0x7fe0d59f31d0>,\n",
       " <folium.vector_layers.CircleMarker at 0x7fe0d59b1080>,\n",
       " <folium.vector_layers.CircleMarker at 0x7fe0d59b1358>,\n",
       " <folium.vector_layers.CircleMarker at 0x7fe0d59b1400>,\n",
       " <folium.vector_layers.CircleMarker at 0x7fe0d59b1048>,\n",
       " <folium.vector_layers.CircleMarker at 0x7fe0d59e0e48>,\n",
       " <folium.vector_layers.CircleMarker at 0x7fe0d59f3d30>,\n",
       " <folium.vector_layers.CircleMarker at 0x7fe0d5a08358>,\n",
       " <folium.vector_layers.CircleMarker at 0x7fe0d5a087b8>,\n",
       " <folium.vector_layers.CircleMarker at 0x7fe0d5a087f0>,\n",
       " <folium.vector_layers.CircleMarker at 0x7fe0d599d898>,\n",
       " <folium.vector_layers.CircleMarker at 0x7fe0d599d2b0>,\n",
       " <folium.vector_layers.CircleMarker at 0x7fe0d599d3c8>,\n",
       " <folium.vector_layers.CircleMarker at 0x7fe0d599de48>,\n",
       " <folium.vector_layers.CircleMarker at 0x7fe0d599d780>,\n",
       " <folium.vector_layers.CircleMarker at 0x7fe0d599dfd0>,\n",
       " <folium.vector_layers.CircleMarker at 0x7fe0d599dbe0>,\n",
       " <folium.vector_layers.CircleMarker at 0x7fe0d59b1390>,\n",
       " <folium.vector_layers.CircleMarker at 0x7fe0d59b12e8>,\n",
       " <folium.vector_layers.CircleMarker at 0x7fe0d59b1550>,\n",
       " <folium.vector_layers.CircleMarker at 0x7fe0d59b1588>,\n",
       " <folium.vector_layers.CircleMarker at 0x7fe0d59b1470>,\n",
       " <folium.vector_layers.CircleMarker at 0x7fe0d59b1668>,\n",
       " <folium.vector_layers.CircleMarker at 0x7fe0d59b1710>,\n",
       " <folium.vector_layers.CircleMarker at 0x7fe0d59b17b8>,\n",
       " <folium.vector_layers.CircleMarker at 0x7fe0d59b1860>,\n",
       " <folium.vector_layers.CircleMarker at 0x7fe0d59b1908>,\n",
       " <folium.vector_layers.CircleMarker at 0x7fe0d599d4e0>,\n",
       " <folium.vector_layers.CircleMarker at 0x7fe0d599de80>,\n",
       " <folium.vector_layers.CircleMarker at 0x7fe0d599da20>,\n",
       " <folium.vector_layers.CircleMarker at 0x7fe0d59f3400>,\n",
       " <folium.vector_layers.CircleMarker at 0x7fe0d599d828>,\n",
       " <folium.vector_layers.CircleMarker at 0x7fe0d599d160>,\n",
       " <folium.vector_layers.CircleMarker at 0x7fe0d5a08be0>,\n",
       " <folium.vector_layers.CircleMarker at 0x7fe0d59b1748>,\n",
       " <folium.vector_layers.CircleMarker at 0x7fe0d59b1780>,\n",
       " <folium.vector_layers.CircleMarker at 0x7fe0d59b1630>,\n",
       " <folium.vector_layers.CircleMarker at 0x7fe0d59b1320>,\n",
       " <folium.vector_layers.CircleMarker at 0x7fe0d59b14e0>,\n",
       " <folium.vector_layers.CircleMarker at 0x7fe0d59b1160>,\n",
       " <folium.vector_layers.CircleMarker at 0x7fe0d59b19b0>,\n",
       " <folium.vector_layers.CircleMarker at 0x7fe0d59b1898>,\n",
       " <folium.vector_layers.CircleMarker at 0x7fe0d59b1ac8>,\n",
       " <folium.vector_layers.CircleMarker at 0x7fe0d59b1b00>,\n",
       " <folium.vector_layers.CircleMarker at 0x7fe0d59b1ba8>,\n",
       " <folium.vector_layers.CircleMarker at 0x7fe0d59b1c50>,\n",
       " <folium.vector_layers.CircleMarker at 0x7fe0d59b1cf8>,\n",
       " <folium.vector_layers.CircleMarker at 0x7fe0d59b1da0>,\n",
       " <folium.vector_layers.CircleMarker at 0x7fe0d59b1e48>,\n",
       " <folium.vector_layers.CircleMarker at 0x7fe0d59f3940>,\n",
       " <folium.vector_layers.CircleMarker at 0x7fe0d5a083c8>,\n",
       " <folium.vector_layers.CircleMarker at 0x7fe0d599dd30>,\n",
       " <folium.vector_layers.CircleMarker at 0x7fe0d599d5f8>,\n",
       " <folium.vector_layers.CircleMarker at 0x7fe0d599d4a8>,\n",
       " <folium.vector_layers.CircleMarker at 0x7fe0d59b1b38>,\n",
       " <folium.vector_layers.CircleMarker at 0x7fe0d59b1a58>,\n",
       " <folium.vector_layers.CircleMarker at 0x7fe0d59b12b0>,\n",
       " <folium.vector_layers.CircleMarker at 0x7fe0d59b10b8>,\n",
       " <folium.vector_layers.CircleMarker at 0x7fe0d59b17f0>,\n",
       " <folium.vector_layers.CircleMarker at 0x7fe0d59b15c0>,\n",
       " <folium.vector_layers.CircleMarker at 0x7fe0d59b15f8>,\n",
       " <folium.vector_layers.CircleMarker at 0x7fe0d59b1828>,\n",
       " <folium.vector_layers.CircleMarker at 0x7fe0d59b1ef0>,\n",
       " <folium.vector_layers.CircleMarker at 0x7fe0d59b1dd8>,\n",
       " <folium.vector_layers.CircleMarker at 0x7fe0d59b1e80>,\n",
       " <folium.vector_layers.CircleMarker at 0x7fe0d59b1f98>,\n",
       " <folium.vector_layers.CircleMarker at 0x7fe0d59c70b8>,\n",
       " <folium.vector_layers.CircleMarker at 0x7fe0d59c71d0>,\n",
       " <folium.vector_layers.CircleMarker at 0x7fe0d59c7278>,\n",
       " <folium.vector_layers.CircleMarker at 0x7fe0d59c7320>,\n",
       " <folium.vector_layers.CircleMarker at 0x7fe0d59c73c8>,\n",
       " <folium.vector_layers.CircleMarker at 0x7fe0d59f3e80>,\n",
       " <folium.vector_layers.CircleMarker at 0x7fe0d599dcc0>,\n",
       " <folium.vector_layers.CircleMarker at 0x7fe0d59b1f60>,\n",
       " <folium.vector_layers.CircleMarker at 0x7fe0d59b13c8>,\n",
       " <folium.vector_layers.CircleMarker at 0x7fe0d59b16d8>,\n",
       " <folium.vector_layers.CircleMarker at 0x7fe0d59b1128>,\n",
       " <folium.vector_layers.CircleMarker at 0x7fe0d59b1438>,\n",
       " <folium.vector_layers.CircleMarker at 0x7fe0d59b1d68>,\n",
       " <folium.vector_layers.CircleMarker at 0x7fe0d59b1940>,\n",
       " <folium.vector_layers.CircleMarker at 0x7fe0d5a08860>,\n",
       " <folium.vector_layers.CircleMarker at 0x7fe0d59b1eb8>,\n",
       " <folium.vector_layers.CircleMarker at 0x7fe0d59b1be0>,\n",
       " <folium.vector_layers.CircleMarker at 0x7fe0d59c7048>,\n",
       " <folium.vector_layers.CircleMarker at 0x7fe0d59c7080>,\n",
       " <folium.vector_layers.CircleMarker at 0x7fe0d59c74e0>,\n",
       " <folium.vector_layers.CircleMarker at 0x7fe0d59c7518>,\n",
       " <folium.vector_layers.CircleMarker at 0x7fe0d59c7400>,\n",
       " <folium.vector_layers.CircleMarker at 0x7fe0d59c75f8>,\n",
       " <folium.vector_layers.CircleMarker at 0x7fe0d59c76a0>,\n",
       " <folium.vector_layers.CircleMarker at 0x7fe0d59c7748>,\n",
       " <folium.vector_layers.CircleMarker at 0x7fe0d59c77f0>,\n",
       " <folium.vector_layers.CircleMarker at 0x7fe0d5a08d68>,\n",
       " <folium.vector_layers.CircleMarker at 0x7fe0d59b1cc0>,\n",
       " <folium.vector_layers.CircleMarker at 0x7fe0d59b19e8>,\n",
       " <folium.vector_layers.CircleMarker at 0x7fe0d59b1fd0>,\n",
       " <folium.vector_layers.CircleMarker at 0x7fe0d59b1208>,\n",
       " <folium.vector_layers.CircleMarker at 0x7fe0d599d358>,\n",
       " <folium.vector_layers.CircleMarker at 0x7fe0d599d9e8>,\n",
       " <folium.vector_layers.CircleMarker at 0x7fe0d59b1240>,\n",
       " <folium.vector_layers.CircleMarker at 0x7fe0d59c77b8>,\n",
       " <folium.vector_layers.CircleMarker at 0x7fe0d59c7668>,\n",
       " <folium.vector_layers.CircleMarker at 0x7fe0d59c72b0>,\n",
       " <folium.vector_layers.CircleMarker at 0x7fe0d59c7358>,\n",
       " <folium.vector_layers.CircleMarker at 0x7fe0d59c7128>,\n",
       " <folium.vector_layers.CircleMarker at 0x7fe0d59c7208>,\n",
       " <folium.vector_layers.CircleMarker at 0x7fe0d59c7780>,\n",
       " <folium.vector_layers.CircleMarker at 0x7fe0d59c79b0>,\n",
       " <folium.vector_layers.CircleMarker at 0x7fe0d59c79e8>,\n",
       " <folium.vector_layers.CircleMarker at 0x7fe0d59c7a90>,\n",
       " <folium.vector_layers.CircleMarker at 0x7fe0d59c7b38>,\n",
       " <folium.vector_layers.CircleMarker at 0x7fe0d59c7be0>,\n",
       " <folium.vector_layers.CircleMarker at 0x7fe0d59c7c88>,\n",
       " <folium.vector_layers.CircleMarker at 0x7fe0d59c7d30>,\n",
       " <folium.vector_layers.CircleMarker at 0x7fe0d599d2e8>,\n",
       " <folium.vector_layers.CircleMarker at 0x7fe0d5a08e48>,\n",
       " <folium.vector_layers.CircleMarker at 0x7fe0d59b1e10>,\n",
       " <folium.vector_layers.CircleMarker at 0x7fe0d59b1f28>,\n",
       " <folium.vector_layers.CircleMarker at 0x7fe0d59b18d0>,\n",
       " <folium.vector_layers.CircleMarker at 0x7fe0d59c7c50>,\n",
       " <folium.vector_layers.CircleMarker at 0x7fe0d59c7b00>,\n",
       " <folium.vector_layers.CircleMarker at 0x7fe0d59c7438>,\n",
       " <folium.vector_layers.CircleMarker at 0x7fe0d59c7978>,\n",
       " <folium.vector_layers.CircleMarker at 0x7fe0d59c7588>,\n",
       " <folium.vector_layers.CircleMarker at 0x7fe0d59c7470>,\n",
       " <folium.vector_layers.CircleMarker at 0x7fe0d59c7630>,\n",
       " <folium.vector_layers.CircleMarker at 0x7fe0d59c7710>,\n",
       " <folium.vector_layers.CircleMarker at 0x7fe0d59c7dd8>,\n",
       " <folium.vector_layers.CircleMarker at 0x7fe0d59c7cc0>,\n",
       " <folium.vector_layers.CircleMarker at 0x7fe0d59c7ef0>,\n",
       " <folium.vector_layers.CircleMarker at 0x7fe0d59c7f28>,\n",
       " <folium.vector_layers.CircleMarker at 0x7fe0d59c7fd0>,\n",
       " <folium.vector_layers.CircleMarker at 0x7fe0d59c7d68>,\n",
       " <folium.vector_layers.CircleMarker at 0x7fe0d595b0b8>,\n",
       " <folium.vector_layers.CircleMarker at 0x7fe0d595b198>,\n",
       " <folium.vector_layers.CircleMarker at 0x7fe0d595b2b0>,\n",
       " <folium.vector_layers.CircleMarker at 0x7fe0d59c7b70>,\n",
       " <folium.vector_layers.CircleMarker at 0x7fe0d59c7898>,\n",
       " <folium.vector_layers.CircleMarker at 0x7fe0d59c7198>,\n",
       " <folium.vector_layers.CircleMarker at 0x7fe0d59c7550>,\n",
       " <folium.vector_layers.CircleMarker at 0x7fe0d59c7390>,\n",
       " <folium.vector_layers.CircleMarker at 0x7fe0d59c78d0>,\n",
       " <folium.vector_layers.CircleMarker at 0x7fe0d59c7ac8>,\n",
       " <folium.vector_layers.CircleMarker at 0x7fe0d59c7ba8>,\n",
       " <folium.vector_layers.CircleMarker at 0x7fe0d59c7a58>,\n",
       " <folium.vector_layers.CircleMarker at 0x7fe0d59b1c18>,\n",
       " <folium.vector_layers.CircleMarker at 0x7fe0d59b16a0>,\n",
       " <folium.vector_layers.CircleMarker at 0x7fe0d59b1198>,\n",
       " <folium.vector_layers.CircleMarker at 0x7fe0d595b0f0>,\n",
       " <folium.vector_layers.CircleMarker at 0x7fe0d595b358>,\n",
       " <folium.vector_layers.CircleMarker at 0x7fe0d595b1d0>,\n",
       " <folium.vector_layers.CircleMarker at 0x7fe0d595b470>,\n",
       " <folium.vector_layers.CircleMarker at 0x7fe0d595b4a8>,\n",
       " <folium.vector_layers.CircleMarker at 0x7fe0d595b550>,\n",
       " <folium.vector_layers.CircleMarker at 0x7fe0d595b5f8>,\n",
       " <folium.vector_layers.CircleMarker at 0x7fe0d595b6a0>,\n",
       " <folium.vector_layers.CircleMarker at 0x7fe0d595b748>,\n",
       " <folium.vector_layers.CircleMarker at 0x7fe0d595b7f0>,\n",
       " <folium.vector_layers.CircleMarker at 0x7fe0d59b1a20>,\n",
       " <folium.vector_layers.CircleMarker at 0x7fe0d59b1d30>,\n",
       " <folium.vector_layers.CircleMarker at 0x7fe0d59c7a20>,\n",
       " <folium.vector_layers.CircleMarker at 0x7fe0d59c7c18>,\n",
       " <folium.vector_layers.CircleMarker at 0x7fe0d59c7240>,\n",
       " <folium.vector_layers.CircleMarker at 0x7fe0d59c75c0>,\n",
       " <folium.vector_layers.CircleMarker at 0x7fe0d59c7e80>,\n",
       " <folium.vector_layers.CircleMarker at 0x7fe0d59c7f98>,\n",
       " <folium.vector_layers.CircleMarker at 0x7fe0d595b4e0>,\n",
       " <folium.vector_layers.CircleMarker at 0x7fe0d595b400>,\n",
       " <folium.vector_layers.CircleMarker at 0x7fe0d595b278>,\n",
       " <folium.vector_layers.CircleMarker at 0x7fe0d595b160>,\n",
       " <folium.vector_layers.CircleMarker at 0x7fe0d595b048>,\n",
       " <folium.vector_layers.CircleMarker at 0x7fe0d595b898>,\n",
       " <folium.vector_layers.CircleMarker at 0x7fe0d595b780>,\n",
       " <folium.vector_layers.CircleMarker at 0x7fe0d595b9b0>,\n",
       " <folium.vector_layers.CircleMarker at 0x7fe0d595b9e8>,\n",
       " <folium.vector_layers.CircleMarker at 0x7fe0d595ba90>,\n",
       " <folium.vector_layers.CircleMarker at 0x7fe0d595bb38>,\n",
       " <folium.vector_layers.CircleMarker at 0x7fe0d595bbe0>,\n",
       " <folium.vector_layers.CircleMarker at 0x7fe0d595bc88>,\n",
       " <folium.vector_layers.CircleMarker at 0x7fe0d595bd30>,\n",
       " <folium.vector_layers.CircleMarker at 0x7fe0d59c74a8>,\n",
       " <folium.vector_layers.CircleMarker at 0x7fe0d59c70f0>,\n",
       " <folium.vector_layers.CircleMarker at 0x7fe0d59b1a90>,\n",
       " <folium.vector_layers.CircleMarker at 0x7fe0d59c7cf8>,\n",
       " <folium.vector_layers.CircleMarker at 0x7fe0d59c7e10>,\n",
       " <folium.vector_layers.CircleMarker at 0x7fe0d595ba20>,\n",
       " <folium.vector_layers.CircleMarker at 0x7fe0d595b940>,\n",
       " <folium.vector_layers.CircleMarker at 0x7fe0d595b240>,\n",
       " <folium.vector_layers.CircleMarker at 0x7fe0d595b390>,\n",
       " <folium.vector_layers.CircleMarker at 0x7fe0d595b6d8>,\n",
       " <folium.vector_layers.CircleMarker at 0x7fe0d595b668>,\n",
       " <folium.vector_layers.CircleMarker at 0x7fe0d595b3c8>,\n",
       " <folium.vector_layers.CircleMarker at 0x7fe0d595b588>,\n",
       " <folium.vector_layers.CircleMarker at 0x7fe0d595bdd8>,\n",
       " <folium.vector_layers.CircleMarker at 0x7fe0d595bcc0>,\n",
       " <folium.vector_layers.CircleMarker at 0x7fe0d595bef0>,\n",
       " <folium.vector_layers.CircleMarker at 0x7fe0d595bf28>,\n",
       " <folium.vector_layers.CircleMarker at 0x7fe0d595bfd0>,\n",
       " <folium.vector_layers.CircleMarker at 0x7fe0d595bd68>,\n",
       " <folium.vector_layers.CircleMarker at 0x7fe0d596f0f0>,\n",
       " <folium.vector_layers.CircleMarker at 0x7fe0d596f208>,\n",
       " <folium.vector_layers.CircleMarker at 0x7fe0d596f2b0>,\n",
       " <folium.vector_layers.CircleMarker at 0x7fe0d59b1c88>,\n",
       " <folium.vector_layers.CircleMarker at 0x7fe0d595bf98>,\n",
       " <folium.vector_layers.CircleMarker at 0x7fe0d595b5c0>,\n",
       " <folium.vector_layers.CircleMarker at 0x7fe0d595bc18>,\n",
       " <folium.vector_layers.CircleMarker at 0x7fe0d595b8d0>,\n",
       " <folium.vector_layers.CircleMarker at 0x7fe0d595b128>,\n",
       " <folium.vector_layers.CircleMarker at 0x7fe0d595bba8>,\n",
       " <folium.vector_layers.CircleMarker at 0x7fe0d595b908>,\n",
       " <folium.vector_layers.CircleMarker at 0x7fe0d595bac8>,\n",
       " <folium.vector_layers.CircleMarker at 0x7fe0d595bb00>,\n",
       " <folium.vector_layers.CircleMarker at 0x7fe0d59c7e48>,\n",
       " <folium.vector_layers.CircleMarker at 0x7fe0d59c7940>,\n",
       " <folium.vector_layers.CircleMarker at 0x7fe0d59c7eb8>,\n",
       " <folium.vector_layers.CircleMarker at 0x7fe0d596f0b8>,\n",
       " <folium.vector_layers.CircleMarker at 0x7fe0d596f3c8>,\n",
       " <folium.vector_layers.CircleMarker at 0x7fe0d596f400>,\n",
       " <folium.vector_layers.CircleMarker at 0x7fe0d596f2e8>,\n",
       " <folium.vector_layers.CircleMarker at 0x7fe0d596f4e0>,\n",
       " <folium.vector_layers.CircleMarker at 0x7fe0d596f588>,\n",
       " <folium.vector_layers.CircleMarker at 0x7fe0d596f630>,\n",
       " <folium.vector_layers.CircleMarker at 0x7fe0d596f6d8>,\n",
       " <folium.vector_layers.CircleMarker at 0x7fe0d59c7160>,\n",
       " <folium.vector_layers.CircleMarker at 0x7fe0d59c7828>,\n",
       " <folium.vector_layers.CircleMarker at 0x7fe0d595ba58>,\n",
       " <folium.vector_layers.CircleMarker at 0x7fe0d595b518>,\n",
       " <folium.vector_layers.CircleMarker at 0x7fe0d595b208>,\n",
       " <folium.vector_layers.CircleMarker at 0x7fe0d59b1518>,\n",
       " <folium.vector_layers.CircleMarker at 0x7fe0d595b080>,\n",
       " <folium.vector_layers.CircleMarker at 0x7fe0d595be48>,\n",
       " <folium.vector_layers.CircleMarker at 0x7fe0d595b438>,\n",
       " <folium.vector_layers.CircleMarker at 0x7fe0d596f1d0>,\n",
       " <folium.vector_layers.CircleMarker at 0x7fe0d596f390>,\n",
       " <folium.vector_layers.CircleMarker at 0x7fe0d596f470>,\n",
       " <folium.vector_layers.CircleMarker at 0x7fe0d596f358>,\n",
       " <folium.vector_layers.CircleMarker at 0x7fe0d596f080>,\n",
       " <folium.vector_layers.CircleMarker at 0x7fe0d596f668>,\n",
       " <folium.vector_layers.CircleMarker at 0x7fe0d596f898>,\n",
       " <folium.vector_layers.CircleMarker at 0x7fe0d596f8d0>,\n",
       " <folium.vector_layers.CircleMarker at 0x7fe0d596f978>,\n",
       " <folium.vector_layers.CircleMarker at 0x7fe0d596fa20>,\n",
       " <folium.vector_layers.CircleMarker at 0x7fe0d596fac8>,\n",
       " <folium.vector_layers.CircleMarker at 0x7fe0d596fb70>,\n",
       " <folium.vector_layers.CircleMarker at 0x7fe0d596fc18>,\n",
       " <folium.vector_layers.CircleMarker at 0x7fe0d595bc50>,\n",
       " <folium.vector_layers.CircleMarker at 0x7fe0d595bcf8>,\n",
       " <folium.vector_layers.CircleMarker at 0x7fe0d595b710>]"
      ]
     },
     "execution_count": 20,
     "metadata": {},
     "output_type": "execute_result"
    }
   ],
   "source": [
    "trip_markers = markers_from_trips(cleaned_trips)\n",
    "\n",
    "trip_markers"
   ]
  },
  {
   "cell_type": "code",
   "execution_count": 21,
   "metadata": {},
   "outputs": [
    {
     "data": {
      "text/plain": [
       "[{'trip_distance': 18.38,\n",
       "  'pickup_latitude': 40.64499,\n",
       "  'pickup_longitude': -73.78115},\n",
       " {'trip_distance': 1.3,\n",
       "  'pickup_latitude': 40.766931,\n",
       "  'pickup_longitude': -73.982098},\n",
       " {'trip_distance': 4.5,\n",
       "  'pickup_latitude': 40.77773,\n",
       "  'pickup_longitude': -73.951902},\n",
       " {'trip_distance': 2.4,\n",
       "  'pickup_latitude': 40.795678,\n",
       "  'pickup_longitude': -73.971049}]"
      ]
     },
     "execution_count": 21,
     "metadata": {},
     "output_type": "execute_result"
    }
   ],
   "source": [
    "cleaned_trips[0:4]"
   ]
  },
  {
   "cell_type": "code",
   "execution_count": 21,
   "metadata": {},
   "outputs": [
    {
     "data": {
      "text/plain": [
       "[[40.64499, -73.78115],\n",
       " [40.766931, -73.982098],\n",
       " [40.77773, -73.951902],\n",
       " [40.795678, -73.971049]]"
      ]
     },
     "execution_count": 21,
     "metadata": {},
     "output_type": "execute_result"
    }
   ],
   "source": [
    "trip_markers and len(trip_markers) # 1000\n",
    "\n",
    "list(map(lambda marker: marker.location, trip_markers[0:4]))\n",
    "# [[40.64499, -73.78115],\n",
    "#  [40.766931, -73.982098],\n",
    "#  [40.77773, -73.951902],\n",
    "#  [40.795678, -73.971049]]"
   ]
  },
  {
   "cell_type": "markdown",
   "metadata": {},
   "source": [
    "Ok, now that we have a function that creates locations, and a function that creates markers, it is time to write a function to plot a map. \n",
    "\n",
    "Write a function called `map_from` that, provided the first argument of a list location and second argument an integer representing the `zoom_start`, returns a `folium` map the corresponding location and `zoom_start` attributes.\n",
    "\n",
    "> Hint: The following is how to write a map with folium:\n",
    "> ```python \n",
    "    folium.Map(location=location, zoom_start=zoom_amount)\n",
    "> ```"
   ]
  },
  {
   "cell_type": "code",
   "execution_count": 22,
   "metadata": {},
   "outputs": [],
   "source": [
    "def map_from(location, zoom_amount):\n",
    "    return folium.Map(location = location, zoom_start = zoom_amount)"
   ]
  },
  {
   "cell_type": "code",
   "execution_count": 23,
   "metadata": {},
   "outputs": [
    {
     "data": {
      "text/plain": [
       "15"
      ]
     },
     "execution_count": 23,
     "metadata": {},
     "output_type": "execute_result"
    }
   ],
   "source": [
    "times_square_map = map_from([40.7589, -73.9851], 15)\n",
    "times_square_map and times_square_map.location # [40.7589, -73.9851]\n",
    "times_square_map and times_square_map.zoom_start # 15"
   ]
  },
  {
   "cell_type": "code",
   "execution_count": 24,
   "metadata": {
    "scrolled": true
   },
   "outputs": [
    {
     "data": {
      "text/html": [
       "<div style=\"width:100%;\"><div style=\"position:relative;width:100%;height:0;padding-bottom:60%;\"><iframe src=\"data:text/html;charset=utf-8;base64,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\" style=\"position:absolute;width:100%;height:100%;left:0;top:0;border:none !important;\" allowfullscreen webkitallowfullscreen mozallowfullscreen></iframe></div></div>"
      ],
      "text/plain": [
       "<folium.folium.Map at 0x7fe0d59c7f60>"
      ]
     },
     "execution_count": 24,
     "metadata": {},
     "output_type": "execute_result"
    }
   ],
   "source": [
    "times_square_marker and times_square_marker.add_to(times_square_map)\n",
    "times_square_map"
   ]
  },
  {
   "cell_type": "markdown",
   "metadata": {},
   "source": [
    "Now that we have a marker and a map, now let's write a function that adds a lot of markers to a map.  This function should add each marker in the list to the map object then return the updated map object."
   ]
  },
  {
   "cell_type": "code",
   "execution_count": 29,
   "metadata": {},
   "outputs": [
    {
     "data": {
      "text/html": [
       "<div style=\"width:100%;\"><div style=\"position:relative;width:100%;height:0;padding-bottom:60%;\"><iframe src=\"data:text/html;charset=utf-8;base64,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\" style=\"position:absolute;width:100%;height:100%;left:0;top:0;border:none !important;\" allowfullscreen webkitallowfullscreen mozallowfullscreen></iframe></div></div>"
      ],
      "text/plain": [
       "<folium.folium.Map at 0x7fe0d5985b00>"
      ]
     },
     "execution_count": 29,
     "metadata": {},
     "output_type": "execute_result"
    }
   ],
   "source": [
    "manhattan_map = map_from([40.7589, -73.9851], 13)\n",
    "\n",
    "manhattan_map"
   ]
  },
  {
   "cell_type": "code",
   "execution_count": 30,
   "metadata": {},
   "outputs": [],
   "source": [
    "def add_markers(markers, map_obj):\n",
    "    map(lambda marker: marker.add_to(map_obj), markers)\n",
    "    return map_obj"
   ]
  },
  {
   "cell_type": "code",
   "execution_count": 31,
   "metadata": {
    "scrolled": false
   },
   "outputs": [],
   "source": [
    "map_with_markers = add_markers(trip_markers, manhattan_map)\n"
   ]
  },
  {
   "cell_type": "code",
   "execution_count": 32,
   "metadata": {},
   "outputs": [
    {
     "data": {
      "text/html": [
       "<div style=\"width:100%;\"><div style=\"position:relative;width:100%;height:0;padding-bottom:60%;\"><iframe src=\"data:text/html;charset=utf-8;base64,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\" style=\"position:absolute;width:100%;height:100%;left:0;top:0;border:none !important;\" allowfullscreen webkitallowfullscreen mozallowfullscreen></iframe></div></div>"
      ],
      "text/plain": [
       "<folium.folium.Map at 0x7fe0d5985b00>"
      ]
     },
     "execution_count": 32,
     "metadata": {},
     "output_type": "execute_result"
    }
   ],
   "source": [
    "map_with_markers\n",
    "\n"
   ]
  },
  {
   "cell_type": "markdown",
   "metadata": {},
   "source": [
    "### Using Nearest Neighbors"
   ]
  },
  {
   "cell_type": "markdown",
   "metadata": {},
   "source": [
    "Ok, let's write a function that given a latitude and longitude will predict the distance for us.  We'll do this by first finding the nearest trips given a latitude and longitude. "
   ]
  },
  {
   "cell_type": "markdown",
   "metadata": {},
   "source": [
    "Here we once again apply the nearest neighbors formula. As a first step, write a function named `distance_location` that calculates the distance in pickup location between two trips."
   ]
  },
  {
   "cell_type": "code",
   "execution_count": 33,
   "metadata": {},
   "outputs": [],
   "source": [
    "import math\n",
    "\n",
    "def distance_location(selected_trip, neighbor_trip):\n",
    "    lat_distance = abs(selected_trip['pickup_latitude'] - neighbor_trip['pickup_latitude'])\n",
    "    long_distance = abs(selected_trip['pickup_longitude'] - neighbor_trip['pickup_longitude'])\n",
    "    distance_squared = lat_distance**2 + long_distance**2\n",
    "    return math.sqrt(distance_squared)"
   ]
  },
  {
   "cell_type": "code",
   "execution_count": 34,
   "metadata": {},
   "outputs": [
    {
     "data": {
      "text/plain": [
       "0.235"
      ]
     },
     "execution_count": 34,
     "metadata": {},
     "output_type": "execute_result"
    }
   ],
   "source": [
    "first_trip = {'pickup_latitude': 40.64499, 'pickup_longitude': -73.78115, 'trip_distance': 18.38}\n",
    "second_trip = {'pickup_latitude': 40.766931, 'pickup_longitude': -73.982098, 'trip_distance': 1.3}\n",
    "distance_first_and_second = distance_location(first_trip, second_trip)\n",
    "\n",
    "distance_first_and_second and round(distance_first_and_second, 3) # 0.235"
   ]
  },
  {
   "cell_type": "markdown",
   "metadata": {},
   "source": [
    "Ok, next write a function called `distance_between_neighbors` that adds a new key-value pair, called `distance_from_selected`, that calculates the distance of the `neighbor_trip` from the `selected_trip`."
   ]
  },
  {
   "cell_type": "code",
   "execution_count": 35,
   "metadata": {},
   "outputs": [],
   "source": [
    "def distance_between_neighbors(selected_trip, neighbor_trip):\n",
    "    neighbor_trip['distance_from_selected'] = distance_location(selected_trip, neighbor_trip)\n",
    "    return neighbor_trip"
   ]
  },
  {
   "cell_type": "code",
   "execution_count": 36,
   "metadata": {},
   "outputs": [
    {
     "data": {
      "text/plain": [
       "{'pickup_latitude': 40.766931,\n",
       " 'pickup_longitude': -73.982098,\n",
       " 'trip_distance': 1.3,\n",
       " 'distance_from_selected': 0.23505256047318146}"
      ]
     },
     "execution_count": 36,
     "metadata": {},
     "output_type": "execute_result"
    }
   ],
   "source": [
    "distance_between_neighbors(first_trip, second_trip)\n",
    "\n",
    "# {'distance_from_selected': 0.23505256047318146,\n",
    "#  'pickup_latitude': 40.766931,\n",
    "#  'pickup_longitude': -73.982098,\n",
    "#  'trip_distance': 1.3}"
   ]
  },
  {
   "cell_type": "markdown",
   "metadata": {},
   "source": [
    "Ok, now our `neighbor_trip` has another attribute called `distance_from_selected`, that indicates the distance from the `neighbor_trip`'s pickup location from the `selected_trip`."
   ]
  },
  {
   "cell_type": "markdown",
   "metadata": {},
   "source": [
    "> ** Understand the data:** Our dictionary now has a few attributes, two of which say distance.  Let's make sure we understand the difference. \n",
    "> * **`distance_from_selected`:** This is our calculation of the distance of the neighbor's pickup location from the selected trip.\n",
    "> * **`trip_distance`:** This is the attribute we were provided initially.  It tells us the length of the neighbor's taxi trip from pickup to drop-off.  "
   ]
  },
  {
   "cell_type": "markdown",
   "metadata": {},
   "source": [
    "Next, write a function called `distance_all` that provided a list of neighbors, returns each of those neighbors with their respective `distance_from_selected` numbers."
   ]
  },
  {
   "cell_type": "code",
   "execution_count": 37,
   "metadata": {},
   "outputs": [],
   "source": [
    "def distance_all(selected_individual, neighbors):\n",
    "    return list(map(lambda neighbor: distance_between_neighbors(selected_individual, neighbor),neighbors))"
   ]
  },
  {
   "cell_type": "code",
   "execution_count": 38,
   "metadata": {},
   "outputs": [
    {
     "data": {
      "text/plain": [
       "[{'trip_distance': 18.38,\n",
       "  'pickup_latitude': 40.64499,\n",
       "  'pickup_longitude': -73.78115,\n",
       "  'distance_from_selected': 0.0},\n",
       " {'trip_distance': 1.3,\n",
       "  'pickup_latitude': 40.766931,\n",
       "  'pickup_longitude': -73.982098,\n",
       "  'distance_from_selected': 0.23505256047318146},\n",
       " {'trip_distance': 4.5,\n",
       "  'pickup_latitude': 40.77773,\n",
       "  'pickup_longitude': -73.951902,\n",
       "  'distance_from_selected': 0.2162779533470808},\n",
       " {'trip_distance': 2.4,\n",
       "  'pickup_latitude': 40.795678,\n",
       "  'pickup_longitude': -73.971049,\n",
       "  'distance_from_selected': 0.24242215976473674}]"
      ]
     },
     "execution_count": 38,
     "metadata": {},
     "output_type": "execute_result"
    }
   ],
   "source": [
    "cleaned_trips and distance_all(first_trip, cleaned_trips[0:4])"
   ]
  },
  {
   "cell_type": "markdown",
   "metadata": {},
   "source": [
    "Now write the nearest neighbors formula to calculate the distance of the `selected_trip` from all of the `cleaned_trips` in our dataset.  If no number is provided, it should return the top 3 neighbors."
   ]
  },
  {
   "cell_type": "code",
   "execution_count": null,
   "metadata": {},
   "outputs": [],
   "source": [
    "def nearest_neighbors(selected_trip, trips, number = 3):\n",
    "    neighbor_distances = distance_all(selected_trip, trips)\n",
    "    sorted_neighbors = sorted(neighbor_distances, key=lambda neighbor: neighbor[distance_from_selected])"
   ]
  },
  {
   "cell_type": "code",
   "execution_count": null,
   "metadata": {},
   "outputs": [],
   "source": [
    "new_trip = {'pickup_latitude': 40.64499,\n",
    "'pickup_longitude': -73.78115,\n",
    "'trip_distance': 18.38}\n",
    "\n",
    "nearest_three_neighbors = nearest_neighbors(new_trip, cleaned_trips or [], number = 3)\n",
    "nearest_three_neighbors\n",
    "# [{'distance_from_selected': 0.0004569288784918792,\n",
    "#   'pickup_latitude': 40.64483,\n",
    "#   'pickup_longitude': -73.781578,\n",
    "#   'trip_distance': 7.78},\n",
    "#  {'distance_from_selected': 0.0011292165425673159,\n",
    "#   'pickup_latitude': 40.644657,\n",
    "#   'pickup_longitude': -73.782229,\n",
    "#   'trip_distance': 12.7},\n",
    "#  {'distance_from_selected': 0.0042359798158141185,\n",
    "#   'pickup_latitude': 40.648509,\n",
    "#   'pickup_longitude': -73.783508,\n",
    "#   'trip_distance': 17.3}]"
   ]
  },
  {
   "cell_type": "markdown",
   "metadata": {},
   "source": [
    "Ok great! Now that we can provide a new trip location, and find the distances of the three nearest trips, we can take  calculate an estimate of the trip distance for that new trip location.  \n",
    "\n",
    "We do so simply by calculating the average of it's nearest neighbors."
   ]
  },
  {
   "cell_type": "code",
   "execution_count": null,
   "metadata": {},
   "outputs": [],
   "source": [
    "import statistics\n",
    "def mean_distance(neighbors):\n",
    "    nearest_distances = list(map(lambda neighbor: neighbor['trip_distance'], neighbors))\n",
    "    return round(statistics.mean(nearest_distances), 3)\n",
    "\n",
    "nearest_three_neighbors = nearest_neighbors(new_trip, cleaned_trips or [], number = 3)\n",
    "distance_estimate_of_selected_trip = mean_distance(nearest_three_neighbors) # 12.593\n",
    "distance_estimate_of_selected_trip"
   ]
  },
  {
   "cell_type": "markdown",
   "metadata": {},
   "source": [
    "### Choosing the correct number of neighbors"
   ]
  },
  {
   "cell_type": "markdown",
   "metadata": {},
   "source": [
    "Now, as we know from the last lesson, one tricky element is to determine how many neighbors to choose, our $k$ value,  before calculating the average.  We want to choose our value of $k$ such that it properly matches actual data, and so that it applies to new data.  There are fancy formulas to ensure that we **train** our algorithm so that our formula is optimized for all data, but here let's see different $k$ values manually.  This is the gist of choosing our $k$ value:\n",
    "\n",
    "* If we choose a $k$ value too low, our formula will be too heavily influenced by a single neighbor, whereas if our $k$ value is too high, we will be choosing so many neighbors that our nearest neighbors formula will not be adjust enough according to locations.\n",
    "\n",
    "Ok, let's experiment with this."
   ]
  },
  {
   "cell_type": "markdown",
   "metadata": {},
   "source": [
    "First, let's choose a midtown location, to see what the trip distance would be.  A Google search reveals the coordinates of 51st and 7th avenue to be the following."
   ]
  },
  {
   "cell_type": "code",
   "execution_count": null,
   "metadata": {},
   "outputs": [],
   "source": [
    "midtown_trip = dict(pickup_latitude=40.761710, pickup_longitude=-73.982760)"
   ]
  },
  {
   "cell_type": "code",
   "execution_count": null,
   "metadata": {},
   "outputs": [],
   "source": [
    "seven_closest = nearest_neighbors(midtown_trip, cleaned_trips, number = 7)\n",
    "seven_closest\n",
    "# [{'trip_distance': 0.58,\n",
    "#   'pickup_latitude': 40.761372,\n",
    "#   'pickup_longitude': -73.982602,\n",
    "#   'distance_from_selected': 0.00037310588309379025},\n",
    "#  {'trip_distance': 0.8,\n",
    "#   'pickup_latitude': 40.762444,\n",
    "#   'pickup_longitude': -73.98244,\n",
    "#   'distance_from_selected': 0.00080072217404248},\n",
    "#  {'trip_distance': 1.4,\n",
    "#   'pickup_latitude': 40.762767,\n",
    "#   'pickup_longitude': -73.982293,\n",
    "#   'distance_from_selected': 0.0011555682584735844},\n",
    "#  {'trip_distance': 8.3,\n",
    "#   'pickup_latitude': 40.762868,\n",
    "#   'pickup_longitude': -73.983233,\n",
    "#   'distance_from_selected': 0.0012508768924205918},\n",
    "#  {'trip_distance': 1.26,\n",
    "#   'pickup_latitude': 40.760057,\n",
    "#   'pickup_longitude': -73.983502,\n",
    "#   'distance_from_selected': 0.0018118976240381972},\n",
    "#  {'trip_distance': 0.0,\n",
    "#   'pickup_latitude': 40.760644,\n",
    "#   'pickup_longitude': -73.984531,\n",
    "#   'distance_from_selected': 0.002067074502774709},\n",
    "#  {'trip_distance': 1.72,\n",
    "#   'pickup_latitude': 40.762107,\n",
    "#   'pickup_longitude': -73.98479,\n",
    "#   'distance_from_selected': 0.0020684557041472677}]"
   ]
  },
  {
   "cell_type": "markdown",
   "metadata": {},
   "source": [
    "Looking at the `distance_from_selected` it appears that our our trips are still fairly close to our selected trip.  Notice that most of the data is within a distance of .002 away, so going to the top 7 nearest neighbors didn't seem to give us neighbors too far from each other, which is a good sign.\n",
    "\n",
    "Still, it's hard to know what distance in latitude and longitude really look like, so let's map the data. "
   ]
  },
  {
   "cell_type": "code",
   "execution_count": null,
   "metadata": {},
   "outputs": [],
   "source": [
    "midtown_location = location(midtown_trip) # [40.76171, -73.98276]\n",
    "midtown_map = map_from(midtown_location, 16)\n",
    "closest_markers = markers_from_trips(seven_closest)\n",
    "\n",
    "add_markers(closest_markers, midtown_map)"
   ]
  },
  {
   "cell_type": "markdown",
   "metadata": {},
   "source": [
    "Ok.  These locations stay fairly close to our estimated location of 51st street and 7th Avenue.  So they could be a good estimate of a trip distance."
   ]
  },
  {
   "cell_type": "code",
   "execution_count": null,
   "metadata": {},
   "outputs": [],
   "source": [
    "mean_distance(seven_closest) # 2.009"
   ]
  },
  {
   "cell_type": "markdown",
   "metadata": {},
   "source": [
    "Ok, now let's try a different location"
   ]
  },
  {
   "cell_type": "code",
   "execution_count": null,
   "metadata": {},
   "outputs": [],
   "source": [
    "charging_bull_closest = nearest_neighbors({'pickup_latitude': 40.7049, 'pickup_longitude': -74.0137}, cleaned_trips, number = 12)"
   ]
  },
  {
   "cell_type": "code",
   "execution_count": null,
   "metadata": {
    "scrolled": true
   },
   "outputs": [],
   "source": [
    "mean_distance(charging_bull_closest) # 3.145"
   ]
  },
  {
   "cell_type": "markdown",
   "metadata": {},
   "source": [
    "Ok, so there appears to be a significant difference between choosing a location near Times Square versus choosing a location at Wall Street."
   ]
  },
  {
   "cell_type": "markdown",
   "metadata": {},
   "source": [
    "### Summary"
   ]
  },
  {
   "cell_type": "markdown",
   "metadata": {},
   "source": [
    "In this lab, we used the nearest neighbors function to predict the length of a taxi ride.  To do so, we selected a location, then found a number of taxi rides closest to that location, and finally took the average trip lengths of the nearest taxi rides to find an estimate of the new ride's trip length.  You can see that even with just a little bit of math and programming we can begin to make meaningful predictions with data."
   ]
  }
 ],
 "metadata": {
  "kernelspec": {
   "display_name": "Python 3",
   "language": "python",
   "name": "python3"
  },
  "language_info": {
   "codemirror_mode": {
    "name": "ipython",
    "version": 3
   },
   "file_extension": ".py",
   "mimetype": "text/x-python",
   "name": "python",
   "nbconvert_exporter": "python",
   "pygments_lexer": "ipython3",
   "version": "3.6.6"
  }
 },
 "nbformat": 4,
 "nbformat_minor": 2
}
